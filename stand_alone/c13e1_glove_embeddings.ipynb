{
 "cells": [
  {
   "cell_type": "code",
   "execution_count": 1,
   "metadata": {},
   "outputs": [
    {
     "data": {
      "text/plain": [
       "'\\nThe MIT License (MIT)\\nCopyright (c) 2021 NVIDIA\\nPermission is hereby granted, free of charge, to any person obtaining a copy of\\nthis software and associated documentation files (the \"Software\"), to deal in\\nthe Software without restriction, including without limitation the rights to\\nuse, copy, modify, merge, publish, distribute, sublicense, and/or sell copies of\\nthe Software, and to permit persons to whom the Software is furnished to do so,\\nsubject to the following conditions:\\nThe above copyright notice and this permission notice shall be included in all\\ncopies or substantial portions of the Software.\\nTHE SOFTWARE IS PROVIDED \"AS IS\", WITHOUT WARRANTY OF ANY KIND, EXPRESS OR\\nIMPLIED, INCLUDING BUT NOT LIMITED TO THE WARRANTIES OF MERCHANTABILITY, FITNESS\\nFOR A PARTICULAR PURPOSE AND NONINFRINGEMENT. IN NO EVENT SHALL THE AUTHORS OR\\nCOPYRIGHT HOLDERS BE LIABLE FOR ANY CLAIM, DAMAGES OR OTHER LIABILITY, WHETHER\\nIN AN ACTION OF CONTRACT, TORT OR OTHERWISE, ARISING FROM, OUT OF OR IN\\nCONNECTION WITH THE SOFTWARE OR THE USE OR OTHER DEALINGS IN THE SOFTWARE.\\n'"
      ]
     },
     "execution_count": 1,
     "metadata": {},
     "output_type": "execute_result"
    }
   ],
   "source": [
    "\"\"\"\n",
    "The MIT License (MIT)\n",
    "Copyright (c) 2021 NVIDIA\n",
    "Permission is hereby granted, free of charge, to any person obtaining a copy of\n",
    "this software and associated documentation files (the \"Software\"), to deal in\n",
    "the Software without restriction, including without limitation the rights to\n",
    "use, copy, modify, merge, publish, distribute, sublicense, and/or sell copies of\n",
    "the Software, and to permit persons to whom the Software is furnished to do so,\n",
    "subject to the following conditions:\n",
    "The above copyright notice and this permission notice shall be included in all\n",
    "copies or substantial portions of the Software.\n",
    "THE SOFTWARE IS PROVIDED \"AS IS\", WITHOUT WARRANTY OF ANY KIND, EXPRESS OR\n",
    "IMPLIED, INCLUDING BUT NOT LIMITED TO THE WARRANTIES OF MERCHANTABILITY, FITNESS\n",
    "FOR A PARTICULAR PURPOSE AND NONINFRINGEMENT. IN NO EVENT SHALL THE AUTHORS OR\n",
    "COPYRIGHT HOLDERS BE LIABLE FOR ANY CLAIM, DAMAGES OR OTHER LIABILITY, WHETHER\n",
    "IN AN ACTION OF CONTRACT, TORT OR OTHERWISE, ARISING FROM, OUT OF OR IN\n",
    "CONNECTION WITH THE SOFTWARE OR THE USE OR OTHER DEALINGS IN THE SOFTWARE.\n",
    "\"\"\"\n"
   ]
  },
  {
   "cell_type": "markdown",
   "metadata": {},
   "source": [
    "This code example explores properties of GloVe word embeddings and word vector arithmetics. More context for this code example can be found in the section \"Programming Example: Exploring Properties of GloVe Embeddings\" in Chapter 13 in the book Learning Deep Learning by Magnus Ekman (ISBN: 9780137470358).\n"
   ]
  },
  {
   "cell_type": "markdown",
   "metadata": {},
   "source": [
    "The first code snippet contains two import statements and a function to read the embeddings. The function simply opens the file and reads it line by line. It splits each line into its elements. It extracts the first element, which represents the word itself, and then creates a vector from the remaining elements and inserts the word and the corresponding vector into a dictionary, which serves as the return value of the function. The embeddings are assumed to be in the file ../data/glove.6B.100d.txt.\n"
   ]
  },
  {
   "cell_type": "code",
   "execution_count": 2,
   "metadata": {},
   "outputs": [],
   "source": [
    "import numpy as np\n",
    "import scipy.spatial\n",
    "\n",
    "# Read embeddings from file.\n",
    "def read_embeddings():\n",
    "    FILE_NAME = '../data/glove.6B.100d.txt'\n",
    "    embeddings = {}\n",
    "    file = open(FILE_NAME, 'r', encoding='utf-8')\n",
    "    for line in file:\n",
    "        values = line.split()\n",
    "        word = values[0]\n",
    "        vector = np.asarray(values[1:],\n",
    "                            dtype='float32')\n",
    "        embeddings[word] = vector\n",
    "    file.close()\n",
    "    print('Read %s embeddings.' % len(embeddings))\n",
    "    return embeddings\n"
   ]
  },
  {
   "cell_type": "markdown",
   "metadata": {},
   "source": [
    "The next code snippet implements a function that computes the cosine distance between a specific embedding and all other embeddings. It then prints the n closest ones. Euclidean distance would also have worked fine, but the results would sometimes be different because the GloVe vectors are not normalized (see book for further information).\n"
   ]
  },
  {
   "cell_type": "code",
   "execution_count": 3,
   "metadata": {},
   "outputs": [],
   "source": [
    "def print_n_closest(embeddings, vec0, n):\n",
    "    word_distances = {}\n",
    "    for (word, vec1) in embeddings.items():\n",
    "        distance = scipy.spatial.distance.cosine(\n",
    "            vec1, vec0)\n",
    "        word_distances[distance] = word\n",
    "    # Print words sorted by distance.\n",
    "    for distance in sorted(word_distances.keys())[:n]:\n",
    "        word = word_distances[distance]\n",
    "        print(word + ': %6.3f' % distance)\n"
   ]
  },
  {
   "cell_type": "markdown",
   "metadata": {},
   "source": [
    "Using these two functions, we can now retrieve word embeddings for arbitrary words and print out words that have similar embeddings. This is shown below, where we first read call read_embeddings() and then retrieve the embeddings for hello, precisely, and dog and call print_n_closest() on each of them.\n"
   ]
  },
  {
   "cell_type": "code",
   "execution_count": 7,
   "metadata": {},
   "outputs": [
    {
     "name": "stdout",
     "output_type": "stream",
     "text": [
      "Read 400000 embeddings.\n",
      "\n",
      "Words closest to hello\n",
      "hello:  0.000\n",
      "goodbye:  0.209\n",
      "hey:  0.283\n",
      "!:  0.341\n",
      "yeah:  0.373\n",
      "\n",
      "Words closest to precisely\n",
      "precisely:  0.000\n",
      "exactly:  0.147\n",
      "accurately:  0.293\n",
      "precise:  0.297\n",
      "understood:  0.313\n",
      "\n",
      "Words closest to dog\n",
      "dog:  0.000\n",
      "cat:  0.120\n",
      "dogs:  0.166\n",
      "pet:  0.255\n",
      "puppy:  0.276\n"
     ]
    }
   ],
   "source": [
    "embeddings = read_embeddings()\n",
    "\n",
    "lookup_word = 'hello'\n",
    "print('\\nWords closest to ' + lookup_word)\n",
    "print_n_closest(embeddings,\n",
    "                embeddings[lookup_word], 5)\n",
    "\n",
    "lookup_word = 'precisely'\n",
    "print('\\nWords closest to ' + lookup_word)\n",
    "print_n_closest(embeddings,\n",
    "                embeddings[lookup_word], 5)\n",
    "\n",
    "lookup_word = 'dog'\n",
    "print('\\nWords closest to ' + lookup_word)\n",
    "print_n_closest(embeddings,\n",
    "                embeddings[lookup_word], 5)\n"
   ]
  },
  {
   "cell_type": "markdown",
   "metadata": {},
   "source": [
    "Using NumPy, it is also trivial to combine multiple vectors using vector arithmetic and then print out words that are similar to the resulting vector. This is demonstrated in the code snippet below, which first prints the words closest to the word vector for king and then prints the words closest to the vector resulting from computing (king − man + woman).\n"
   ]
  },
  {
   "cell_type": "code",
   "execution_count": 15,
   "metadata": {},
   "outputs": [
    {
     "name": "stdout",
     "output_type": "stream",
     "text": [
      "\n",
      "Words closest to king\n",
      "king:  0.000\n",
      "prince:  0.232\n",
      "queen:  0.249\n",
      "\n",
      "Words closest to (king - man + woman)\n",
      "king:  0.145\n",
      "queen:  0.217\n",
      "monarch:  0.307\n"
     ]
    }
   ],
   "source": [
    "lookup_word = 'king'\n",
    "print('\\nWords closest to ' + lookup_word)\n",
    "print_n_closest(embeddings,\n",
    "                embeddings[lookup_word], 3)\n",
    "\n",
    "lookup_word = '(king - man + woman)'\n",
    "print('\\nWords closest to ' + lookup_word)\n",
    "vec = embeddings['king'] - embeddings[\n",
    "    'man'] + embeddings['woman']\n",
    "print_n_closest(embeddings, vec, 3)\n"
   ]
  },
  {
   "cell_type": "markdown",
   "metadata": {},
   "source": [
    "Another example is shown below where we print the vector resulting from subtracting Spain and adding Sweden to the word Madrid."
   ]
  },
  {
   "cell_type": "code",
   "execution_count": 14,
   "metadata": {},
   "outputs": [
    {
     "name": "stdout",
     "output_type": "stream",
     "text": [
      "\n",
      "Words closest to sweden\n",
      "sweden:  0.000\n",
      "denmark:  0.138\n",
      "norway:  0.193\n",
      "\n",
      "Words closest to madrid\n",
      "madrid:  0.000\n",
      "barcelona:  0.157\n",
      "valencia:  0.197\n",
      "\n",
      "Words closest to (madrid - spain + sweden)\n",
      "stockholm:  0.271\n",
      "sweden:  0.300\n",
      "copenhagen:  0.305\n"
     ]
    }
   ],
   "source": [
    "lookup_word = 'sweden'\n",
    "print('\\nWords closest to ' + lookup_word)\n",
    "print_n_closest(embeddings,\n",
    "                embeddings[lookup_word], 3)\n",
    "\n",
    "lookup_word = 'madrid'\n",
    "print('\\nWords closest to ' + lookup_word)\n",
    "print_n_closest(embeddings,\n",
    "                embeddings[lookup_word], 3)\n",
    "\n",
    "lookup_word = '(madrid - spain + sweden)'\n",
    "print('\\nWords closest to ' + lookup_word)\n",
    "vec = embeddings['madrid'] - embeddings[\n",
    "    'spain'] + embeddings['sweden']\n",
    "print_n_closest(embeddings, vec, 3)\n"
   ]
  }
 ],
 "metadata": {
  "interpreter": {
   "hash": "654cdb963cc6b3f9c9ad4d62d09c9ef98b5857a7ccb19d00cd012c39881c0f63"
  },
  "kernelspec": {
   "display_name": "Python 3.9.7 64-bit ('tf': conda)",
   "name": "python3"
  },
  "language_info": {
   "codemirror_mode": {
    "name": "ipython",
    "version": 3
   },
   "file_extension": ".py",
   "mimetype": "text/x-python",
   "name": "python",
   "nbconvert_exporter": "python",
   "pygments_lexer": "ipython3",
   "version": "3.9.7"
  }
 },
 "nbformat": 4,
 "nbformat_minor": 2
}
