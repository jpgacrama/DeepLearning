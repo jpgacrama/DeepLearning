{
 "cells": [
  {
   "cell_type": "code",
   "execution_count": null,
   "source": [
    "\"\"\"\r\n",
    "The MIT License (MIT)\r\n",
    "Copyright (c) 2021 NVIDIA\r\n",
    "Permission is hereby granted, free of charge, to any person obtaining a copy of\r\n",
    "this software and associated documentation files (the \"Software\"), to deal in\r\n",
    "the Software without restriction, including without limitation the rights to\r\n",
    "use, copy, modify, merge, publish, distribute, sublicense, and/or sell copies of\r\n",
    "the Software, and to permit persons to whom the Software is furnished to do so,\r\n",
    "subject to the following conditions:\r\n",
    "The above copyright notice and this permission notice shall be included in all\r\n",
    "copies or substantial portions of the Software.\r\n",
    "THE SOFTWARE IS PROVIDED \"AS IS\", WITHOUT WARRANTY OF ANY KIND, EXPRESS OR\r\n",
    "IMPLIED, INCLUDING BUT NOT LIMITED TO THE WARRANTIES OF MERCHANTABILITY, FITNESS\r\n",
    "FOR A PARTICULAR PURPOSE AND NONINFRINGEMENT. IN NO EVENT SHALL THE AUTHORS OR\r\n",
    "COPYRIGHT HOLDERS BE LIABLE FOR ANY CLAIM, DAMAGES OR OTHER LIABILITY, WHETHER\r\n",
    "IN AN ACTION OF CONTRACT, TORT OR OTHERWISE, ARISING FROM, OUT OF OR IN\r\n",
    "CONNECTION WITH THE SOFTWARE OR THE USE OR OTHER DEALINGS IN THE SOFTWARE.\r\n",
    "\"\"\"\r\n"
   ],
   "outputs": [],
   "metadata": {}
  },
  {
   "cell_type": "markdown",
   "source": [
    "This code example loads and explores the MNIST dataset. The dataset first needs to be downloaded and decompressed into the ../data/mnist directory (see README file). More context for this code example can be found in the section \"Exploring the dataset\" in Chapter 4 in the book Learning Deep Learning by Magnus Ekman (ISBN: 9780137470358)."
   ],
   "metadata": {}
  },
  {
   "cell_type": "markdown",
   "source": [
    "The first code snippet shows how we load the files into NumPy arrays and then print the dimensions of these arrays. The file format is not a standard image format, but it is easy to read the files using the idx2numpy library. The dataset is assumed to be in the directory ../data/mnist/.\n"
   ],
   "metadata": {}
  },
  {
   "cell_type": "code",
   "execution_count": 4,
   "source": [
    "import idx2numpy\r\n",
    "TRAIN_IMAGE_FILENAME = '../data/mnist/train-images-idx3-ubyte'\r\n",
    "TRAIN_LABEL_FILENAME = '../data/mnist/train-labels-idx1-ubyte'\r\n",
    "TEST_IMAGE_FILENAME = '../data/mnist/t10k-images-idx3-ubyte'\r\n",
    "TEST_LABEL_FILENAME = '../data/mnist/t10k-labels-idx1-ubyte'\r\n",
    "\r\n",
    "# Read files.\r\n",
    "train_images = idx2numpy.convert_from_file(\r\n",
    "    TRAIN_IMAGE_FILENAME)\r\n",
    "train_labels = idx2numpy.convert_from_file(\r\n",
    "    TRAIN_LABEL_FILENAME)\r\n",
    "test_images = idx2numpy.convert_from_file(TEST_IMAGE_FILENAME)\r\n",
    "test_labels = idx2numpy.convert_from_file(TEST_LABEL_FILENAME)\r\n",
    "\r\n",
    "# Print dimensions.\r\n",
    "print('dimensions of train_images: ', train_images.shape)\r\n",
    "print('dimensions of train_labels: ', train_labels.shape)\r\n",
    "print('dimensions of test_images: ', test_images.shape)\r\n",
    "print('dimensions of test_images: ', test_labels.shape)\r\n"
   ],
   "outputs": [
    {
     "output_type": "error",
     "ename": "FileNotFoundError",
     "evalue": "[Errno 2] No such file or directory: '../data/mnist/train-images-idx3-ubyte'",
     "traceback": [
      "\u001b[1;31m---------------------------------------------------------------------------\u001b[0m",
      "\u001b[1;31mFileNotFoundError\u001b[0m                         Traceback (most recent call last)",
      "\u001b[1;32m~\\AppData\\Local\\Temp/ipykernel_15328/1243506021.py\u001b[0m in \u001b[0;36m<module>\u001b[1;34m\u001b[0m\n\u001b[0;32m      6\u001b[0m \u001b[1;33m\u001b[0m\u001b[0m\n\u001b[0;32m      7\u001b[0m \u001b[1;31m# Read files.\u001b[0m\u001b[1;33m\u001b[0m\u001b[1;33m\u001b[0m\u001b[0m\n\u001b[1;32m----> 8\u001b[1;33m train_images = idx2numpy.convert_from_file(\n\u001b[0m\u001b[0;32m      9\u001b[0m     TRAIN_IMAGE_FILENAME)\n\u001b[0;32m     10\u001b[0m train_labels = idx2numpy.convert_from_file(\n",
      "\u001b[1;32m~\\AppData\\Local\\Packages\\PythonSoftwareFoundation.Python.3.9_qbz5n2kfra8p0\\LocalCache\\local-packages\\Python39\\site-packages\\idx2numpy\\converters.py\u001b[0m in \u001b[0;36mconvert_from_file\u001b[1;34m(file)\u001b[0m\n\u001b[0;32m     54\u001b[0m     \"\"\"\n\u001b[0;32m     55\u001b[0m     \u001b[1;32mif\u001b[0m \u001b[0misinstance\u001b[0m\u001b[1;33m(\u001b[0m\u001b[0mfile\u001b[0m\u001b[1;33m,\u001b[0m \u001b[0msix_string_types\u001b[0m\u001b[1;33m)\u001b[0m\u001b[1;33m:\u001b[0m\u001b[1;33m\u001b[0m\u001b[1;33m\u001b[0m\u001b[0m\n\u001b[1;32m---> 56\u001b[1;33m         \u001b[1;32mwith\u001b[0m \u001b[0mopen\u001b[0m\u001b[1;33m(\u001b[0m\u001b[0mfile\u001b[0m\u001b[1;33m,\u001b[0m \u001b[1;34m'rb'\u001b[0m\u001b[1;33m)\u001b[0m \u001b[1;32mas\u001b[0m \u001b[0mf\u001b[0m\u001b[1;33m:\u001b[0m\u001b[1;33m\u001b[0m\u001b[1;33m\u001b[0m\u001b[0m\n\u001b[0m\u001b[0;32m     57\u001b[0m             \u001b[1;32mreturn\u001b[0m \u001b[0m_internal_convert\u001b[0m\u001b[1;33m(\u001b[0m\u001b[0mf\u001b[0m\u001b[1;33m)\u001b[0m\u001b[1;33m\u001b[0m\u001b[1;33m\u001b[0m\u001b[0m\n\u001b[0;32m     58\u001b[0m     \u001b[1;32melse\u001b[0m\u001b[1;33m:\u001b[0m\u001b[1;33m\u001b[0m\u001b[1;33m\u001b[0m\u001b[0m\n",
      "\u001b[1;31mFileNotFoundError\u001b[0m: [Errno 2] No such file or directory: '../data/mnist/train-images-idx3-ubyte'"
     ]
    }
   ],
   "metadata": {}
  },
  {
   "cell_type": "markdown",
   "source": [
    "The next code snippet prints out the first training label and image pattern.\n"
   ],
   "metadata": {}
  },
  {
   "cell_type": "code",
   "execution_count": null,
   "source": [
    "# Print one training example.\r\n",
    "print('label for first training example: ', train_labels[0])\r\n",
    "print('---beginning of pattern for first training example---')\r\n",
    "for line in train_images[0]:\r\n",
    "    for num in line:\r\n",
    "        if num > 0:\r\n",
    "            print('*', end = ' ')\r\n",
    "        else:\r\n",
    "            print(' ', end = ' ')\r\n",
    "    print('')\r\n",
    "print('---end of pattern for first training example---')\r\n"
   ],
   "outputs": [],
   "metadata": {}
  }
 ],
 "metadata": {
  "kernelspec": {
   "name": "python3",
   "display_name": "Python 3.9.7 64-bit (windows store)"
  },
  "language_info": {
   "codemirror_mode": {
    "name": "ipython",
    "version": 3
   },
   "file_extension": ".py",
   "mimetype": "text/x-python",
   "name": "python",
   "nbconvert_exporter": "python",
   "pygments_lexer": "ipython3",
   "version": "3.9.7"
  },
  "interpreter": {
   "hash": "de70ba1dfedd7665bf4cd0ee86c8db35b01ecbb5c479dd9bcdca1245d2c3a48c"
  }
 },
 "nbformat": 4,
 "nbformat_minor": 2
}