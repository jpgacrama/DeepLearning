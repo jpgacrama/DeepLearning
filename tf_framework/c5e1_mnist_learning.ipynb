{
 "cells": [
  {
   "cell_type": "code",
   "execution_count": 1,
   "metadata": {},
   "outputs": [
    {
     "data": {
      "text/plain": [
       "'\\nThe MIT License (MIT)\\nCopyright (c) 2021 NVIDIA\\nPermission is hereby granted, free of charge, to any person obtaining a copy of\\nthis software and associated documentation files (the \"Software\"), to deal in\\nthe Software without restriction, including without limitation the rights to\\nuse, copy, modify, merge, publish, distribute, sublicense, and/or sell copies of\\nthe Software, and to permit persons to whom the Software is furnished to do so,\\nsubject to the following conditions:\\nThe above copyright notice and this permission notice shall be included in all\\ncopies or substantial portions of the Software.\\nTHE SOFTWARE IS PROVIDED \"AS IS\", WITHOUT WARRANTY OF ANY KIND, EXPRESS OR\\nIMPLIED, INCLUDING BUT NOT LIMITED TO THE WARRANTIES OF MERCHANTABILITY, FITNESS\\nFOR A PARTICULAR PURPOSE AND NONINFRINGEMENT. IN NO EVENT SHALL THE AUTHORS OR\\nCOPYRIGHT HOLDERS BE LIABLE FOR ANY CLAIM, DAMAGES OR OTHER LIABILITY, WHETHER\\nIN AN ACTION OF CONTRACT, TORT OR OTHERWISE, ARISING FROM, OUT OF OR IN\\nCONNECTION WITH THE SOFTWARE OR THE USE OR OTHER DEALINGS IN THE SOFTWARE.\\n'"
      ]
     },
     "execution_count": 1,
     "metadata": {},
     "output_type": "execute_result"
    }
   ],
   "source": [
    "\"\"\"\n",
    "The MIT License (MIT)\n",
    "Copyright (c) 2021 NVIDIA\n",
    "Permission is hereby granted, free of charge, to any person obtaining a copy of\n",
    "this software and associated documentation files (the \"Software\"), to deal in\n",
    "the Software without restriction, including without limitation the rights to\n",
    "use, copy, modify, merge, publish, distribute, sublicense, and/or sell copies of\n",
    "the Software, and to permit persons to whom the Software is furnished to do so,\n",
    "subject to the following conditions:\n",
    "The above copyright notice and this permission notice shall be included in all\n",
    "copies or substantial portions of the Software.\n",
    "THE SOFTWARE IS PROVIDED \"AS IS\", WITHOUT WARRANTY OF ANY KIND, EXPRESS OR\n",
    "IMPLIED, INCLUDING BUT NOT LIMITED TO THE WARRANTIES OF MERCHANTABILITY, FITNESS\n",
    "FOR A PARTICULAR PURPOSE AND NONINFRINGEMENT. IN NO EVENT SHALL THE AUTHORS OR\n",
    "COPYRIGHT HOLDERS BE LIABLE FOR ANY CLAIM, DAMAGES OR OTHER LIABILITY, WHETHER\n",
    "IN AN ACTION OF CONTRACT, TORT OR OTHERWISE, ARISING FROM, OUT OF OR IN\n",
    "CONNECTION WITH THE SOFTWARE OR THE USE OR OTHER DEALINGS IN THE SOFTWARE.\n",
    "\"\"\"\n"
   ]
  },
  {
   "cell_type": "markdown",
   "metadata": {},
   "source": [
    "This code example contains a TensorFlow implementation of a network classifying handwritten digits. More context for this code example can be found in the section \"Programming Example: Moving to a DL Framework\" in Chapter 5 in the book Learning Deep Learning by Magnus Ekman (ISBN: 9780137470358).\n"
   ]
  },
  {
   "cell_type": "markdown",
   "metadata": {},
   "source": [
    "The first code snippet contains initialization code for our TensorFlow example. TensorFlow has its own random seed that needs to be set if we want reproducible results. The code snippet also sets the logging level to only print out errors while suppressing warnings.\n"
   ]
  },
  {
   "cell_type": "code",
   "execution_count": 2,
   "metadata": {},
   "outputs": [],
   "source": [
    "import tensorflow as tf\n",
    "from tensorflow import keras\n",
    "from tensorflow.keras.utils import to_categorical\n",
    "import numpy as np\n",
    "import logging\n",
    "tf.get_logger().setLevel(logging.ERROR)\n",
    "tf.random.set_seed(7)\n",
    "\n",
    "EPOCHS = 20\n",
    "BATCH_SIZE = 1\n"
   ]
  },
  {
   "cell_type": "markdown",
   "metadata": {},
   "source": [
    "We then load and prepare our MNIST dataset. Because MNIST is a common dataset, it is included in Keras. We can access it by a call to keras.datasets.mnist and load_data. The variables train_images and test_images will contain the input values, and the variables train_labels and test_labels will contain the ground truth.\n",
    "\n",
    "We standardize the input data and one-hot encode the labels. We use the function to_categorical to one-hot encode our labels.\n"
   ]
  },
  {
   "cell_type": "code",
   "execution_count": 3,
   "metadata": {},
   "outputs": [],
   "source": [
    "# Load training and test datasets.\n",
    "mnist = keras.datasets.mnist\n",
    "(train_images, train_labels), (test_images,\n",
    "                               test_labels) = mnist.load_data()\n",
    "\n",
    "# Standardize the data.\n",
    "mean = np.mean(train_images)\n",
    "stddev = np.std(train_images)\n",
    "train_images = (train_images - mean) / stddev\n",
    "test_images = (test_images - mean) / stddev\n",
    "\n",
    "# One-hot encode labels.\n",
    "train_labels = to_categorical(train_labels, num_classes=10)\n",
    "test_labels = to_categorical(test_labels, num_classes=10)\n"
   ]
  },
  {
   "cell_type": "markdown",
   "metadata": {},
   "source": [
    "We are now ready to create our network. There is no need to define variables for individual neurons because the framework provides functionality to instantiate entire layers of neurons at once. We do need to decide how to initialize the weights, which we do by creating an initializer object, as shown in the code snippet below.\n",
    "\n",
    "The network is created by instantiating a keras.Sequential object, which implies that we are using the Keras Sequential API. We pass a list of layers as an argument to the Sequential class. The first layer is a Flatten layer, which does not do computations but only changes the organization of the input. In our case, the inputs are changed from a 28×28 array into an array of 784 elements. The second and third layers are both Dense layers, which means they are fully connected. The first argument tells how many neurons each layer should have, and the activation argument tells the type of activation function; we choose tanh and sigmoid, where sigmoid means the logistic sigmoid function. We pass our initializer object to initialize the regular weights using the kernel_initializer argument. The bias weights are initialized to 0 using the bias_initializer argument.\n"
   ]
  },
  {
   "cell_type": "code",
   "execution_count": 4,
   "metadata": {},
   "outputs": [
    {
     "name": "stdout",
     "output_type": "stream",
     "text": [
      "Metal device set to: Apple M1\n",
      "\n",
      "systemMemory: 8.00 GB\n",
      "maxCacheSize: 2.67 GB\n",
      "\n"
     ]
    },
    {
     "name": "stderr",
     "output_type": "stream",
     "text": [
      "2021-10-20 17:37:49.515738: I tensorflow/core/common_runtime/pluggable_device/pluggable_device_factory.cc:305] Could not identify NUMA node of platform GPU ID 0, defaulting to 0. Your kernel may not have been built with NUMA support.\n",
      "2021-10-20 17:37:49.515921: I tensorflow/core/common_runtime/pluggable_device/pluggable_device_factory.cc:271] Created TensorFlow device (/job:localhost/replica:0/task:0/device:GPU:0 with 0 MB memory) -> physical PluggableDevice (device: 0, name: METAL, pci bus id: <undefined>)\n"
     ]
    }
   ],
   "source": [
    "# Object used to initialize weights.\n",
    "initializer = keras.initializers.RandomUniform(\n",
    "    minval=-0.1, maxval=0.1)\n",
    "\n",
    "# Create a Sequential model.\n",
    "# 784 inputs.\n",
    "# Two Dense (fully connected) layers with 25 and 10 neurons.\n",
    "# tanh as activation function for hidden layer.\n",
    "# Logistic (sigmoid) as activation function for output layer.\n",
    "model = keras.Sequential([\n",
    "    keras.layers.Flatten(input_shape=(28, 28)),\n",
    "    keras.layers.Dense(25, activation='tanh',\n",
    "                       kernel_initializer=initializer,\n",
    "                       bias_initializer='zeros'),\n",
    "    keras.layers.Dense(10, activation='sigmoid',\n",
    "                       kernel_initializer=initializer,\n",
    "                       bias_initializer='zeros')])\n"
   ]
  },
  {
   "cell_type": "markdown",
   "metadata": {},
   "source": [
    "We are now ready to train the network, which is done in the next code snippet. We first create a keras.optimizer.SGD object. This means that we want to use stochastic gradient descent (SGD) when training the network. We then prepare the model for training by calling the model’s compile function. We provide parameters to specify which loss function to use, the optimizer that we just created and that we are interested in looking at the accuracy metric during training. Note that although this example uses mean squared error (MSE) as loss function, in general that is not a good choice in combination with sigmoid output neurons. We change this in subsequent programming examples.\n",
    "\n",
    "We finally call the fit function for the model, which starts the training process. As the function name indicates, it fits the model to the data. The first two arguments specify the training dataset. The parameter validation_data is the test dataset. Our variables EPOCHS and BATCH_SIZE from the initialization code determine how many epochs to train for and what batch size we use. We had set BATCH_SIZE to 1, which means that we update the weight after a single training example. We set verbose=2 to get a reasonable amount of information printed during the training process and set shuffle to True to indicate that we want the order of the training data to be randomized during the training process.\n"
   ]
  },
  {
   "cell_type": "code",
   "execution_count": 5,
   "metadata": {},
   "outputs": [
    {
     "name": "stdout",
     "output_type": "stream",
     "text": [
      "Epoch 1/20\n",
      "   19/60000 [..............................] - ETA: 2:50 - loss: 0.2548 - accuracy: 0.0000e+00   "
     ]
    },
    {
     "name": "stderr",
     "output_type": "stream",
     "text": [
      "2021-10-20 17:37:49.788493: I tensorflow/compiler/mlir/mlir_graph_optimization_pass.cc:185] None of the MLIR Optimization Passes are enabled (registered 2)\n",
      "2021-10-20 17:37:49.788739: W tensorflow/core/platform/profile_utils/cpu_utils.cc:128] Failed to get CPU frequency: 0 Hz\n",
      "2021-10-20 17:37:49.875682: I tensorflow/core/grappler/optimizers/custom_graph_optimizer_registry.cc:112] Plugin optimizer for device_type GPU is enabled.\n"
     ]
    },
    {
     "name": "stdout",
     "output_type": "stream",
     "text": [
      "59990/60000 [============================>.] - ETA: 0s - loss: 0.0494 - accuracy: 0.7216"
     ]
    },
    {
     "name": "stderr",
     "output_type": "stream",
     "text": [
      "2021-10-20 17:40:28.011509: I tensorflow/core/grappler/optimizers/custom_graph_optimizer_registry.cc:112] Plugin optimizer for device_type GPU is enabled.\n"
     ]
    },
    {
     "name": "stdout",
     "output_type": "stream",
     "text": [
      "60000/60000 [==============================] - 173s 3ms/step - loss: 0.0494 - accuracy: 0.7217 - val_loss: 0.0238 - val_accuracy: 0.8889\n",
      "Epoch 2/20\n",
      "60000/60000 [==============================] - 161s 3ms/step - loss: 0.0200 - accuracy: 0.8996 - val_loss: 0.0168 - val_accuracy: 0.9130\n",
      "Epoch 3/20\n",
      "60000/60000 [==============================] - 172s 3ms/step - loss: 0.0161 - accuracy: 0.9128 - val_loss: 0.0147 - val_accuracy: 0.9185\n",
      "Epoch 4/20\n",
      "60000/60000 [==============================] - 187s 3ms/step - loss: 0.0144 - accuracy: 0.9198 - val_loss: 0.0137 - val_accuracy: 0.9232\n",
      "Epoch 5/20\n",
      "60000/60000 [==============================] - 164s 3ms/step - loss: 0.0134 - accuracy: 0.9243 - val_loss: 0.0129 - val_accuracy: 0.9267\n",
      "Epoch 6/20\n",
      "60000/60000 [==============================] - 160s 3ms/step - loss: 0.0127 - accuracy: 0.9280 - val_loss: 0.0125 - val_accuracy: 0.9284\n",
      "Epoch 7/20\n",
      "60000/60000 [==============================] - 201s 3ms/step - loss: 0.0122 - accuracy: 0.9306 - val_loss: 0.0121 - val_accuracy: 0.9296\n",
      "Epoch 8/20\n",
      "60000/60000 [==============================] - 179s 3ms/step - loss: 0.0117 - accuracy: 0.9328 - val_loss: 0.0119 - val_accuracy: 0.9306\n",
      "Epoch 9/20\n",
      "60000/60000 [==============================] - 162s 3ms/step - loss: 0.0114 - accuracy: 0.9345 - val_loss: 0.0115 - val_accuracy: 0.9338\n",
      "Epoch 10/20\n",
      "60000/60000 [==============================] - 159s 3ms/step - loss: 0.0111 - accuracy: 0.9365 - val_loss: 0.0115 - val_accuracy: 0.9325\n",
      "Epoch 11/20\n",
      "60000/60000 [==============================] - 158s 3ms/step - loss: 0.0108 - accuracy: 0.9375 - val_loss: 0.0112 - val_accuracy: 0.9343\n",
      "Epoch 12/20\n",
      "60000/60000 [==============================] - 161s 3ms/step - loss: 0.0105 - accuracy: 0.9398 - val_loss: 0.0114 - val_accuracy: 0.9327\n",
      "Epoch 13/20\n",
      "60000/60000 [==============================] - 160s 3ms/step - loss: 0.0104 - accuracy: 0.9402 - val_loss: 0.0110 - val_accuracy: 0.9350\n",
      "Epoch 14/20\n",
      "60000/60000 [==============================] - 1108s 18ms/step - loss: 0.0102 - accuracy: 0.9413 - val_loss: 0.0109 - val_accuracy: 0.9349\n",
      "Epoch 15/20\n",
      "60000/60000 [==============================] - 429s 7ms/step - loss: 0.0100 - accuracy: 0.9415 - val_loss: 0.0108 - val_accuracy: 0.9367\n",
      "Epoch 16/20\n",
      "60000/60000 [==============================] - 161s 3ms/step - loss: 0.0098 - accuracy: 0.9435 - val_loss: 0.0107 - val_accuracy: 0.9358\n",
      "Epoch 17/20\n",
      "60000/60000 [==============================] - 3558s 59ms/step - loss: 0.0097 - accuracy: 0.9448 - val_loss: 0.0106 - val_accuracy: 0.9361\n",
      "Epoch 18/20\n",
      "60000/60000 [==============================] - 161s 3ms/step - loss: 0.0095 - accuracy: 0.9451 - val_loss: 0.0107 - val_accuracy: 0.9342\n",
      "Epoch 19/20\n",
      "60000/60000 [==============================] - 161s 3ms/step - loss: 0.0094 - accuracy: 0.9458 - val_loss: 0.0108 - val_accuracy: 0.9349\n",
      "Epoch 20/20\n",
      "60000/60000 [==============================] - 160s 3ms/step - loss: 0.0093 - accuracy: 0.9470 - val_loss: 0.0104 - val_accuracy: 0.9379\n"
     ]
    }
   ],
   "source": [
    "# Use stochastic gradient descent (SGD) with\n",
    "# learning rate of 0.01 and no other bells and whistles.\n",
    "# MSE as loss function and report accuracy during training.\n",
    "opt = keras.optimizers.SGD(learning_rate=0.01)\n",
    "\n",
    "model.compile(loss='mean_squared_error', optimizer = opt,\n",
    "              metrics =['accuracy'])\n",
    "# Train the model for 20 epochs.\n",
    "# Shuffle (randomize) order.\n",
    "# Update weights after each example (batch_size=1).\n",
    "history = model.fit(train_images, train_labels,\n",
    "                    validation_data=(test_images, test_labels),\n",
    "                    epochs=EPOCHS, batch_size=BATCH_SIZE,\n",
    "                    verbose=1, shuffle=True)\n"
   ]
  }
 ],
 "metadata": {
  "interpreter": {
   "hash": "654cdb963cc6b3f9c9ad4d62d09c9ef98b5857a7ccb19d00cd012c39881c0f63"
  },
  "kernelspec": {
   "display_name": "Python 3.9.7 64-bit ('tf': conda)",
   "name": "python3"
  },
  "language_info": {
   "codemirror_mode": {
    "name": "ipython",
    "version": 3
   },
   "file_extension": ".py",
   "mimetype": "text/x-python",
   "name": "python",
   "nbconvert_exporter": "python",
   "pygments_lexer": "ipython3",
   "version": "3.9.7"
  }
 },
 "nbformat": 4,
 "nbformat_minor": 2
}
