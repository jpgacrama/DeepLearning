{
 "cells": [
  {
   "cell_type": "code",
   "execution_count": 1,
   "metadata": {},
   "outputs": [
    {
     "data": {
      "text/plain": [
       "'\\nThe MIT License (MIT)\\nCopyright (c) 2021 NVIDIA\\nPermission is hereby granted, free of charge, to any person obtaining a copy of\\nthis software and associated documentation files (the \"Software\"), to deal in\\nthe Software without restriction, including without limitation the rights to\\nuse, copy, modify, merge, publish, distribute, sublicense, and/or sell copies of\\nthe Software, and to permit persons to whom the Software is furnished to do so,\\nsubject to the following conditions:\\nThe above copyright notice and this permission notice shall be included in all\\ncopies or substantial portions of the Software.\\nTHE SOFTWARE IS PROVIDED \"AS IS\", WITHOUT WARRANTY OF ANY KIND, EXPRESS OR\\nIMPLIED, INCLUDING BUT NOT LIMITED TO THE WARRANTIES OF MERCHANTABILITY, FITNESS\\nFOR A PARTICULAR PURPOSE AND NONINFRINGEMENT. IN NO EVENT SHALL THE AUTHORS OR\\nCOPYRIGHT HOLDERS BE LIABLE FOR ANY CLAIM, DAMAGES OR OTHER LIABILITY, WHETHER\\nIN AN ACTION OF CONTRACT, TORT OR OTHERWISE, ARISING FROM, OUT OF OR IN\\nCONNECTION WITH THE SOFTWARE OR THE USE OR OTHER DEALINGS IN THE SOFTWARE.\\n'"
      ]
     },
     "execution_count": 1,
     "metadata": {},
     "output_type": "execute_result"
    }
   ],
   "source": [
    "\"\"\"\n",
    "The MIT License (MIT)\n",
    "Copyright (c) 2021 NVIDIA\n",
    "Permission is hereby granted, free of charge, to any person obtaining a copy of\n",
    "this software and associated documentation files (the \"Software\"), to deal in\n",
    "the Software without restriction, including without limitation the rights to\n",
    "use, copy, modify, merge, publish, distribute, sublicense, and/or sell copies of\n",
    "the Software, and to permit persons to whom the Software is furnished to do so,\n",
    "subject to the following conditions:\n",
    "The above copyright notice and this permission notice shall be included in all\n",
    "copies or substantial portions of the Software.\n",
    "THE SOFTWARE IS PROVIDED \"AS IS\", WITHOUT WARRANTY OF ANY KIND, EXPRESS OR\n",
    "IMPLIED, INCLUDING BUT NOT LIMITED TO THE WARRANTIES OF MERCHANTABILITY, FITNESS\n",
    "FOR A PARTICULAR PURPOSE AND NONINFRINGEMENT. IN NO EVENT SHALL THE AUTHORS OR\n",
    "COPYRIGHT HOLDERS BE LIABLE FOR ANY CLAIM, DAMAGES OR OTHER LIABILITY, WHETHER\n",
    "IN AN ACTION OF CONTRACT, TORT OR OTHERWISE, ARISING FROM, OUT OF OR IN\n",
    "CONNECTION WITH THE SOFTWARE OR THE USE OR OTHER DEALINGS IN THE SOFTWARE.\n",
    "\"\"\"\n"
   ]
  },
  {
   "cell_type": "markdown",
   "metadata": {},
   "source": [
    "This code example demonstrates how an autoencoder can be used for outlier detection. We do this by first training an autoencoder on the Modified National Institute of Standards and Technology (MNIST) dataset. Then we observe how the error is higher when the network is presented with an image that does not represent a handwritten digit. More context for this code example can be found in the section \"Programming Example: Autoencoder for outlier detection\" in Chapter 17 in the book Learning Deep Learning by Magnus Ekman (ISBN: 9780137470358).\n"
   ]
  },
  {
   "cell_type": "markdown",
   "metadata": {},
   "source": [
    "We start with the usual set of import statements, followed by loading the MNIST dataset. Instead of standardizing the data to be centered around 0, we scale the data to be in the range 0 to 1. See the book for a discussion of why this is the case.\n"
   ]
  },
  {
   "cell_type": "code",
   "execution_count": 2,
   "metadata": {},
   "outputs": [],
   "source": [
    "import tensorflow as tf\n",
    "from tensorflow import keras\n",
    "from tensorflow.keras.utils import to_categorical\n",
    "import numpy as np\n",
    "import matplotlib.pyplot as plt\n",
    "import logging\n",
    "tf.get_logger().setLevel(logging.ERROR)\n",
    "\n",
    "EPOCHS = 10\n",
    "\n",
    "# Load traditional MNIST dataset.\n",
    "mnist = keras.datasets.mnist\n",
    "(train_images, train_labels), (test_images,\n",
    "                               test_labels) = mnist.load_data()\n",
    "\n",
    "# Scale the data.\n",
    "train_images = train_images / 255.0\n",
    "test_images = test_images / 255.0\n"
   ]
  },
  {
   "cell_type": "markdown",
   "metadata": {},
   "source": [
    "The next step is to define and train the model. This is shown in the code snippet below. The encoder part of the model consists of a Flatten layer (changing the dimension from 28×28 to 784) followed by a single fully connected (Dense) layer with 64 units. The decoder consists of another fully connected layer with 784 units, followed by a Reshape layer that changes the dimension from 784 to 28×28. That is, the decoder performs the inverse of the operations done by the encoder. The goal for the autoencoder is to generate an output image that is identical to the input image, and it has to do that by fully encoding the 28×28 (784) image in the intermediate representation vector of size 64.\n"
   ]
  },
  {
   "cell_type": "code",
   "execution_count": 3,
   "metadata": {},
   "outputs": [
    {
     "name": "stderr",
     "output_type": "stream",
     "text": [
      "2021-10-19 20:18:30.665173: I tensorflow/core/common_runtime/pluggable_device/pluggable_device_factory.cc:305] Could not identify NUMA node of platform GPU ID 0, defaulting to 0. Your kernel may not have been built with NUMA support.\n",
      "2021-10-19 20:18:30.665530: I tensorflow/core/common_runtime/pluggable_device/pluggable_device_factory.cc:271] Created TensorFlow device (/job:localhost/replica:0/task:0/device:GPU:0 with 0 MB memory) -> physical PluggableDevice (device: 0, name: METAL, pci bus id: <undefined>)\n"
     ]
    },
    {
     "name": "stdout",
     "output_type": "stream",
     "text": [
      "Metal device set to: Apple M1\n",
      "\n",
      "systemMemory: 8.00 GB\n",
      "maxCacheSize: 2.67 GB\n",
      "\n"
     ]
    },
    {
     "name": "stderr",
     "output_type": "stream",
     "text": [
      "2021-10-19 20:18:31.160640: I tensorflow/compiler/mlir/mlir_graph_optimization_pass.cc:185] None of the MLIR Optimization Passes are enabled (registered 2)\n",
      "2021-10-19 20:18:31.164034: W tensorflow/core/platform/profile_utils/cpu_utils.cc:128] Failed to get CPU frequency: 0 Hz\n",
      "2021-10-19 20:18:31.295094: I tensorflow/core/grappler/optimizers/custom_graph_optimizer_registry.cc:112] Plugin optimizer for device_type GPU is enabled.\n"
     ]
    },
    {
     "name": "stdout",
     "output_type": "stream",
     "text": [
      "Epoch 1/10\n"
     ]
    },
    {
     "name": "stderr",
     "output_type": "stream",
     "text": [
      "2021-10-19 20:18:36.453544: I tensorflow/core/grappler/optimizers/custom_graph_optimizer_registry.cc:112] Plugin optimizer for device_type GPU is enabled.\n"
     ]
    },
    {
     "name": "stdout",
     "output_type": "stream",
     "text": [
      "938/938 - 6s - loss: 0.1633 - mean_absolute_error: 0.0861 - val_loss: 0.1080 - val_mean_absolute_error: 0.0473\n",
      "Epoch 2/10\n",
      "938/938 - 3s - loss: 0.0958 - mean_absolute_error: 0.0377 - val_loss: 0.0853 - val_mean_absolute_error: 0.0296\n",
      "Epoch 3/10\n",
      "938/938 - 3s - loss: 0.0821 - mean_absolute_error: 0.0267 - val_loss: 0.0785 - val_mean_absolute_error: 0.0237\n",
      "Epoch 4/10\n",
      "938/938 - 3s - loss: 0.0777 - mean_absolute_error: 0.0228 - val_loss: 0.0757 - val_mean_absolute_error: 0.0212\n",
      "Epoch 5/10\n",
      "938/938 - 3s - loss: 0.0759 - mean_absolute_error: 0.0211 - val_loss: 0.0745 - val_mean_absolute_error: 0.0201\n",
      "Epoch 6/10\n",
      "938/938 - 3s - loss: 0.0749 - mean_absolute_error: 0.0202 - val_loss: 0.0739 - val_mean_absolute_error: 0.0196\n",
      "Epoch 7/10\n",
      "938/938 - 3s - loss: 0.0744 - mean_absolute_error: 0.0198 - val_loss: 0.0736 - val_mean_absolute_error: 0.0193\n",
      "Epoch 8/10\n",
      "938/938 - 3s - loss: 0.0741 - mean_absolute_error: 0.0195 - val_loss: 0.0734 - val_mean_absolute_error: 0.0191\n",
      "Epoch 9/10\n",
      "938/938 - 3s - loss: 0.0739 - mean_absolute_error: 0.0193 - val_loss: 0.0733 - val_mean_absolute_error: 0.0190\n",
      "Epoch 10/10\n",
      "938/938 - 3s - loss: 0.0738 - mean_absolute_error: 0.0192 - val_loss: 0.0733 - val_mean_absolute_error: 0.0190\n"
     ]
    }
   ],
   "source": [
    "# Create and train autoencoder.\n",
    "model = keras.Sequential([\n",
    "    keras.layers.Flatten(input_shape=(28, 28)),\n",
    "    keras.layers.Dense(64, activation='relu',\n",
    "                       kernel_initializer='glorot_normal',\n",
    "                       bias_initializer='zeros'),\n",
    "    keras.layers.Dense(784, activation='sigmoid',\n",
    "                       kernel_initializer='glorot_normal',\n",
    "                       bias_initializer='zeros'),\n",
    "    keras.layers.Reshape((28, 28))])\n",
    "\n",
    "model.compile(loss='binary_crossentropy', optimizer = 'adam',\n",
    "              metrics =['mean_absolute_error'])\n",
    "\n",
    "history = model.fit(train_images, train_images,\n",
    "                    validation_data=(test_images, test_images),\n",
    "                    epochs=EPOCHS, batch_size=64, verbose=2,\n",
    "                    shuffle=True)\n"
   ]
  },
  {
   "cell_type": "markdown",
   "metadata": {},
   "source": [
    "Next, we use the trained model to try to reproduce the images in the test dataset. After applying the model to all test images, we plot one of the test images next to its corresponding version produced by the network.\n"
   ]
  },
  {
   "cell_type": "code",
   "execution_count": 4,
   "metadata": {},
   "outputs": [
    {
     "name": "stderr",
     "output_type": "stream",
     "text": [
      "2021-10-19 20:19:06.752862: I tensorflow/core/grappler/optimizers/custom_graph_optimizer_registry.cc:112] Plugin optimizer for device_type GPU is enabled.\n"
     ]
    },
    {
     "data": {
      "image/png": "[encoded data removed]",
      "text/plain": [
       "<Figure size 432x288 with 2 Axes>"
      ]
     },
     "metadata": {
      "needs_background": "light"
     },
     "output_type": "display_data"
    }
   ],
   "source": [
    "# Predict on test dataset.\n",
    "predict_images = model.predict(test_images)\n",
    "\n",
    "# Plot one input example and resulting prediction.\n",
    "plt.subplot(1, 2, 1)\n",
    "plt.imshow(test_images[1], cmap=plt.get_cmap('gray'))\n",
    "plt.subplot(1, 2, 2)\n",
    "plt.imshow(predict_images[1], cmap=plt.get_cmap('gray'))\n",
    "plt.show()\n"
   ]
  },
  {
   "cell_type": "markdown",
   "metadata": {},
   "source": [
    "The next step is to apply our autoencoder to a different image. We use a different dataset known as Fashion MNIST. This dataset is designed to serve as a drop-in replacement for MNIST. It consists of the same number of training and test images, using the same 28×28 resolution. Just as for MNIST, each image belongs to one of ten classes. The difference compared to MNIST is that instead of depicting handwritten images, the images depict various pieces of clothing: dress, shirt, sneaker, and so on. The code snippet below loads this dataset and uses the trained model to try to reproduce the fashion MNIST test images."
   ]
  },
  {
   "cell_type": "code",
   "execution_count": 5,
   "metadata": {},
   "outputs": [
    {
     "data": {
      "image/png": "[encoded data removed]",
      "text/plain": [
       "<Figure size 432x288 with 2 Axes>"
      ]
     },
     "metadata": {
      "needs_background": "light"
     },
     "output_type": "display_data"
    }
   ],
   "source": [
    "# Load Fashion MNIST.\n",
    "f_mnist = keras.datasets.fashion_mnist\n",
    "(f_train_images, f_train_labels), (f_test_images,\n",
    "                        f_test_labels) = f_mnist.load_data()\n",
    "\n",
    "f_train_images = f_train_images / 255.0\n",
    "f_test_images = f_test_images / 255.0\n",
    "\n",
    "# Predict and plot.\n",
    "f_predict_images = model.predict(f_test_images)\n",
    "plt.subplot(1, 2, 1)\n",
    "plt.imshow(f_test_images[0], cmap=plt.get_cmap('gray'))\n",
    "plt.subplot(1, 2, 2)\n",
    "plt.imshow(f_predict_images[0], cmap=plt.get_cmap('gray'))\n",
    "plt.show()\n"
   ]
  },
  {
   "cell_type": "markdown",
   "metadata": {},
   "source": [
    "The result should indicate that the autoencoder is not good at reproducing images that look vastly different from the MNIST images. To quantify this further, the code snippet below computes the mean absolute error for the autoencoder, both for all MNIST test examples and all Fashion MNIST test examples. We then plot the results. The resulting chart shows how the autoencoder can be used to identify images that look different than the ones in the training dataset.\n"
   ]
  },
  {
   "cell_type": "code",
   "execution_count": 6,
   "metadata": {},
   "outputs": [
    {
     "data": {
      "image/png": "[encoded data removed]",
      "text/plain": [
       "<Figure size 432x288 with 1 Axes>"
      ]
     },
     "metadata": {
      "needs_background": "light"
     },
     "output_type": "display_data"
    }
   ],
   "source": [
    "# Compute errors and plot.\n",
    "error = np.mean(np.abs(test_images - predict_images), (1, 2))\n",
    "f_error = np.mean(np.abs(f_test_images - f_predict_images), (1, 2))\n",
    "_ = plt.hist((error, f_error), bins=50, label=['mnist',\n",
    "                                               'fashion mnist'])\n",
    "plt.legend()\n",
    "plt.xlabel('mean absolute error')\n",
    "plt.ylabel('examples')\n",
    "plt.title(\"Autoencoder for outlier detection\")\n",
    "plt.show()\n"
   ]
  },
  {
   "cell_type": "markdown",
   "metadata": {},
   "source": [
    "The chart indicates that there is some overlap between the two datasets in terms of resulting error. The code snippet below provides some insight into why this is the case by plotting the images with the highest error from the MNIST dataset. See the book for more details of the expected result.\n"
   ]
  },
  {
   "cell_type": "code",
   "execution_count": 7,
   "metadata": {},
   "outputs": [
    {
     "data": {
      "image/png": "[encoded data removed]",
      "text/plain": [
       "<Figure size 432x288 with 2 Axes>"
      ]
     },
     "metadata": {
      "needs_background": "light"
     },
     "output_type": "display_data"
    }
   ],
   "source": [
    "# Print outliers in mnist data.\n",
    "index = error.argmax()\n",
    "plt.subplot(1, 2, 1)\n",
    "plt.imshow(test_images[index], cmap=plt.get_cmap('gray'))\n",
    "error[index] = 0\n",
    "index = error.argmax()\n",
    "plt.subplot(1, 2, 2)\n",
    "plt.imshow(test_images[index], cmap=plt.get_cmap('gray'))\n",
    "plt.show()\n"
   ]
  }
 ],
 "metadata": {
  "interpreter": {
   "hash": "654cdb963cc6b3f9c9ad4d62d09c9ef98b5857a7ccb19d00cd012c39881c0f63"
  },
  "kernelspec": {
   "display_name": "Python 3.9.7 64-bit ('tf': conda)",
   "name": "python3"
  },
  "language_info": {
   "codemirror_mode": {
    "name": "ipython",
    "version": 3
   },
   "file_extension": ".py",
   "mimetype": "text/x-python",
   "name": "python",
   "nbconvert_exporter": "python",
   "pygments_lexer": "ipython3",
   "version": "3.9.7"
  }
 },
 "nbformat": 4,
 "nbformat_minor": 2
}
