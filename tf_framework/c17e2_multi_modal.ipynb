{
 "cells": [
  {
   "cell_type": "code",
   "execution_count": 1,
   "metadata": {},
   "outputs": [
    {
     "data": {
      "text/plain": [
       "'\\nThe MIT License (MIT)\\nCopyright (c) 2021 NVIDIA\\nPermission is hereby granted, free of charge, to any person obtaining a copy of\\nthis software and associated documentation files (the \"Software\"), to deal in\\nthe Software without restriction, including without limitation the rights to\\nuse, copy, modify, merge, publish, distribute, sublicense, and/or sell copies of\\nthe Software, and to permit persons to whom the Software is furnished to do so,\\nsubject to the following conditions:\\nThe above copyright notice and this permission notice shall be included in all\\ncopies or substantial portions of the Software.\\nTHE SOFTWARE IS PROVIDED \"AS IS\", WITHOUT WARRANTY OF ANY KIND, EXPRESS OR\\nIMPLIED, INCLUDING BUT NOT LIMITED TO THE WARRANTIES OF MERCHANTABILITY, FITNESS\\nFOR A PARTICULAR PURPOSE AND NONINFRINGEMENT. IN NO EVENT SHALL THE AUTHORS OR\\nCOPYRIGHT HOLDERS BE LIABLE FOR ANY CLAIM, DAMAGES OR OTHER LIABILITY, WHETHER\\nIN AN ACTION OF CONTRACT, TORT OR OTHERWISE, ARISING FROM, OUT OF OR IN\\nCONNECTION WITH THE SOFTWARE OR THE USE OR OTHER DEALINGS IN THE SOFTWARE.\\n'"
      ]
     },
     "execution_count": 1,
     "metadata": {},
     "output_type": "execute_result"
    }
   ],
   "source": [
    "\"\"\"\n",
    "The MIT License (MIT)\n",
    "Copyright (c) 2021 NVIDIA\n",
    "Permission is hereby granted, free of charge, to any person obtaining a copy of\n",
    "this software and associated documentation files (the \"Software\"), to deal in\n",
    "the Software without restriction, including without limitation the rights to\n",
    "use, copy, modify, merge, publish, distribute, sublicense, and/or sell copies of\n",
    "the Software, and to permit persons to whom the Software is furnished to do so,\n",
    "subject to the following conditions:\n",
    "The above copyright notice and this permission notice shall be included in all\n",
    "copies or substantial portions of the Software.\n",
    "THE SOFTWARE IS PROVIDED \"AS IS\", WITHOUT WARRANTY OF ANY KIND, EXPRESS OR\n",
    "IMPLIED, INCLUDING BUT NOT LIMITED TO THE WARRANTIES OF MERCHANTABILITY, FITNESS\n",
    "FOR A PARTICULAR PURPOSE AND NONINFRINGEMENT. IN NO EVENT SHALL THE AUTHORS OR\n",
    "COPYRIGHT HOLDERS BE LIABLE FOR ANY CLAIM, DAMAGES OR OTHER LIABILITY, WHETHER\n",
    "IN AN ACTION OF CONTRACT, TORT OR OTHERWISE, ARISING FROM, OUT OF OR IN\n",
    "CONNECTION WITH THE SOFTWARE OR THE USE OR OTHER DEALINGS IN THE SOFTWARE.\n",
    "\"\"\"\n"
   ]
  },
  {
   "cell_type": "markdown",
   "metadata": {},
   "source": [
    "This code example demonstrates how to train a classifier, using two input modalities. We use the MNIST dataset but in addition to the image modality, we also create a textual modality. More context for this code example can be found in the section \"Programming Example: Classification with multimodal input data\" in Chapter 17 in the book Learning Deep Learning by Magnus Ekman (ISBN: 9780137470358).\n",
    "\n",
    "We start with initialization code and loading and standardizing the MNIST dataset in the code snippet below.\n"
   ]
  },
  {
   "cell_type": "code",
   "execution_count": 2,
   "metadata": {},
   "outputs": [],
   "source": [
    "import tensorflow as tf\n",
    "from tensorflow import keras\n",
    "from tensorflow.keras.utils import to_categorical\n",
    "from tensorflow.keras.preprocessing.text import Tokenizer\n",
    "from tensorflow.keras.preprocessing.text \\\n",
    "    import text_to_word_sequence\n",
    "from tensorflow.keras.preprocessing.sequence \\\n",
    "    import pad_sequences\n",
    "from tensorflow.keras.layers import Input\n",
    "from tensorflow.keras.layers import Embedding\n",
    "from tensorflow.keras.layers import LSTM\n",
    "from tensorflow.keras.layers import Flatten\n",
    "from tensorflow.keras.layers import Concatenate\n",
    "from tensorflow.keras.layers import Dense\n",
    "from tensorflow.keras.models import Model\n",
    "import numpy as np\n",
    "import matplotlib.pyplot as plt\n",
    "import logging\n",
    "tf.get_logger().setLevel(logging.ERROR)\n",
    "\n",
    "EPOCHS = 20\n",
    "MAX_WORDS = 8\n",
    "EMBEDDING_WIDTH = 4\n",
    "\n",
    "# Load training and test datasets.\n",
    "mnist = keras.datasets.mnist\n",
    "(train_images, train_labels), (test_images,\n",
    "                               test_labels) = mnist.load_data()\n",
    "\n",
    "# Standardize the data.\n",
    "mean = np.mean(train_images)\n",
    "stddev = np.std(train_images)\n",
    "train_images = (train_images - mean) / stddev\n",
    "test_images = (test_images - mean) / stddev\n"
   ]
  },
  {
   "cell_type": "markdown",
   "metadata": {},
   "source": [
    "The code snippet below creates the second input modality, which is a textual representation of each input example. To not make it too easy for the network, this textual view of the data is not complete but gives only partial information about the digit. For each training and test example, we alternate between specifying that the digit is odd or even and specifying that it is a high or low number. The textual modality created in this code snippet does not fully define what digit it is but can be helpful when an image is ambiguous.\n"
   ]
  },
  {
   "cell_type": "code",
   "execution_count": 3,
   "metadata": {},
   "outputs": [],
   "source": [
    "# Function to create second modality.\n",
    "def create_text(tokenizer, labels):\n",
    "    text = []\n",
    "    for i, label in enumerate(labels):\n",
    "        if i % 2 == 0:\n",
    "            if label < 5:\n",
    "                text.append('lower half')\n",
    "            else:\n",
    "                text.append('upper half')\n",
    "        else:\n",
    "            if label % 2 == 0:\n",
    "                text.append('even number')\n",
    "            else:\n",
    "                text.append('odd number')\n",
    "    text = tokenizer.texts_to_sequences(text)\n",
    "    text = pad_sequences(text)\n",
    "    return text\n",
    "\n",
    "# Create second modality for training and test set.\n",
    "vocabulary = ['lower', 'upper', 'half', 'even', 'odd', 'number']\n",
    "tokenizer = Tokenizer(num_words=MAX_WORDS)\n",
    "tokenizer.fit_on_texts(vocabulary)\n",
    "train_text = create_text(tokenizer, train_labels)\n",
    "test_text = create_text(tokenizer, test_labels)\n"
   ]
  },
  {
   "cell_type": "markdown",
   "metadata": {},
   "source": [
    "The image classification network is similar to the example c5e1_mnist_learning but with an additional subnetwork that processes the textual input. This subnetwork consists of an Embedding layer and an LSTM layer. The output of the LSTM layer is concatenated with the image input and fed to a fully connected layer. This layer is followed by the final fully connected softmax layer that produces the classification. The implementation is shown below."
   ]
  },
  {
   "cell_type": "code",
   "execution_count": 4,
   "metadata": {},
   "outputs": [
    {
     "name": "stdout",
     "output_type": "stream",
     "text": [
      "Metal device set to: Apple M1\n",
      "\n",
      "systemMemory: 8.00 GB\n",
      "maxCacheSize: 2.67 GB\n",
      "\n"
     ]
    },
    {
     "name": "stderr",
     "output_type": "stream",
     "text": [
      "2021-10-20 17:26:57.265753: I tensorflow/core/common_runtime/pluggable_device/pluggable_device_factory.cc:305] Could not identify NUMA node of platform GPU ID 0, defaulting to 0. Your kernel may not have been built with NUMA support.\n",
      "2021-10-20 17:26:57.266230: I tensorflow/core/common_runtime/pluggable_device/pluggable_device_factory.cc:271] Created TensorFlow device (/job:localhost/replica:0/task:0/device:GPU:0 with 0 MB memory) -> physical PluggableDevice (device: 0, name: METAL, pci bus id: <undefined>)\n"
     ]
    },
    {
     "name": "stdout",
     "output_type": "stream",
     "text": [
      "Model: \"model\"\n",
      "__________________________________________________________________________________________________\n",
      "Layer (type)                    Output Shape         Param #     Connected to                     \n",
      "==================================================================================================\n",
      "input_2 (InputLayer)            [(None, 2)]          0                                            \n",
      "__________________________________________________________________________________________________\n",
      "embedding (Embedding)           (None, 2, 4)         32          input_2[0][0]                    \n",
      "__________________________________________________________________________________________________\n",
      "input_1 (InputLayer)            [(None, 28, 28)]     0                                            \n",
      "__________________________________________________________________________________________________\n",
      "lstm (LSTM)                     (None, 8)            416         embedding[0][0]                  \n",
      "__________________________________________________________________________________________________\n",
      "flatten (Flatten)               (None, 784)          0           input_1[0][0]                    \n",
      "__________________________________________________________________________________________________\n",
      "concatenate (Concatenate)       (None, 792)          0           lstm[0][0]                       \n",
      "                                                                 flatten[0][0]                    \n",
      "__________________________________________________________________________________________________\n",
      "dense (Dense)                   (None, 25)           19825       concatenate[0][0]                \n",
      "__________________________________________________________________________________________________\n",
      "dense_1 (Dense)                 (None, 10)           260         dense[0][0]                      \n",
      "==================================================================================================\n",
      "Total params: 20,533\n",
      "Trainable params: 20,533\n",
      "Non-trainable params: 0\n",
      "__________________________________________________________________________________________________\n",
      "Epoch 1/20\n"
     ]
    },
    {
     "name": "stderr",
     "output_type": "stream",
     "text": [
      "2021-10-20 17:26:57.826012: I tensorflow/compiler/mlir/mlir_graph_optimization_pass.cc:185] None of the MLIR Optimization Passes are enabled (registered 2)\n",
      "2021-10-20 17:26:57.828863: W tensorflow/core/platform/profile_utils/cpu_utils.cc:128] Failed to get CPU frequency: 0 Hz\n",
      "2021-10-20 17:26:58.196706: I tensorflow/core/grappler/optimizers/custom_graph_optimizer_registry.cc:112] Plugin optimizer for device_type GPU is enabled.\n",
      "2021-10-20 17:26:58.425430: I tensorflow/core/grappler/optimizers/custom_graph_optimizer_registry.cc:112] Plugin optimizer for device_type GPU is enabled.\n",
      "2021-10-20 17:26:59.699601: I tensorflow/core/grappler/optimizers/custom_graph_optimizer_registry.cc:112] Plugin optimizer for device_type GPU is enabled.\n",
      "2021-10-20 17:27:09.688537: I tensorflow/core/grappler/optimizers/custom_graph_optimizer_registry.cc:112] Plugin optimizer for device_type GPU is enabled.\n",
      "2021-10-20 17:27:09.719698: I tensorflow/core/grappler/optimizers/custom_graph_optimizer_registry.cc:112] Plugin optimizer for device_type GPU is enabled.\n"
     ]
    },
    {
     "name": "stdout",
     "output_type": "stream",
     "text": [
      "938/938 - 12s - loss: 0.3619 - accuracy: 0.8898 - val_loss: 0.2266 - val_accuracy: 0.9293\n",
      "Epoch 2/20\n",
      "938/938 - 9s - loss: 0.2021 - accuracy: 0.9402 - val_loss: 0.1727 - val_accuracy: 0.9463\n",
      "Epoch 3/20\n",
      "938/938 - 9s - loss: 0.1639 - accuracy: 0.9520 - val_loss: 0.1515 - val_accuracy: 0.9532\n",
      "Epoch 4/20\n",
      "938/938 - 9s - loss: 0.1442 - accuracy: 0.9568 - val_loss: 0.1513 - val_accuracy: 0.9549\n",
      "Epoch 5/20\n",
      "938/938 - 9s - loss: 0.1300 - accuracy: 0.9609 - val_loss: 0.1479 - val_accuracy: 0.9572\n",
      "Epoch 6/20\n",
      "938/938 - 9s - loss: 0.1211 - accuracy: 0.9630 - val_loss: 0.1331 - val_accuracy: 0.9581\n",
      "Epoch 7/20\n",
      "938/938 - 9s - loss: 0.1114 - accuracy: 0.9668 - val_loss: 0.1340 - val_accuracy: 0.9612\n",
      "Epoch 8/20\n",
      "938/938 - 9s - loss: 0.1044 - accuracy: 0.9683 - val_loss: 0.1278 - val_accuracy: 0.9599\n",
      "Epoch 9/20\n",
      "938/938 - 9s - loss: 0.0988 - accuracy: 0.9705 - val_loss: 0.1230 - val_accuracy: 0.9624\n",
      "Epoch 10/20\n",
      "938/938 - 10s - loss: 0.0958 - accuracy: 0.9713 - val_loss: 0.1342 - val_accuracy: 0.9608\n",
      "Epoch 11/20\n",
      "938/938 - 9s - loss: 0.0899 - accuracy: 0.9724 - val_loss: 0.1359 - val_accuracy: 0.9601\n",
      "Epoch 12/20\n",
      "938/938 - 10s - loss: 0.0868 - accuracy: 0.9734 - val_loss: 0.1240 - val_accuracy: 0.9638\n",
      "Epoch 13/20\n",
      "938/938 - 9s - loss: 0.0815 - accuracy: 0.9746 - val_loss: 0.1199 - val_accuracy: 0.9649\n",
      "Epoch 14/20\n",
      "938/938 - 10s - loss: 0.0795 - accuracy: 0.9761 - val_loss: 0.1206 - val_accuracy: 0.9656\n",
      "Epoch 15/20\n",
      "938/938 - 9s - loss: 0.0782 - accuracy: 0.9760 - val_loss: 0.1259 - val_accuracy: 0.9635\n",
      "Epoch 16/20\n",
      "938/938 - 9s - loss: 0.0747 - accuracy: 0.9766 - val_loss: 0.1196 - val_accuracy: 0.9644\n",
      "Epoch 17/20\n",
      "938/938 - 9s - loss: 0.0718 - accuracy: 0.9773 - val_loss: 0.1259 - val_accuracy: 0.9626\n",
      "Epoch 18/20\n",
      "938/938 - 9s - loss: 0.0691 - accuracy: 0.9782 - val_loss: 0.1296 - val_accuracy: 0.9633\n",
      "Epoch 19/20\n",
      "938/938 - 9s - loss: 0.0670 - accuracy: 0.9789 - val_loss: 0.1230 - val_accuracy: 0.9653\n",
      "Epoch 20/20\n",
      "938/938 - 9s - loss: 0.0641 - accuracy: 0.9794 - val_loss: 0.1320 - val_accuracy: 0.9643\n"
     ]
    }
   ],
   "source": [
    "# Create model with functional API.\n",
    "image_input = Input(shape=(28, 28))\n",
    "text_input = Input(shape=(2, ))\n",
    "\n",
    "# Declare layers.\n",
    "embedding_layer = Embedding(output_dim=EMBEDDING_WIDTH,\n",
    "                            input_dim = MAX_WORDS)\n",
    "lstm_layer = LSTM(8)\n",
    "flatten_layer = Flatten()\n",
    "concat_layer = Concatenate()\n",
    "dense_layer = Dense(25,activation='relu')\n",
    "output_layer = Dense(10, activation='softmax')\n",
    "\n",
    "# Connect layers.\n",
    "embedding_output = embedding_layer(text_input)\n",
    "lstm_output = lstm_layer(embedding_output)\n",
    "flatten_output = flatten_layer(image_input)\n",
    "concat_output = concat_layer([lstm_output, flatten_output])\n",
    "dense_output = dense_layer(concat_output)\n",
    "outputs = output_layer(dense_output)\n",
    "\n",
    "# Build and train model.\n",
    "model = Model([image_input, text_input], outputs)\n",
    "model.compile(loss='sparse_categorical_crossentropy',\n",
    "              optimizer='adam', metrics =['accuracy'])\n",
    "model.summary()\n",
    "history = model.fit([train_images, train_text], train_labels,\n",
    "                    validation_data=([test_images, test_text],\n",
    "                                     test_labels), epochs=EPOCHS,\n",
    "                    batch_size=64, verbose=2, shuffle=True)\n"
   ]
  },
  {
   "cell_type": "markdown",
   "metadata": {},
   "source": [
    "To illustrate the effect of using the two input modalities, we do an experiment in the code snippet below. We first show all the information about a given test example. It turns out to be the digit 7, and the textual description was 'upper half'. We then use the network to make a prediction, given this image and textual description as input. We print out digits and predicted probabilities, sorted on the basis of the probabilities. The expected result is that the network correctly predicts the digit as a 7.\n",
    "\n",
    "As a next step, we do another prediction, but this time we change the textual input to indicate 'lower half'. Looking at the probabilities, the probabilities for the high digits should now have decreased. The exact result varies, but in many cases, the probabilities changes enough so the prediction from the network changes from a 7 to a 3. This illustrates that the network has learned to take both the image and the textual description into account.\n"
   ]
  },
  {
   "cell_type": "code",
   "execution_count": 5,
   "metadata": {},
   "outputs": [
    {
     "name": "stdout",
     "output_type": "stream",
     "text": [
      "7\n",
      "['upper half']\n"
     ]
    },
    {
     "data": {
      "image/png": "[encoded data removed]",
      "text/plain": [
       "<Figure size 72x72 with 1 Axes>"
      ]
     },
     "metadata": {
      "needs_background": "light"
     },
     "output_type": "display_data"
    },
    {
     "name": "stderr",
     "output_type": "stream",
     "text": [
      "2021-10-20 17:30:06.128137: I tensorflow/core/grappler/optimizers/custom_graph_optimizer_registry.cc:112] Plugin optimizer for device_type GPU is enabled.\n",
      "2021-10-20 17:30:06.281546: I tensorflow/core/grappler/optimizers/custom_graph_optimizer_registry.cc:112] Plugin optimizer for device_type GPU is enabled.\n"
     ]
    },
    {
     "name": "stdout",
     "output_type": "stream",
     "text": [
      "Predictions with correct input:\n",
      "Digit: 7, probability: 1.00e+00\n",
      "Digit: 2, probability: 4.29e-05\n",
      "Digit: 3, probability: 2.90e-05\n",
      "Digit: 9, probability: 1.88e-05\n",
      "Digit: 0, probability: 1.66e-05\n",
      "Digit: 8, probability: 5.04e-08\n",
      "Digit: 5, probability: 2.67e-10\n",
      "Digit: 1, probability: 3.69e-11\n",
      "Digit: 4, probability: 4.07e-12\n",
      "Digit: 6, probability: 6.59e-17\n",
      "\n",
      "Predictions with incorrect input:\n",
      "Digit: 7, probability: 1.00e+00\n",
      "Digit: 2, probability: 4.29e-05\n",
      "Digit: 3, probability: 2.90e-05\n",
      "Digit: 9, probability: 1.88e-05\n",
      "Digit: 0, probability: 1.66e-05\n",
      "Digit: 8, probability: 5.04e-08\n",
      "Digit: 5, probability: 2.67e-10\n",
      "Digit: 1, probability: 3.69e-11\n",
      "Digit: 4, probability: 4.07e-12\n",
      "Digit: 6, probability: 6.59e-17\n"
     ]
    }
   ],
   "source": [
    "# Print input modalities and output for one test example.\n",
    "print(test_labels[0])\n",
    "print(tokenizer.sequences_to_texts([test_text[0]]))\n",
    "plt.figure(figsize=(1, 1))\n",
    "plt.imshow(test_images[0], cmap=plt.get_cmap('gray'))\n",
    "plt.show()\n",
    "\n",
    "# Predict test example.\n",
    "y = model.predict([test_images[0:1], np.array(\n",
    "    tokenizer.texts_to_sequences(['upper half']))])[0] #7\n",
    "print('Predictions with correct input:')\n",
    "for i in range(len(y)):\n",
    "    index = y.argmax()\n",
    "    print('Digit: %d,' %index, 'probability: %5.2e' %y[index])\n",
    "    y[index] = 0\n",
    "\n",
    "# Predict same test example but with modified textual description.\n",
    "print('\\nPredictions with incorrect input:')\n",
    "y = model.predict([test_images[0:1], np.array(\n",
    "    tokenizer.texts_to_sequences(['lower half']))])[0] #7\n",
    "for i in range(len(y)):\n",
    "    index = y.argmax()\n",
    "    print('Digit: %d,' %index, 'probability: %5.2e' %y[index])\n",
    "    y[index] = 0\n"
   ]
  }
 ],
 "metadata": {
  "interpreter": {
   "hash": "654cdb963cc6b3f9c9ad4d62d09c9ef98b5857a7ccb19d00cd012c39881c0f63"
  },
  "kernelspec": {
   "display_name": "Python 3.9.7 64-bit ('tf': conda)",
   "name": "python3"
  },
  "language_info": {
   "codemirror_mode": {
    "name": "ipython",
    "version": 3
   },
   "file_extension": ".py",
   "mimetype": "text/x-python",
   "name": "python",
   "nbconvert_exporter": "python",
   "pygments_lexer": "ipython3",
   "version": "3.9.7"
  }
 },
 "nbformat": 4,
 "nbformat_minor": 2
}
