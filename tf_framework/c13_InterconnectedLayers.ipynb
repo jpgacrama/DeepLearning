{
 "cells": [
  {
   "cell_type": "markdown",
   "metadata": {},
   "source": [
    "Interconnected Neurons"
   ]
  },
  {
   "cell_type": "code",
   "execution_count": 6,
   "metadata": {},
   "outputs": [
    {
     "name": "stdout",
     "output_type": "stream",
     "text": [
      "KerasTensor(type_spec=TensorSpec(shape=(None, 10), dtype=tf.float32, name='input_6'), name='input_6', description=\"created by layer 'input_6'\")\n",
      "Model: \"model_5\"\n",
      "_________________________________________________________________\n",
      "Layer (type)                 Output Shape              Param #   \n",
      "=================================================================\n",
      "input_6 (InputLayer)         [(None, 10)]              0         \n",
      "_________________________________________________________________\n",
      "dense_10 (Dense)             (None, 64)                704       \n",
      "_________________________________________________________________\n",
      "dense_11 (Dense)             (None, 64)                4160      \n",
      "=================================================================\n",
      "Total params: 4,864\n",
      "Trainable params: 4,864\n",
      "Non-trainable params: 0\n",
      "_________________________________________________________________\n"
     ]
    }
   ],
   "source": [
    "from tensorflow.keras.layers import Input, Dense\n",
    "from tensorflow.keras.models import Model\n",
    "\n",
    "# Declare inputs.\n",
    "inputs = Input(shape=(10,))\n",
    "\n",
    "# Declare layers.\n",
    "layer1 = Dense(64, activation='relu')\n",
    "layer2 = Dense(64, activation='relu')\n",
    "\n",
    "# Connect inputs and layers.\n",
    "layer1_outputs = layer1(inputs)\n",
    "layer2_outputs = layer2(layer1_outputs)\n",
    "\n",
    "# Create model.\n",
    "model = Model(inputs=inputs, outputs=layer2_outputs)\n",
    "model.summary()"
   ]
  }
 ],
 "metadata": {
  "interpreter": {
   "hash": "654cdb963cc6b3f9c9ad4d62d09c9ef98b5857a7ccb19d00cd012c39881c0f63"
  },
  "kernelspec": {
   "display_name": "Python 3.9.7 64-bit ('tf': conda)",
   "name": "python3"
  },
  "language_info": {
   "codemirror_mode": {
    "name": "ipython",
    "version": 3
   },
   "file_extension": ".py",
   "mimetype": "text/x-python",
   "name": "python",
   "nbconvert_exporter": "python",
   "pygments_lexer": "ipython3",
   "version": "3.9.7"
  },
  "orig_nbformat": 4
 },
 "nbformat": 4,
 "nbformat_minor": 2
}
