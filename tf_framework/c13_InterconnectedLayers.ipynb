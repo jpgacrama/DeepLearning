{
 "cells": [
  {
   "cell_type": "markdown",
   "metadata": {},
   "source": [
    "Interconnected Neurons"
   ]
  },
  {
   "cell_type": "code",
   "execution_count": 6,
   "metadata": {},
   "outputs": [
    {
     "name": "stdout",
     "output_type": "stream",
     "text": [
      "KerasTensor(type_spec=TensorSpec(shape=(None, 10), dtype=tf.float32, name='input_6'), name='input_6', description=\"created by layer 'input_6'\")\n",
      "Model: \"model_5\"\n",
      "_________________________________________________________________\n",
      "Layer (type)                 Output Shape              Param #   \n",
      "=================================================================\n",
      "input_6 (InputLayer)         [(None, 10)]              0         \n",
      "_________________________________________________________________\n",
      "dense_10 (Dense)             (None, 64)                704       \n",
      "_________________________________________________________________\n",
      "dense_11 (Dense)             (None, 64)                4160      \n",
      "=================================================================\n",
      "Total params: 4,864\n",
      "Trainable params: 4,864\n",
      "Non-trainable params: 0\n",
      "_________________________________________________________________\n"
     ]
    }
   ],
   "source": [
    "from tensorflow.keras.layers import Input, Dense\n",
    "from tensorflow.keras.models import Model\n",
    "\n",
    "# Declare inputs.\n",
    "inputs = Input(shape=(10,))\n",
    "\n",
    "# Declare layers.\n",
    "layer1 = Dense(64, activation='relu')\n",
    "layer2 = Dense(64, activation='relu')\n",
    "\n",
    "# Connect inputs and layers.\n",
    "layer1_outputs = layer1(inputs)\n",
    "layer2_outputs = layer2(layer1_outputs)\n",
    "\n",
    "# Create model.\n",
    "model = Model(inputs=inputs, outputs=layer2_outputs)\n",
    "model.summary()"
   ]
  },
  {
   "cell_type": "code",
   "execution_count": 1,
   "metadata": {},
   "outputs": [
    {
     "name": "stdout",
     "output_type": "stream",
     "text": [
      "Model: \"functional_1\"\n",
      "__________________________________________________________________________________________________\n",
      "Layer (type)                    Output Shape         Param #     Connected to                     \n",
      "==================================================================================================\n",
      "input_1 (InputLayer)            [(None, 10)]         0                                            \n",
      "__________________________________________________________________________________________________\n",
      "dense (Dense)                   (None, 64)           704         input_1[0][0]                    \n",
      "__________________________________________________________________________________________________\n",
      "input_2 (InputLayer)            [(None, 5)]          0                                            \n",
      "__________________________________________________________________________________________________\n",
      "concatenate (Concatenate)       (None, 69)           0           dense[0][0]                      \n",
      "                                                                 input_2[0][0]                    \n",
      "__________________________________________________________________________________________________\n",
      "dense_1 (Dense)                 (None, 64)           4480        concatenate[0][0]                \n",
      "==================================================================================================\n",
      "Total params: 5,184\n",
      "Trainable params: 5,184\n",
      "Non-trainable params: 0\n",
      "__________________________________________________________________________________________________\n"
     ]
    }
   ],
   "source": [
    "from tensorflow.keras.layers import Input, Dense\n",
    "from tensorflow.keras.models import Model\n",
    "from tensorflow.keras.layers import Concatenate\n",
    "\n",
    "# Declare inputs.\n",
    "inputs = Input(shape=(10,))\n",
    "bypass_inputs = Input(shape=(5,))\n",
    "\n",
    "# Declare layers.\n",
    "layer1 = Dense(64, activation='relu')\n",
    "concat_layer = Concatenate()\n",
    "layer2 = Dense(64, activation='relu')\n",
    "\n",
    "# Connect inputs and layers.\n",
    "layer1_outputs = layer1(inputs)\n",
    "layer2_inputs = concat_layer([layer1_outputs, bypass_inputs])\n",
    "layer2_outputs = layer2(layer2_inputs)\n",
    "\n",
    "# Create model.\n",
    "model = Model(inputs=[inputs, bypass_inputs],\n",
    "              outputs=layer2_outputs)\n",
    "model.summary()"
   ]
  }
 ],
 "metadata": {
  "interpreter": {
   "hash": "128209516f5065d1f81ee6d120eeb1df43d98e2c468614875a7c7115dcf2aa82"
  },
  "kernelspec": {
   "display_name": "Python 3.8.11 64-bit ('base': conda)",
   "name": "python3"
  },
  "language_info": {
   "codemirror_mode": {
    "name": "ipython",
    "version": 3
   },
   "file_extension": ".py",
   "mimetype": "text/x-python",
   "name": "python",
   "nbconvert_exporter": "python",
   "pygments_lexer": "ipython3",
   "version": "3.8.11"
  },
  "orig_nbformat": 4
 },
 "nbformat": 4,
 "nbformat_minor": 2
}
