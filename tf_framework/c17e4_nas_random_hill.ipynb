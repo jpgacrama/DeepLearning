{
 "cells": [
  {
   "cell_type": "code",
   "execution_count": 1,
   "metadata": {},
   "outputs": [
    {
     "data": {
      "text/plain": [
       "'\\nThe MIT License (MIT)\\nCopyright (c) 2021 NVIDIA\\nPermission is hereby granted, free of charge, to any person obtaining a copy of\\nthis software and associated documentation files (the \"Software\"), to deal in\\nthe Software without restriction, including without limitation the rights to\\nuse, copy, modify, merge, publish, distribute, sublicense, and/or sell copies of\\nthe Software, and to permit persons to whom the Software is furnished to do so,\\nsubject to the following conditions:\\nThe above copyright notice and this permission notice shall be included in all\\ncopies or substantial portions of the Software.\\nTHE SOFTWARE IS PROVIDED \"AS IS\", WITHOUT WARRANTY OF ANY KIND, EXPRESS OR\\nIMPLIED, INCLUDING BUT NOT LIMITED TO THE WARRANTIES OF MERCHANTABILITY, FITNESS\\nFOR A PARTICULAR PURPOSE AND NONINFRINGEMENT. IN NO EVENT SHALL THE AUTHORS OR\\nCOPYRIGHT HOLDERS BE LIABLE FOR ANY CLAIM, DAMAGES OR OTHER LIABILITY, WHETHER\\nIN AN ACTION OF CONTRACT, TORT OR OTHERWISE, ARISING FROM, OUT OF OR IN\\nCONNECTION WITH THE SOFTWARE OR THE USE OR OTHER DEALINGS IN THE SOFTWARE.\\n'"
      ]
     },
     "execution_count": 1,
     "metadata": {},
     "output_type": "execute_result"
    }
   ],
   "source": [
    "\"\"\"\n",
    "The MIT License (MIT)\n",
    "Copyright (c) 2021 NVIDIA\n",
    "Permission is hereby granted, free of charge, to any person obtaining a copy of\n",
    "this software and associated documentation files (the \"Software\"), to deal in\n",
    "the Software without restriction, including without limitation the rights to\n",
    "use, copy, modify, merge, publish, distribute, sublicense, and/or sell copies of\n",
    "the Software, and to permit persons to whom the Software is furnished to do so,\n",
    "subject to the following conditions:\n",
    "The above copyright notice and this permission notice shall be included in all\n",
    "copies or substantial portions of the Software.\n",
    "THE SOFTWARE IS PROVIDED \"AS IS\", WITHOUT WARRANTY OF ANY KIND, EXPRESS OR\n",
    "IMPLIED, INCLUDING BUT NOT LIMITED TO THE WARRANTIES OF MERCHANTABILITY, FITNESS\n",
    "FOR A PARTICULAR PURPOSE AND NONINFRINGEMENT. IN NO EVENT SHALL THE AUTHORS OR\n",
    "COPYRIGHT HOLDERS BE LIABLE FOR ANY CLAIM, DAMAGES OR OTHER LIABILITY, WHETHER\n",
    "IN AN ACTION OF CONTRACT, TORT OR OTHERWISE, ARISING FROM, OUT OF OR IN\n",
    "CONNECTION WITH THE SOFTWARE OR THE USE OR OTHER DEALINGS IN THE SOFTWARE.\n",
    "\"\"\"\n"
   ]
  },
  {
   "cell_type": "markdown",
   "metadata": {},
   "source": [
    "This code example demonstrates how to use Neural Architecture Search (NAS) to find a suitable architecture for CIFAR-10 classification. We implement random search and hill climbing. More context for this code example can be found in the section \"Programming Example: Searching for an architecture for CIFAR-10 classification\" in Chapter 17 in the book Learning Deep Learning by Magnus Ekman (ISBN: 9780137470358).\n",
    "\n",
    "We start with initialization code and loading the dataset in the code snippet below. We define some variables that are part of defining the search space, such as what types of layers can be used and what kind of parameters and values are valid for each type of layer.\n"
   ]
  },
  {
   "cell_type": "code",
   "execution_count": 2,
   "metadata": {},
   "outputs": [],
   "source": [
    "import tensorflow as tf\n",
    "from tensorflow import keras\n",
    "from tensorflow.keras.utils import to_categorical\n",
    "from tensorflow.keras.models import Sequential\n",
    "from tensorflow.keras.layers import Lambda\n",
    "from tensorflow.keras.layers import Dense\n",
    "from tensorflow.keras.layers import Flatten\n",
    "from tensorflow.keras.layers import Conv2D\n",
    "from tensorflow.keras.layers import Dropout\n",
    "from tensorflow.keras.layers import MaxPooling2D\n",
    "import numpy as np\n",
    "import logging\n",
    "import copy\n",
    "tf.get_logger().setLevel(logging.ERROR)\n",
    "\n",
    "MAX_MODEL_SIZE = 500000\n",
    "CANDIDATE_EVALUATIONS = 100\n",
    "EVAL_EPOCHS = 3\n",
    "FINAL_EPOCHS = 20\n",
    "\n",
    "layer_types = ['DENSE', 'CONV2D', 'MAXPOOL2D']\n",
    "param_values = dict([('size', [16, 64, 256, 1024, 4096]),\n",
    "                ('activation', ['relu', 'tanh', 'elu']),\n",
    "                ('kernel_size', [(1, 1), (2, 2), (3, 3), (4, 4)]),\n",
    "                ('stride', [(1, 1), (2, 2), (3, 3), (4, 4)]),\n",
    "                ('dropout', [0.0, 0.4, 0.7, 0.9])])\n",
    "\n",
    "layer_params = dict([('DENSE', ['size', 'activation', 'dropout']),\n",
    "                     ('CONV2D', ['size', 'activation',\n",
    "                                 'kernel_size', 'stride',\n",
    "                                 'dropout']),\n",
    "                     ('MAXPOOL2D', ['kernel_size', 'stride',\n",
    "                                    'dropout'])])\n",
    "\n",
    "# Load dataset.\n",
    "cifar_dataset = keras.datasets.cifar10\n",
    "(train_images, train_labels), (test_images,\n",
    "                    test_labels) = cifar_dataset.load_data()\n",
    "\n",
    "# Standardize dataset.\n",
    "mean = np.mean(train_images)\n",
    "stddev = np.std(train_images)\n",
    "train_images = (train_images - mean) / stddev\n",
    "test_images = (test_images - mean) / stddev\n",
    "\n",
    "# Change labels to one-hot.\n",
    "train_labels = to_categorical(train_labels,\n",
    "                              num_classes=10)\n",
    "test_labels = to_categorical(test_labels,\n",
    "                             num_classes=10)\n"
   ]
  },
  {
   "cell_type": "markdown",
   "metadata": {},
   "source": [
    "The next step is to build some infrastructure for automatically generating models. To keep things simple, we impose significant restrictions on the search space. To start with, we allow only sequential models. In addition, given our knowledge of the application (image classification), we impose a rigid structure on the network. We view the network as a combination of a bottom subnetwork and a top subnetwork. The bottom part consists of a combination of convolutional and maxpooling layers, and the top part consists of fully connected layers. In addition, we allow dropout layers after any layer, and we also add a flatten layer between the bottom and the top to ensure that we end up with a valid TensorFlow model.\n",
    "\n",
    "The methods in the code snippet below are used to generate a random model within this constrained search space. There is also a method that computes the size of the resulting model in terms of the number of trainable parameters. Note that these methods do not have anything to do with TensorFlow but is our own representation of a network before invoking the DL framework.\n"
   ]
  },
  {
   "cell_type": "code",
   "execution_count": 3,
   "metadata": {},
   "outputs": [],
   "source": [
    "# Methods to create a model definition.\n",
    "def generate_random_layer(layer_type):\n",
    "    layer = {}\n",
    "    layer['layer_type'] = layer_type\n",
    "    params = layer_params[layer_type]\n",
    "    for param in params:\n",
    "        values = param_values[param]\n",
    "        layer[param] = values[np.random.randint(0, len(values))]\n",
    "    return layer\n",
    "\n",
    "def generate_model_definition():\n",
    "    layer_count = np.random.randint(2, 9)\n",
    "    non_dense_count = np.random.randint(1, layer_count)\n",
    "    layers = []\n",
    "    for i in range(layer_count):\n",
    "        if i < non_dense_count:\n",
    "            layer_type = layer_types[np.random.randint(1, 3)]\n",
    "            layer = generate_random_layer(layer_type)\n",
    "        else:\n",
    "            layer = generate_random_layer('DENSE')\n",
    "        layers.append(layer)\n",
    "    return layers\n",
    "\n",
    "def compute_weight_count(layers):\n",
    "    last_shape = (32, 32, 3)\n",
    "    total_weights = 0\n",
    "    for layer in layers:\n",
    "        layer_type = layer['layer_type']\n",
    "        if layer_type == 'DENSE':\n",
    "            size = layer['size']\n",
    "            weights = size * (np.prod(last_shape) + 1)\n",
    "            last_shape = (layer['size'])\n",
    "        else:\n",
    "            stride = layer['stride']\n",
    "            if layer_type == 'CONV2D':\n",
    "                size = layer['size']\n",
    "                kernel_size = layer['kernel_size']\n",
    "                weights = size * ((np.prod(kernel_size) *\n",
    "                                   last_shape[2]) + 1)\n",
    "                last_shape = (np.ceil(last_shape[0]/stride[0]),\n",
    "                              np.ceil(last_shape[1]/stride[1]),\n",
    "                              size)\n",
    "            elif layer_type == 'MAXPOOL2D':\n",
    "                weights = 0\n",
    "                last_shape = (np.ceil(last_shape[0]/stride[0]),\n",
    "                              np.ceil(last_shape[1]/stride[1]),\n",
    "                              last_shape[2])\n",
    "        total_weights += weights\n",
    "    total_weights += ((np.prod(last_shape) + 1) * 10)\n",
    "    return total_weights\n"
   ]
  },
  {
   "cell_type": "markdown",
   "metadata": {},
   "source": [
    "The next set of methods takes the model definition created in the previous code snippet and creates and evaluates a corresponding TensorFlow model for a small number of epochs. This is all shown in the next code snippet. The method that evaluates the model imposes a size restriction. If the requested model has too many parameters, the method simply returns an accuracy of 0.0. The search algorithm that invokes the method will need to check for this and, if needed, generate a smaller model.\n"
   ]
  },
  {
   "cell_type": "code",
   "execution_count": 4,
   "metadata": {},
   "outputs": [],
   "source": [
    "# Methods to create and evaluate model based on model definition.\n",
    "def add_layer(model, params, prior_type):\n",
    "    layer_type = params['layer_type']\n",
    "    if layer_type == 'DENSE':\n",
    "        if prior_type != 'DENSE':\n",
    "            model.add(Flatten())\n",
    "        size = params['size']\n",
    "        act = params['activation']\n",
    "        model.add(Dense(size, activation=act))\n",
    "    elif layer_type == 'CONV2D':\n",
    "        size = params['size']\n",
    "        act = params['activation']\n",
    "        kernel_size = params['kernel_size']\n",
    "        stride = params['stride']\n",
    "        model.add(Conv2D(size, kernel_size, activation=act,\n",
    "                         strides=stride, padding='same'))\n",
    "    elif layer_type == 'MAXPOOL2D':\n",
    "        kernel_size = params['kernel_size']\n",
    "        stride = params['stride']\n",
    "        model.add(MaxPooling2D(pool_size=kernel_size,\n",
    "                               strides=stride, padding='same'))\n",
    "    dropout = params['dropout']\n",
    "    if(dropout > 0.0):\n",
    "        model.add(Dropout(dropout))\n",
    "\n",
    "def create_model(layers):\n",
    "    tf.keras.backend.clear_session()\n",
    "    model = Sequential()\n",
    "    model.add(Lambda(lambda x: x, input_shape=(32, 32, 3)))\n",
    "    prev_layer = 'LAMBDA' # Dummy layer to set input_shape\n",
    "    for layer in layers:\n",
    "        add_layer(model, layer, prev_layer)\n",
    "        prev_layer = layer['layer_type']\n",
    "    model.add(Dense(10, activation='softmax'))\n",
    "    model.compile(loss='categorical_crossentropy',\n",
    "                  optimizer='adam', metrics=['accuracy'])\n",
    "    return model\n",
    "\n",
    "def create_and_evaluate_model(model_definition):\n",
    "    weight_count = compute_weight_count(model_definition)\n",
    "    if weight_count > MAX_MODEL_SIZE:\n",
    "        return 0.0\n",
    "    model = create_model(model_definition)\n",
    "    history = model.fit(train_images, train_labels,\n",
    "                        validation_data=(test_images, test_labels),\n",
    "                        epochs=EVAL_EPOCHS, batch_size=64,\n",
    "                        verbose=2, shuffle=False)\n",
    "    acc = history.history['val_accuracy'][-1]\n",
    "    print('Size: ', weight_count)\n",
    "    print('Accuracy: %5.2f' %acc)\n",
    "    return acc\n"
   ]
  },
  {
   "cell_type": "markdown",
   "metadata": {},
   "source": [
    "We now have all the building blocks to implement pure random search. This is shown in the code snippet below. It consists of an outer for loop that runs for a fixed number of iterations. Each iteration randomly generates and evaluates a model. There is an inner loop to handle the case when the generated model is too big. The inner loop simply repeatedly generates random models until one is generated that adheres to the size restriction.\n"
   ]
  },
  {
   "cell_type": "code",
   "execution_count": 5,
   "metadata": {},
   "outputs": [
    {
     "name": "stdout",
     "output_type": "stream",
     "text": [
      "\n",
      "Current Iteration: 1 of 100\n",
      "Metal device set to: Apple M1\n",
      "\n",
      "systemMemory: 8.00 GB\n",
      "maxCacheSize: 2.67 GB\n",
      "\n"
     ]
    },
    {
     "name": "stderr",
     "output_type": "stream",
     "text": [
      "2021-10-21 18:18:34.298389: I tensorflow/core/common_runtime/pluggable_device/pluggable_device_factory.cc:305] Could not identify NUMA node of platform GPU ID 0, defaulting to 0. Your kernel may not have been built with NUMA support.\n",
      "2021-10-21 18:18:34.298731: I tensorflow/core/common_runtime/pluggable_device/pluggable_device_factory.cc:271] Created TensorFlow device (/job:localhost/replica:0/task:0/device:GPU:0 with 0 MB memory) -> physical PluggableDevice (device: 0, name: METAL, pci bus id: <undefined>)\n",
      "2021-10-21 18:18:35.452762: I tensorflow/compiler/mlir/mlir_graph_optimization_pass.cc:185] None of the MLIR Optimization Passes are enabled (registered 2)\n",
      "2021-10-21 18:18:35.468846: W tensorflow/core/platform/profile_utils/cpu_utils.cc:128] Failed to get CPU frequency: 0 Hz\n"
     ]
    },
    {
     "name": "stdout",
     "output_type": "stream",
     "text": [
      "Epoch 1/3\n"
     ]
    },
    {
     "name": "stderr",
     "output_type": "stream",
     "text": [
      "2021-10-21 18:18:35.671478: I tensorflow/core/grappler/optimizers/custom_graph_optimizer_registry.cc:112] Plugin optimizer for device_type GPU is enabled.\n",
      "2021-10-21 18:18:44.903273: I tensorflow/core/grappler/optimizers/custom_graph_optimizer_registry.cc:112] Plugin optimizer for device_type GPU is enabled.\n"
     ]
    },
    {
     "name": "stdout",
     "output_type": "stream",
     "text": [
      "782/782 - 10s - loss: 3.0740 - accuracy: 0.1105 - val_loss: 2.1664 - val_accuracy: 0.1997\n",
      "Epoch 2/3\n",
      "782/782 - 9s - loss: 2.3494 - accuracy: 0.1326 - val_loss: 2.0841 - val_accuracy: 0.1902\n",
      "Epoch 3/3\n",
      "782/782 - 10s - loss: 2.3036 - accuracy: 0.1449 - val_loss: 2.0687 - val_accuracy: 0.1945\n",
      "Size:  306570.0\n",
      "Accuracy:  0.19\n",
      "Random search, best accuracy:  0.19\n",
      "\n",
      "Current Iteration: 2 of 100\n",
      "Epoch 1/3\n"
     ]
    },
    {
     "name": "stderr",
     "output_type": "stream",
     "text": [
      "2021-10-21 18:19:06.478012: I tensorflow/core/grappler/optimizers/custom_graph_optimizer_registry.cc:112] Plugin optimizer for device_type GPU is enabled.\n",
      "2021-10-21 18:19:20.440194: I tensorflow/core/grappler/optimizers/custom_graph_optimizer_registry.cc:112] Plugin optimizer for device_type GPU is enabled.\n"
     ]
    },
    {
     "name": "stdout",
     "output_type": "stream",
     "text": [
      "782/782 - 15s - loss: 2.4466 - accuracy: 0.1013 - val_loss: 2.3275 - val_accuracy: 0.1001\n",
      "Epoch 2/3\n",
      "782/782 - 15s - loss: 2.4057 - accuracy: 0.1014 - val_loss: 2.3246 - val_accuracy: 0.1000\n",
      "Epoch 3/3\n",
      "782/782 - 14s - loss: 2.4142 - accuracy: 0.1036 - val_loss: 2.3329 - val_accuracy: 0.1000\n",
      "Size:  154650.0\n",
      "Accuracy:  0.10\n",
      "Random search, best accuracy:  0.19\n",
      "\n",
      "Current Iteration: 3 of 100\n",
      "Epoch 1/3\n"
     ]
    },
    {
     "name": "stderr",
     "output_type": "stream",
     "text": [
      "2021-10-21 18:19:52.019846: I tensorflow/core/grappler/optimizers/custom_graph_optimizer_registry.cc:112] Plugin optimizer for device_type GPU is enabled.\n",
      "2021-10-21 18:20:01.179513: I tensorflow/core/grappler/optimizers/custom_graph_optimizer_registry.cc:112] Plugin optimizer for device_type GPU is enabled.\n"
     ]
    },
    {
     "name": "stdout",
     "output_type": "stream",
     "text": [
      "782/782 - 10s - loss: 2.5012 - accuracy: 0.1054 - val_loss: 2.2842 - val_accuracy: 0.1114\n",
      "Epoch 2/3\n",
      "782/782 - 10s - loss: 2.2970 - accuracy: 0.1225 - val_loss: 2.2629 - val_accuracy: 0.1079\n",
      "Epoch 3/3\n",
      "782/782 - 10s - loss: 2.2860 - accuracy: 0.1266 - val_loss: 2.2786 - val_accuracy: 0.1032\n",
      "Size:  310746.0\n",
      "Accuracy:  0.10\n",
      "Random search, best accuracy:  0.19\n",
      "\n",
      "Current Iteration: 4 of 100\n",
      "Epoch 1/3\n"
     ]
    },
    {
     "name": "stderr",
     "output_type": "stream",
     "text": [
      "2021-10-21 18:20:23.181948: I tensorflow/core/grappler/optimizers/custom_graph_optimizer_registry.cc:112] Plugin optimizer for device_type GPU is enabled.\n",
      "2021-10-21 18:20:32.045507: I tensorflow/core/grappler/optimizers/custom_graph_optimizer_registry.cc:112] Plugin optimizer for device_type GPU is enabled.\n"
     ]
    },
    {
     "name": "stdout",
     "output_type": "stream",
     "text": [
      "782/782 - 10s - loss: 2.3248 - accuracy: 0.1028 - val_loss: 2.3052 - val_accuracy: 0.1000\n",
      "Epoch 2/3\n",
      "782/782 - 9s - loss: 2.3042 - accuracy: 0.1139 - val_loss: 2.2523 - val_accuracy: 0.1512\n",
      "Epoch 3/3\n",
      "782/782 - 8s - loss: 2.2845 - accuracy: 0.1261 - val_loss: 2.2453 - val_accuracy: 0.1604\n",
      "Size:  50026.0\n",
      "Accuracy:  0.16\n",
      "Random search, best accuracy:  0.19\n",
      "\n",
      "Current Iteration: 5 of 100\n",
      "Epoch 1/3\n"
     ]
    },
    {
     "name": "stderr",
     "output_type": "stream",
     "text": [
      "2021-10-21 18:20:51.335197: I tensorflow/core/grappler/optimizers/custom_graph_optimizer_registry.cc:112] Plugin optimizer for device_type GPU is enabled.\n",
      "2021-10-21 18:20:58.522072: I tensorflow/core/grappler/optimizers/custom_graph_optimizer_registry.cc:112] Plugin optimizer for device_type GPU is enabled.\n"
     ]
    },
    {
     "name": "stdout",
     "output_type": "stream",
     "text": [
      "782/782 - 8s - loss: 2.5082 - accuracy: 0.1016 - val_loss: 2.2989 - val_accuracy: 0.1103\n",
      "Epoch 2/3\n",
      "782/782 - 7s - loss: 2.4466 - accuracy: 0.1036 - val_loss: 2.3046 - val_accuracy: 0.1001\n",
      "Epoch 3/3\n",
      "782/782 - 7s - loss: 2.3652 - accuracy: 0.1072 - val_loss: 2.3050 - val_accuracy: 0.1002\n",
      "Size:  121882.0\n",
      "Accuracy:  0.10\n",
      "Random search, best accuracy:  0.19\n",
      "\n",
      "Current Iteration: 6 of 100\n",
      "Epoch 1/3\n"
     ]
    },
    {
     "name": "stderr",
     "output_type": "stream",
     "text": [
      "2021-10-21 18:21:14.807111: I tensorflow/core/grappler/optimizers/custom_graph_optimizer_registry.cc:112] Plugin optimizer for device_type GPU is enabled.\n",
      "2021-10-21 18:21:20.728975: I tensorflow/core/grappler/optimizers/custom_graph_optimizer_registry.cc:112] Plugin optimizer for device_type GPU is enabled.\n"
     ]
    },
    {
     "name": "stdout",
     "output_type": "stream",
     "text": [
      "782/782 - 7s - loss: 1.9960 - accuracy: 0.2867 - val_loss: 1.7414 - val_accuracy: 0.3790\n",
      "Epoch 2/3\n",
      "782/782 - 6s - loss: 1.8641 - accuracy: 0.3316 - val_loss: 1.6887 - val_accuracy: 0.3994\n",
      "Epoch 3/3\n",
      "782/782 - 6s - loss: 1.8252 - accuracy: 0.3485 - val_loss: 1.6668 - val_accuracy: 0.4079\n",
      "Size:  438986.0\n",
      "Accuracy:  0.41\n",
      "Random search, best accuracy:  0.41\n",
      "\n",
      "Current Iteration: 7 of 100\n",
      "Epoch 1/3\n"
     ]
    },
    {
     "name": "stderr",
     "output_type": "stream",
     "text": [
      "2021-10-21 18:21:35.967652: I tensorflow/core/grappler/optimizers/custom_graph_optimizer_registry.cc:112] Plugin optimizer for device_type GPU is enabled.\n",
      "2021-10-21 18:21:41.529466: I tensorflow/core/grappler/optimizers/custom_graph_optimizer_registry.cc:112] Plugin optimizer for device_type GPU is enabled.\n"
     ]
    },
    {
     "name": "stdout",
     "output_type": "stream",
     "text": [
      "782/782 - 7s - loss: 2.5293 - accuracy: 0.1307 - val_loss: 2.2273 - val_accuracy: 0.1560\n",
      "Epoch 2/3\n",
      "782/782 - 6s - loss: 2.4304 - accuracy: 0.1373 - val_loss: 2.2402 - val_accuracy: 0.1546\n",
      "Epoch 3/3\n",
      "782/782 - 6s - loss: 2.4026 - accuracy: 0.1380 - val_loss: 2.2637 - val_accuracy: 0.1522\n",
      "Size:  155658.0\n",
      "Accuracy:  0.15\n",
      "Random search, best accuracy:  0.41\n",
      "\n",
      "Current Iteration: 8 of 100\n",
      "Epoch 1/3\n"
     ]
    },
    {
     "name": "stderr",
     "output_type": "stream",
     "text": [
      "2021-10-21 18:21:55.242735: I tensorflow/core/grappler/optimizers/custom_graph_optimizer_registry.cc:112] Plugin optimizer for device_type GPU is enabled.\n",
      "2021-10-21 18:22:02.411047: I tensorflow/core/grappler/optimizers/custom_graph_optimizer_registry.cc:112] Plugin optimizer for device_type GPU is enabled.\n"
     ]
    },
    {
     "name": "stdout",
     "output_type": "stream",
     "text": [
      "782/782 - 8s - loss: 2.1204 - accuracy: 0.2347 - val_loss: 1.8686 - val_accuracy: 0.3333\n",
      "Epoch 2/3\n",
      "782/782 - 8s - loss: 1.9569 - accuracy: 0.2924 - val_loss: 1.7717 - val_accuracy: 0.3713\n",
      "Epoch 3/3\n",
      "782/782 - 8s - loss: 1.9094 - accuracy: 0.3147 - val_loss: 1.7361 - val_accuracy: 0.3820\n",
      "Size:  214474.0\n",
      "Accuracy:  0.38\n",
      "Random search, best accuracy:  0.41\n",
      "\n",
      "Current Iteration: 9 of 100\n",
      "Epoch 1/3\n"
     ]
    },
    {
     "name": "stderr",
     "output_type": "stream",
     "text": [
      "2021-10-21 18:22:20.761037: I tensorflow/core/grappler/optimizers/custom_graph_optimizer_registry.cc:112] Plugin optimizer for device_type GPU is enabled.\n",
      "2021-10-21 18:22:25.841856: I tensorflow/core/grappler/optimizers/custom_graph_optimizer_registry.cc:112] Plugin optimizer for device_type GPU is enabled.\n"
     ]
    },
    {
     "name": "stdout",
     "output_type": "stream",
     "text": [
      "782/782 - 6s - loss: 4.3813 - accuracy: 0.0987 - val_loss: 2.3010 - val_accuracy: 0.1273\n",
      "Epoch 2/3\n",
      "782/782 - 5s - loss: 2.3629 - accuracy: 0.1056 - val_loss: 2.2911 - val_accuracy: 0.1276\n",
      "Epoch 3/3\n",
      "782/782 - 5s - loss: 2.3146 - accuracy: 0.1103 - val_loss: 2.2850 - val_accuracy: 0.1254\n",
      "Size:  954.0\n",
      "Accuracy:  0.13\n",
      "Random search, best accuracy:  0.41\n",
      "\n",
      "Current Iteration: 10 of 100\n",
      "Epoch 1/3\n"
     ]
    },
    {
     "name": "stderr",
     "output_type": "stream",
     "text": [
      "2021-10-21 18:22:38.379356: I tensorflow/core/grappler/optimizers/custom_graph_optimizer_registry.cc:112] Plugin optimizer for device_type GPU is enabled.\n",
      "2021-10-21 18:22:52.340095: I tensorflow/core/grappler/optimizers/custom_graph_optimizer_registry.cc:112] Plugin optimizer for device_type GPU is enabled.\n"
     ]
    },
    {
     "name": "stdout",
     "output_type": "stream",
     "text": [
      "782/782 - 15s - loss: 2.2125 - accuracy: 0.1527 - val_loss: 2.0312 - val_accuracy: 0.2324\n",
      "Epoch 2/3\n",
      "782/782 - 14s - loss: 2.1204 - accuracy: 0.1885 - val_loss: 1.9718 - val_accuracy: 0.2712\n",
      "Epoch 3/3\n",
      "782/782 - 15s - loss: 2.0874 - accuracy: 0.2038 - val_loss: 1.9318 - val_accuracy: 0.2876\n",
      "Size:  435866.0\n",
      "Accuracy:  0.29\n",
      "Random search, best accuracy:  0.41\n",
      "\n",
      "Current Iteration: 11 of 100\n",
      "Epoch 1/3\n"
     ]
    },
    {
     "name": "stderr",
     "output_type": "stream",
     "text": [
      "2021-10-21 18:23:25.456913: I tensorflow/core/grappler/optimizers/custom_graph_optimizer_registry.cc:112] Plugin optimizer for device_type GPU is enabled.\n",
      "2021-10-21 18:23:38.780158: I tensorflow/core/grappler/optimizers/custom_graph_optimizer_registry.cc:112] Plugin optimizer for device_type GPU is enabled.\n"
     ]
    },
    {
     "name": "stdout",
     "output_type": "stream",
     "text": [
      "782/782 - 15s - loss: 2.1446 - accuracy: 0.1994 - val_loss: 2.0355 - val_accuracy: 0.2267\n",
      "Epoch 2/3\n",
      "782/782 - 14s - loss: 2.0851 - accuracy: 0.2255 - val_loss: 2.0047 - val_accuracy: 0.2422\n",
      "Epoch 3/3\n",
      "782/782 - 14s - loss: 2.0591 - accuracy: 0.2318 - val_loss: 2.0096 - val_accuracy: 0.2438\n",
      "Size:  375946.0\n",
      "Accuracy:  0.24\n",
      "Random search, best accuracy:  0.41\n",
      "\n",
      "Current Iteration: 12 of 100\n",
      "Epoch 1/3\n"
     ]
    },
    {
     "name": "stderr",
     "output_type": "stream",
     "text": [
      "2021-10-21 18:24:09.510299: I tensorflow/core/grappler/optimizers/custom_graph_optimizer_registry.cc:112] Plugin optimizer for device_type GPU is enabled.\n",
      "2021-10-21 18:24:31.397829: I tensorflow/core/grappler/optimizers/custom_graph_optimizer_registry.cc:112] Plugin optimizer for device_type GPU is enabled.\n"
     ]
    },
    {
     "name": "stdout",
     "output_type": "stream",
     "text": [
      "782/782 - 24s - loss: 2.2758 - accuracy: 0.1256 - val_loss: 2.1898 - val_accuracy: 0.1689\n",
      "Epoch 2/3\n",
      "782/782 - 23s - loss: 2.2354 - accuracy: 0.1403 - val_loss: 2.1625 - val_accuracy: 0.1770\n",
      "Epoch 3/3\n",
      "782/782 - 23s - loss: 2.2253 - accuracy: 0.1479 - val_loss: 2.1574 - val_accuracy: 0.1767\n",
      "Size:  257066.0\n",
      "Accuracy:  0.18\n",
      "Random search, best accuracy:  0.41\n",
      "\n",
      "Current Iteration: 13 of 100\n",
      "Epoch 1/3\n"
     ]
    },
    {
     "name": "stderr",
     "output_type": "stream",
     "text": [
      "2021-10-21 18:25:21.685202: I tensorflow/core/grappler/optimizers/custom_graph_optimizer_registry.cc:112] Plugin optimizer for device_type GPU is enabled.\n",
      "2021-10-21 18:25:33.327978: I tensorflow/core/grappler/optimizers/custom_graph_optimizer_registry.cc:112] Plugin optimizer for device_type GPU is enabled.\n"
     ]
    },
    {
     "name": "stdout",
     "output_type": "stream",
     "text": [
      "782/782 - 13s - loss: 2.6479 - accuracy: 0.1007 - val_loss: 2.3031 - val_accuracy: 0.1000\n",
      "Epoch 2/3\n",
      "782/782 - 12s - loss: 2.3306 - accuracy: 0.1001 - val_loss: 2.3027 - val_accuracy: 0.1000\n",
      "Epoch 3/3\n",
      "782/782 - 12s - loss: 2.3133 - accuracy: 0.1027 - val_loss: 2.3027 - val_accuracy: 0.1000\n",
      "Size:  206986.0\n",
      "Accuracy:  0.10\n",
      "Random search, best accuracy:  0.41\n",
      "\n",
      "Current Iteration: 14 of 100\n",
      "Epoch 1/3\n"
     ]
    },
    {
     "name": "stderr",
     "output_type": "stream",
     "text": [
      "2021-10-21 18:26:00.420180: I tensorflow/core/grappler/optimizers/custom_graph_optimizer_registry.cc:112] Plugin optimizer for device_type GPU is enabled.\n",
      "2021-10-21 18:26:08.747415: I tensorflow/core/grappler/optimizers/custom_graph_optimizer_registry.cc:112] Plugin optimizer for device_type GPU is enabled.\n"
     ]
    },
    {
     "name": "stdout",
     "output_type": "stream",
     "text": [
      "782/782 - 10s - loss: 2.3631 - accuracy: 0.1012 - val_loss: 2.2965 - val_accuracy: 0.1102\n",
      "Epoch 2/3\n",
      "782/782 - 8s - loss: 2.3224 - accuracy: 0.1010 - val_loss: 2.2924 - val_accuracy: 0.1120\n",
      "Epoch 3/3\n",
      "782/782 - 8s - loss: 2.3119 - accuracy: 0.1029 - val_loss: 2.2937 - val_accuracy: 0.1307\n",
      "Size:  320266.0\n",
      "Accuracy:  0.13\n",
      "Random search, best accuracy:  0.41\n",
      "\n",
      "Current Iteration: 15 of 100\n",
      "Epoch 1/3\n"
     ]
    },
    {
     "name": "stderr",
     "output_type": "stream",
     "text": [
      "2021-10-21 18:26:29.412374: I tensorflow/core/grappler/optimizers/custom_graph_optimizer_registry.cc:112] Plugin optimizer for device_type GPU is enabled.\n",
      "2021-10-21 18:26:35.083571: I tensorflow/core/grappler/optimizers/custom_graph_optimizer_registry.cc:112] Plugin optimizer for device_type GPU is enabled.\n"
     ]
    },
    {
     "name": "stdout",
     "output_type": "stream",
     "text": [
      "782/782 - 8s - loss: 2.4227 - accuracy: 0.1460 - val_loss: 2.0242 - val_accuracy: 0.2527\n",
      "Epoch 2/3\n",
      "782/782 - 6s - loss: 2.1066 - accuracy: 0.2095 - val_loss: 1.9468 - val_accuracy: 0.2880\n",
      "Epoch 3/3\n",
      "782/782 - 6s - loss: 2.0542 - accuracy: 0.2385 - val_loss: 1.9118 - val_accuracy: 0.2999\n",
      "Size:  12746.0\n",
      "Accuracy:  0.30\n",
      "Random search, best accuracy:  0.41\n",
      "\n",
      "Current Iteration: 16 of 100\n",
      "Epoch 1/3\n"
     ]
    },
    {
     "name": "stderr",
     "output_type": "stream",
     "text": [
      "2021-10-21 18:26:49.414803: I tensorflow/core/grappler/optimizers/custom_graph_optimizer_registry.cc:112] Plugin optimizer for device_type GPU is enabled.\n",
      "2021-10-21 18:27:00.680912: I tensorflow/core/grappler/optimizers/custom_graph_optimizer_registry.cc:112] Plugin optimizer for device_type GPU is enabled.\n"
     ]
    },
    {
     "name": "stdout",
     "output_type": "stream",
     "text": [
      "782/782 - 13s - loss: 2.6651 - accuracy: 0.0981 - val_loss: 2.3038 - val_accuracy: 0.1158\n",
      "Epoch 2/3\n",
      "782/782 - 12s - loss: 2.3174 - accuracy: 0.0980 - val_loss: 2.3022 - val_accuracy: 0.1138\n",
      "Epoch 3/3\n",
      "782/782 - 12s - loss: 2.3113 - accuracy: 0.1018 - val_loss: 2.3029 - val_accuracy: 0.0687\n",
      "Size:  414042.0\n",
      "Accuracy:  0.07\n",
      "Random search, best accuracy:  0.41\n",
      "\n",
      "Current Iteration: 17 of 100\n",
      "Epoch 1/3\n"
     ]
    },
    {
     "name": "stderr",
     "output_type": "stream",
     "text": [
      "2021-10-21 18:27:29.059978: I tensorflow/core/grappler/optimizers/custom_graph_optimizer_registry.cc:112] Plugin optimizer for device_type GPU is enabled.\n",
      "2021-10-21 18:27:38.308613: I tensorflow/core/grappler/optimizers/custom_graph_optimizer_registry.cc:112] Plugin optimizer for device_type GPU is enabled.\n"
     ]
    },
    {
     "name": "stdout",
     "output_type": "stream",
     "text": [
      "782/782 - 11s - loss: 1.9228 - accuracy: 0.3007 - val_loss: 1.7130 - val_accuracy: 0.3883\n",
      "Epoch 2/3\n",
      "782/782 - 10s - loss: 1.7997 - accuracy: 0.3523 - val_loss: 1.6659 - val_accuracy: 0.4011\n",
      "Epoch 3/3\n",
      "782/782 - 10s - loss: 1.7496 - accuracy: 0.3737 - val_loss: 1.6130 - val_accuracy: 0.4262\n",
      "Size:  261466.0\n",
      "Accuracy:  0.43\n",
      "Random search, best accuracy:  0.43\n",
      "\n",
      "Current Iteration: 18 of 100\n",
      "Epoch 1/3\n"
     ]
    },
    {
     "name": "stderr",
     "output_type": "stream",
     "text": [
      "2021-10-21 18:28:02.390408: I tensorflow/core/grappler/optimizers/custom_graph_optimizer_registry.cc:112] Plugin optimizer for device_type GPU is enabled.\n",
      "2021-10-21 18:28:11.846414: I tensorflow/core/grappler/optimizers/custom_graph_optimizer_registry.cc:112] Plugin optimizer for device_type GPU is enabled.\n"
     ]
    },
    {
     "name": "stdout",
     "output_type": "stream",
     "text": [
      "782/782 - 11s - loss: 2.0359 - accuracy: 0.2606 - val_loss: 1.8166 - val_accuracy: 0.3420\n",
      "Epoch 2/3\n",
      "782/782 - 10s - loss: 1.8960 - accuracy: 0.3110 - val_loss: 1.7482 - val_accuracy: 0.3753\n",
      "Epoch 3/3\n",
      "782/782 - 10s - loss: 1.8392 - accuracy: 0.3365 - val_loss: 1.6900 - val_accuracy: 0.3946\n",
      "Size:  360586.0\n",
      "Accuracy:  0.39\n",
      "Random search, best accuracy:  0.43\n",
      "\n",
      "Current Iteration: 19 of 100\n",
      "Epoch 1/3\n"
     ]
    },
    {
     "name": "stderr",
     "output_type": "stream",
     "text": [
      "2021-10-21 18:28:34.954352: I tensorflow/core/grappler/optimizers/custom_graph_optimizer_registry.cc:112] Plugin optimizer for device_type GPU is enabled.\n",
      "2021-10-21 18:28:41.770330: I tensorflow/core/grappler/optimizers/custom_graph_optimizer_registry.cc:112] Plugin optimizer for device_type GPU is enabled.\n"
     ]
    },
    {
     "name": "stdout",
     "output_type": "stream",
     "text": [
      "782/782 - 8s - loss: 31.3164 - accuracy: 0.1005 - val_loss: 2.3026 - val_accuracy: 0.1002\n",
      "Epoch 2/3\n",
      "782/782 - 7s - loss: 6.4437 - accuracy: 0.0993 - val_loss: 2.3027 - val_accuracy: 0.1001\n",
      "Epoch 3/3\n",
      "782/782 - 7s - loss: 4.0484 - accuracy: 0.0976 - val_loss: 2.3027 - val_accuracy: 0.1002\n",
      "Size:  5306.0\n",
      "Accuracy:  0.10\n",
      "Random search, best accuracy:  0.43\n",
      "\n",
      "Current Iteration: 20 of 100\n",
      "Epoch 1/3\n"
     ]
    },
    {
     "name": "stderr",
     "output_type": "stream",
     "text": [
      "2021-10-21 18:28:58.423671: I tensorflow/core/grappler/optimizers/custom_graph_optimizer_registry.cc:112] Plugin optimizer for device_type GPU is enabled.\n",
      "2021-10-21 18:29:07.457901: I tensorflow/core/grappler/optimizers/custom_graph_optimizer_registry.cc:112] Plugin optimizer for device_type GPU is enabled.\n"
     ]
    },
    {
     "name": "stdout",
     "output_type": "stream",
     "text": [
      "782/782 - 10s - loss: 2.2396 - accuracy: 0.1512 - val_loss: 2.0919 - val_accuracy: 0.1877\n",
      "Epoch 2/3\n",
      "782/782 - 9s - loss: 2.1418 - accuracy: 0.1737 - val_loss: 2.0569 - val_accuracy: 0.1934\n",
      "Epoch 3/3\n",
      "782/782 - 10s - loss: 2.1068 - accuracy: 0.1839 - val_loss: 2.0307 - val_accuracy: 0.2118\n",
      "Size:  185114.0\n",
      "Accuracy:  0.21\n",
      "Random search, best accuracy:  0.43\n",
      "\n",
      "Current Iteration: 21 of 100\n",
      "Epoch 1/3\n"
     ]
    },
    {
     "name": "stderr",
     "output_type": "stream",
     "text": [
      "2021-10-21 18:29:29.013533: I tensorflow/core/grappler/optimizers/custom_graph_optimizer_registry.cc:112] Plugin optimizer for device_type GPU is enabled.\n",
      "2021-10-21 18:29:43.924299: I tensorflow/core/grappler/optimizers/custom_graph_optimizer_registry.cc:112] Plugin optimizer for device_type GPU is enabled.\n"
     ]
    },
    {
     "name": "stdout",
     "output_type": "stream",
     "text": [
      "782/782 - 16s - loss: 6.4565 - accuracy: 0.0998 - val_loss: 2.3534 - val_accuracy: 0.1025\n",
      "Epoch 2/3\n",
      "782/782 - 14s - loss: 2.4031 - accuracy: 0.0998 - val_loss: 2.4188 - val_accuracy: 0.1002\n",
      "Epoch 3/3\n",
      "782/782 - 14s - loss: 2.3487 - accuracy: 0.1019 - val_loss: 2.3812 - val_accuracy: 0.1001\n",
      "Size:  281626.0\n",
      "Accuracy:  0.10\n",
      "Random search, best accuracy:  0.43\n",
      "\n",
      "Current Iteration: 22 of 100\n",
      "Epoch 1/3\n"
     ]
    },
    {
     "name": "stderr",
     "output_type": "stream",
     "text": [
      "2021-10-21 18:30:14.082357: I tensorflow/core/grappler/optimizers/custom_graph_optimizer_registry.cc:112] Plugin optimizer for device_type GPU is enabled.\n",
      "2021-10-21 18:30:18.587614: I tensorflow/core/grappler/optimizers/custom_graph_optimizer_registry.cc:112] Plugin optimizer for device_type GPU is enabled.\n"
     ]
    },
    {
     "name": "stdout",
     "output_type": "stream",
     "text": [
      "782/782 - 5s - loss: 2.3979 - accuracy: 0.1450 - val_loss: 2.1058 - val_accuracy: 0.2173\n",
      "Epoch 2/3\n",
      "782/782 - 5s - loss: 2.1354 - accuracy: 0.2093 - val_loss: 1.9739 - val_accuracy: 0.2950\n",
      "Epoch 3/3\n",
      "782/782 - 5s - loss: 2.0572 - accuracy: 0.2374 - val_loss: 1.9255 - val_accuracy: 0.3255\n",
      "Size:  12474.0\n",
      "Accuracy:  0.33\n",
      "Random search, best accuracy:  0.43\n",
      "\n",
      "Current Iteration: 23 of 100\n",
      "Epoch 1/3\n"
     ]
    },
    {
     "name": "stderr",
     "output_type": "stream",
     "text": [
      "2021-10-21 18:30:31.067167: I tensorflow/core/grappler/optimizers/custom_graph_optimizer_registry.cc:112] Plugin optimizer for device_type GPU is enabled.\n",
      "2021-10-21 18:30:36.738540: I tensorflow/core/grappler/optimizers/custom_graph_optimizer_registry.cc:112] Plugin optimizer for device_type GPU is enabled.\n"
     ]
    },
    {
     "name": "stdout",
     "output_type": "stream",
     "text": [
      "782/782 - 7s - loss: 4.9576 - accuracy: 0.1523 - val_loss: 2.0381 - val_accuracy: 0.2650\n",
      "Epoch 2/3\n",
      "782/782 - 6s - loss: 2.5952 - accuracy: 0.1659 - val_loss: 2.0429 - val_accuracy: 0.2703\n",
      "Epoch 3/3\n",
      "782/782 - 6s - loss: 2.5971 - accuracy: 0.1708 - val_loss: 2.0231 - val_accuracy: 0.2682\n",
      "Size:  382986.0\n",
      "Accuracy:  0.27\n",
      "Random search, best accuracy:  0.43\n",
      "\n",
      "Current Iteration: 24 of 100\n",
      "Epoch 1/3\n"
     ]
    },
    {
     "name": "stderr",
     "output_type": "stream",
     "text": [
      "2021-10-21 18:30:52.331559: I tensorflow/core/grappler/optimizers/custom_graph_optimizer_registry.cc:112] Plugin optimizer for device_type GPU is enabled.\n",
      "2021-10-21 18:30:58.737534: I tensorflow/core/grappler/optimizers/custom_graph_optimizer_registry.cc:112] Plugin optimizer for device_type GPU is enabled.\n"
     ]
    },
    {
     "name": "stdout",
     "output_type": "stream",
     "text": [
      "782/782 - 7s - loss: 2.7181 - accuracy: 0.1218 - val_loss: 2.1220 - val_accuracy: 0.2028\n",
      "Epoch 2/3\n",
      "782/782 - 7s - loss: 2.2832 - accuracy: 0.1499 - val_loss: 2.1049 - val_accuracy: 0.2334\n",
      "Epoch 3/3\n",
      "782/782 - 7s - loss: 2.2304 - accuracy: 0.1679 - val_loss: 2.0862 - val_accuracy: 0.2445\n",
      "Size:  462602.0\n",
      "Accuracy:  0.24\n",
      "Random search, best accuracy:  0.43\n",
      "\n",
      "Current Iteration: 25 of 100\n",
      "Epoch 1/3\n"
     ]
    },
    {
     "name": "stderr",
     "output_type": "stream",
     "text": [
      "2021-10-21 18:31:14.673352: I tensorflow/core/grappler/optimizers/custom_graph_optimizer_registry.cc:112] Plugin optimizer for device_type GPU is enabled.\n",
      "2021-10-21 18:31:20.271532: I tensorflow/core/grappler/optimizers/custom_graph_optimizer_registry.cc:112] Plugin optimizer for device_type GPU is enabled.\n"
     ]
    },
    {
     "name": "stdout",
     "output_type": "stream",
     "text": [
      "782/782 - 7s - loss: 2.3016 - accuracy: 0.1255 - val_loss: 2.1753 - val_accuracy: 0.1645\n",
      "Epoch 2/3\n",
      "782/782 - 6s - loss: 2.2717 - accuracy: 0.1337 - val_loss: 2.1470 - val_accuracy: 0.1806\n",
      "Epoch 3/3\n",
      "782/782 - 6s - loss: 2.2637 - accuracy: 0.1349 - val_loss: 2.1699 - val_accuracy: 0.1704\n",
      "Size:  396058.0\n",
      "Accuracy:  0.17\n",
      "Random search, best accuracy:  0.43\n",
      "\n",
      "Current Iteration: 26 of 100\n",
      "Epoch 1/3\n"
     ]
    },
    {
     "name": "stderr",
     "output_type": "stream",
     "text": [
      "2021-10-21 18:31:34.737816: I tensorflow/core/grappler/optimizers/custom_graph_optimizer_registry.cc:112] Plugin optimizer for device_type GPU is enabled.\n",
      "2021-10-21 18:31:59.854114: I tensorflow/core/grappler/optimizers/custom_graph_optimizer_registry.cc:112] Plugin optimizer for device_type GPU is enabled.\n"
     ]
    },
    {
     "name": "stdout",
     "output_type": "stream",
     "text": [
      "782/782 - 28s - loss: 2.2338 - accuracy: 0.1843 - val_loss: 2.0201 - val_accuracy: 0.2585\n",
      "Epoch 2/3\n",
      "782/782 - 27s - loss: 2.0983 - accuracy: 0.2267 - val_loss: 2.0037 - val_accuracy: 0.2669\n",
      "Epoch 3/3\n",
      "782/782 - 27s - loss: 2.0694 - accuracy: 0.2401 - val_loss: 1.9904 - val_accuracy: 0.2655\n",
      "Size:  332746.0\n",
      "Accuracy:  0.27\n",
      "Random search, best accuracy:  0.43\n",
      "\n",
      "Current Iteration: 27 of 100\n",
      "Epoch 1/3\n"
     ]
    },
    {
     "name": "stderr",
     "output_type": "stream",
     "text": [
      "2021-10-21 18:32:58.495069: I tensorflow/core/grappler/optimizers/custom_graph_optimizer_registry.cc:112] Plugin optimizer for device_type GPU is enabled.\n",
      "2021-10-21 18:33:03.498146: I tensorflow/core/grappler/optimizers/custom_graph_optimizer_registry.cc:112] Plugin optimizer for device_type GPU is enabled.\n"
     ]
    },
    {
     "name": "stdout",
     "output_type": "stream",
     "text": [
      "782/782 - 6s - loss: 2.1489 - accuracy: 0.2440 - val_loss: 1.9752 - val_accuracy: 0.2954\n",
      "Epoch 2/3\n",
      "782/782 - 5s - loss: 2.0400 - accuracy: 0.2702 - val_loss: 1.9774 - val_accuracy: 0.2857\n",
      "Epoch 3/3\n",
      "782/782 - 6s - loss: 2.0260 - accuracy: 0.2729 - val_loss: 1.9762 - val_accuracy: 0.2821\n",
      "Size:  60426.0\n",
      "Accuracy:  0.28\n",
      "Random search, best accuracy:  0.43\n",
      "\n",
      "Current Iteration: 28 of 100\n",
      "Epoch 1/3\n"
     ]
    },
    {
     "name": "stderr",
     "output_type": "stream",
     "text": [
      "2021-10-21 18:33:16.888097: I tensorflow/core/grappler/optimizers/custom_graph_optimizer_registry.cc:112] Plugin optimizer for device_type GPU is enabled.\n",
      "2021-10-21 18:33:22.602185: I tensorflow/core/grappler/optimizers/custom_graph_optimizer_registry.cc:112] Plugin optimizer for device_type GPU is enabled.\n"
     ]
    },
    {
     "name": "stdout",
     "output_type": "stream",
     "text": [
      "782/782 - 7s - loss: 2.1973 - accuracy: 0.3041 - val_loss: 1.6548 - val_accuracy: 0.4193\n",
      "Epoch 2/3\n",
      "782/782 - 6s - loss: 1.7772 - accuracy: 0.3690 - val_loss: 1.6143 - val_accuracy: 0.4339\n",
      "Epoch 3/3\n",
      "782/782 - 6s - loss: 1.7379 - accuracy: 0.3834 - val_loss: 1.5679 - val_accuracy: 0.4496\n",
      "Size:  199434.0\n",
      "Accuracy:  0.45\n",
      "Random search, best accuracy:  0.45\n",
      "\n",
      "Current Iteration: 29 of 100\n",
      "Epoch 1/3\n"
     ]
    },
    {
     "name": "stderr",
     "output_type": "stream",
     "text": [
      "2021-10-21 18:33:37.948861: I tensorflow/core/grappler/optimizers/custom_graph_optimizer_registry.cc:112] Plugin optimizer for device_type GPU is enabled.\n",
      "2021-10-21 18:33:46.716937: I tensorflow/core/grappler/optimizers/custom_graph_optimizer_registry.cc:112] Plugin optimizer for device_type GPU is enabled.\n"
     ]
    },
    {
     "name": "stdout",
     "output_type": "stream",
     "text": [
      "782/782 - 10s - loss: 2.4611 - accuracy: 0.1303 - val_loss: 2.0685 - val_accuracy: 0.2285\n",
      "Epoch 2/3\n",
      "782/782 - 10s - loss: 2.1876 - accuracy: 0.1827 - val_loss: 2.0012 - val_accuracy: 0.2714\n",
      "Epoch 3/3\n",
      "782/782 - 9s - loss: 2.1444 - accuracy: 0.2090 - val_loss: 1.9666 - val_accuracy: 0.2946\n",
      "Size:  185162.0\n",
      "Accuracy:  0.29\n",
      "Random search, best accuracy:  0.45\n",
      "\n",
      "Current Iteration: 30 of 100\n",
      "Epoch 1/3\n"
     ]
    },
    {
     "name": "stderr",
     "output_type": "stream",
     "text": [
      "2021-10-21 18:34:09.439804: I tensorflow/core/grappler/optimizers/custom_graph_optimizer_registry.cc:112] Plugin optimizer for device_type GPU is enabled.\n",
      "2021-10-21 18:34:17.563258: I tensorflow/core/grappler/optimizers/custom_graph_optimizer_registry.cc:112] Plugin optimizer for device_type GPU is enabled.\n"
     ]
    },
    {
     "name": "stdout",
     "output_type": "stream",
     "text": [
      "782/782 - 9s - loss: 2.3186 - accuracy: 0.1000 - val_loss: 2.3027 - val_accuracy: 0.1000\n",
      "Epoch 2/3\n",
      "782/782 - 9s - loss: 2.3032 - accuracy: 0.0962 - val_loss: 2.3027 - val_accuracy: 0.1000\n",
      "Epoch 3/3\n",
      "782/782 - 8s - loss: 2.3031 - accuracy: 0.0998 - val_loss: 2.3027 - val_accuracy: 0.1000\n",
      "Size:  248442.0\n",
      "Accuracy:  0.10\n",
      "Random search, best accuracy:  0.45\n",
      "\n",
      "Current Iteration: 31 of 100\n",
      "Epoch 1/3\n"
     ]
    },
    {
     "name": "stderr",
     "output_type": "stream",
     "text": [
      "2021-10-21 18:34:37.200046: I tensorflow/core/grappler/optimizers/custom_graph_optimizer_registry.cc:112] Plugin optimizer for device_type GPU is enabled.\n",
      "2021-10-21 18:34:42.974703: I tensorflow/core/grappler/optimizers/custom_graph_optimizer_registry.cc:112] Plugin optimizer for device_type GPU is enabled.\n"
     ]
    },
    {
     "name": "stdout",
     "output_type": "stream",
     "text": [
      "782/782 - 7s - loss: 2.3284 - accuracy: 0.1356 - val_loss: 2.1382 - val_accuracy: 0.2049\n",
      "Epoch 2/3\n",
      "782/782 - 6s - loss: 2.2023 - accuracy: 0.1649 - val_loss: 2.0848 - val_accuracy: 0.2378\n",
      "Epoch 3/3\n",
      "782/782 - 6s - loss: 2.1639 - accuracy: 0.1812 - val_loss: 2.0626 - val_accuracy: 0.2320\n",
      "Size:  7562.0\n",
      "Accuracy:  0.23\n",
      "Random search, best accuracy:  0.45\n",
      "\n",
      "Current Iteration: 32 of 100\n",
      "Epoch 1/3\n"
     ]
    },
    {
     "name": "stderr",
     "output_type": "stream",
     "text": [
      "2021-10-21 18:34:58.979190: I tensorflow/core/grappler/optimizers/custom_graph_optimizer_registry.cc:112] Plugin optimizer for device_type GPU is enabled.\n",
      "2021-10-21 18:35:05.009359: I tensorflow/core/grappler/optimizers/custom_graph_optimizer_registry.cc:112] Plugin optimizer for device_type GPU is enabled.\n"
     ]
    },
    {
     "name": "stdout",
     "output_type": "stream",
     "text": [
      "782/782 - 7s - loss: 1.9391 - accuracy: 0.3407 - val_loss: 1.6233 - val_accuracy: 0.4171\n",
      "Epoch 2/3\n",
      "782/782 - 7s - loss: 1.7047 - accuracy: 0.4004 - val_loss: 1.5578 - val_accuracy: 0.4405\n",
      "Epoch 3/3\n",
      "782/782 - 6s - loss: 1.6474 - accuracy: 0.4165 - val_loss: 1.5192 - val_accuracy: 0.4543\n",
      "Size:  382986.0\n",
      "Accuracy:  0.45\n",
      "Random search, best accuracy:  0.45\n",
      "\n",
      "Current Iteration: 33 of 100\n",
      "Epoch 1/3\n"
     ]
    },
    {
     "name": "stderr",
     "output_type": "stream",
     "text": [
      "2021-10-21 18:35:20.349576: I tensorflow/core/grappler/optimizers/custom_graph_optimizer_registry.cc:112] Plugin optimizer for device_type GPU is enabled.\n",
      "2021-10-21 18:35:28.545143: I tensorflow/core/grappler/optimizers/custom_graph_optimizer_registry.cc:112] Plugin optimizer for device_type GPU is enabled.\n"
     ]
    },
    {
     "name": "stdout",
     "output_type": "stream",
     "text": [
      "782/782 - 9s - loss: 2.4297 - accuracy: 0.1012 - val_loss: 2.3027 - val_accuracy: 0.1002\n",
      "Epoch 2/3\n",
      "782/782 - 8s - loss: 2.3108 - accuracy: 0.0987 - val_loss: 2.3027 - val_accuracy: 0.1000\n",
      "Epoch 3/3\n",
      "782/782 - 8s - loss: 2.3051 - accuracy: 0.0995 - val_loss: 2.3026 - val_accuracy: 0.1000\n",
      "Size:  70922.0\n",
      "Accuracy:  0.10\n",
      "Random search, best accuracy:  0.45\n",
      "\n",
      "Current Iteration: 34 of 100\n",
      "Epoch 1/3\n"
     ]
    },
    {
     "name": "stderr",
     "output_type": "stream",
     "text": [
      "2021-10-21 18:35:46.860974: I tensorflow/core/grappler/optimizers/custom_graph_optimizer_registry.cc:112] Plugin optimizer for device_type GPU is enabled.\n",
      "2021-10-21 18:35:54.938079: I tensorflow/core/grappler/optimizers/custom_graph_optimizer_registry.cc:112] Plugin optimizer for device_type GPU is enabled.\n"
     ]
    },
    {
     "name": "stdout",
     "output_type": "stream",
     "text": [
      "782/782 - 9s - loss: 2.5710 - accuracy: 0.1006 - val_loss: 2.3013 - val_accuracy: 0.1068\n",
      "Epoch 2/3\n",
      "782/782 - 8s - loss: 2.3102 - accuracy: 0.1000 - val_loss: 2.3019 - val_accuracy: 0.1028\n",
      "Epoch 3/3\n",
      "782/782 - 8s - loss: 2.3052 - accuracy: 0.1002 - val_loss: 2.3018 - val_accuracy: 0.1041\n",
      "Size:  52554.0\n",
      "Accuracy:  0.10\n",
      "Random search, best accuracy:  0.45\n",
      "\n",
      "Current Iteration: 35 of 100\n",
      "Epoch 1/3\n"
     ]
    },
    {
     "name": "stderr",
     "output_type": "stream",
     "text": [
      "2021-10-21 18:36:13.842940: I tensorflow/core/grappler/optimizers/custom_graph_optimizer_registry.cc:112] Plugin optimizer for device_type GPU is enabled.\n",
      "2021-10-21 18:36:35.445956: I tensorflow/core/grappler/optimizers/custom_graph_optimizer_registry.cc:112] Plugin optimizer for device_type GPU is enabled.\n"
     ]
    },
    {
     "name": "stdout",
     "output_type": "stream",
     "text": [
      "782/782 - 24s - loss: 1.9617 - accuracy: 0.2913 - val_loss: 1.7466 - val_accuracy: 0.3690\n",
      "Epoch 2/3\n",
      "782/782 - 23s - loss: 1.8390 - accuracy: 0.3396 - val_loss: 1.7025 - val_accuracy: 0.3891\n",
      "Epoch 3/3\n",
      "782/782 - 23s - loss: 1.8002 - accuracy: 0.3549 - val_loss: 1.6763 - val_accuracy: 0.4016\n",
      "Size:  368730.0\n",
      "Accuracy:  0.40\n",
      "Random search, best accuracy:  0.45\n",
      "\n",
      "Current Iteration: 36 of 100\n",
      "Epoch 1/3\n"
     ]
    },
    {
     "name": "stderr",
     "output_type": "stream",
     "text": [
      "2021-10-21 18:37:26.733357: I tensorflow/core/grappler/optimizers/custom_graph_optimizer_registry.cc:112] Plugin optimizer for device_type GPU is enabled.\n",
      "2021-10-21 18:37:31.889388: I tensorflow/core/grappler/optimizers/custom_graph_optimizer_registry.cc:112] Plugin optimizer for device_type GPU is enabled.\n"
     ]
    },
    {
     "name": "stdout",
     "output_type": "stream",
     "text": [
      "782/782 - 8s - loss: 2.3052 - accuracy: 0.2043 - val_loss: 1.9608 - val_accuracy: 0.2997\n",
      "Epoch 2/3\n",
      "782/782 - 6s - loss: 2.0160 - accuracy: 0.2704 - val_loss: 1.8825 - val_accuracy: 0.3274\n",
      "Epoch 3/3\n",
      "782/782 - 6s - loss: 1.9601 - accuracy: 0.2987 - val_loss: 1.8397 - val_accuracy: 0.3486\n",
      "Size:  3258.0\n",
      "Accuracy:  0.35\n",
      "Random search, best accuracy:  0.45\n",
      "\n",
      "Current Iteration: 37 of 100\n",
      "Epoch 1/3\n"
     ]
    },
    {
     "name": "stderr",
     "output_type": "stream",
     "text": [
      "2021-10-21 18:37:44.752757: I tensorflow/core/grappler/optimizers/custom_graph_optimizer_registry.cc:112] Plugin optimizer for device_type GPU is enabled.\n",
      "2021-10-21 18:37:55.601992: I tensorflow/core/grappler/optimizers/custom_graph_optimizer_registry.cc:112] Plugin optimizer for device_type GPU is enabled.\n"
     ]
    },
    {
     "name": "stdout",
     "output_type": "stream",
     "text": [
      "782/782 - 12s - loss: 2.3137 - accuracy: 0.1047 - val_loss: 2.2437 - val_accuracy: 0.1491\n",
      "Epoch 2/3\n",
      "782/782 - 12s - loss: 2.2870 - accuracy: 0.1202 - val_loss: 2.1722 - val_accuracy: 0.1664\n",
      "Epoch 3/3\n",
      "782/782 - 12s - loss: 2.2641 - accuracy: 0.1291 - val_loss: 2.1555 - val_accuracy: 0.1641\n",
      "Size:  458154.0\n",
      "Accuracy:  0.16\n",
      "Random search, best accuracy:  0.45\n",
      "\n",
      "Current Iteration: 38 of 100\n",
      "Epoch 1/3\n"
     ]
    },
    {
     "name": "stderr",
     "output_type": "stream",
     "text": [
      "2021-10-21 18:38:22.373796: I tensorflow/core/grappler/optimizers/custom_graph_optimizer_registry.cc:112] Plugin optimizer for device_type GPU is enabled.\n",
      "2021-10-21 18:38:27.740690: I tensorflow/core/grappler/optimizers/custom_graph_optimizer_registry.cc:112] Plugin optimizer for device_type GPU is enabled.\n"
     ]
    },
    {
     "name": "stdout",
     "output_type": "stream",
     "text": [
      "782/782 - 6s - loss: 2.3970 - accuracy: 0.1101 - val_loss: 2.2710 - val_accuracy: 0.1493\n",
      "Epoch 2/3\n",
      "782/782 - 6s - loss: 2.2612 - accuracy: 0.1305 - val_loss: 2.1239 - val_accuracy: 0.1944\n",
      "Epoch 3/3\n",
      "782/782 - 6s - loss: 2.2110 - accuracy: 0.1543 - val_loss: 2.1179 - val_accuracy: 0.2150\n",
      "Size:  13562.0\n",
      "Accuracy:  0.22\n",
      "Random search, best accuracy:  0.45\n",
      "\n",
      "Current Iteration: 39 of 100\n",
      "Epoch 1/3\n"
     ]
    },
    {
     "name": "stderr",
     "output_type": "stream",
     "text": [
      "2021-10-21 18:38:42.162273: I tensorflow/core/grappler/optimizers/custom_graph_optimizer_registry.cc:112] Plugin optimizer for device_type GPU is enabled.\n",
      "2021-10-21 18:38:55.003121: I tensorflow/core/grappler/optimizers/custom_graph_optimizer_registry.cc:112] Plugin optimizer for device_type GPU is enabled.\n"
     ]
    },
    {
     "name": "stdout",
     "output_type": "stream",
     "text": [
      "782/782 - 14s - loss: 2.3163 - accuracy: 0.1061 - val_loss: 2.5438 - val_accuracy: 0.1318\n",
      "Epoch 2/3\n",
      "782/782 - 13s - loss: 2.2384 - accuracy: 0.1483 - val_loss: 5.9897 - val_accuracy: 0.1162\n",
      "Epoch 3/3\n",
      "782/782 - 13s - loss: 2.1721 - accuracy: 0.1765 - val_loss: 6.0071 - val_accuracy: 0.1271\n",
      "Size:  135754.0\n",
      "Accuracy:  0.13\n",
      "Random search, best accuracy:  0.45\n",
      "\n",
      "Current Iteration: 40 of 100\n",
      "Epoch 1/3\n"
     ]
    },
    {
     "name": "stderr",
     "output_type": "stream",
     "text": [
      "2021-10-21 18:39:23.189516: I tensorflow/core/grappler/optimizers/custom_graph_optimizer_registry.cc:112] Plugin optimizer for device_type GPU is enabled.\n",
      "2021-10-21 18:39:32.825405: I tensorflow/core/grappler/optimizers/custom_graph_optimizer_registry.cc:112] Plugin optimizer for device_type GPU is enabled.\n"
     ]
    },
    {
     "name": "stdout",
     "output_type": "stream",
     "text": [
      "782/782 - 11s - loss: 2.3052 - accuracy: 0.0985 - val_loss: 2.3027 - val_accuracy: 0.1000\n",
      "Epoch 2/3\n",
      "782/782 - 10s - loss: 2.3030 - accuracy: 0.0954 - val_loss: 2.3027 - val_accuracy: 0.1000\n",
      "Epoch 3/3\n",
      "782/782 - 10s - loss: 2.3029 - accuracy: 0.0972 - val_loss: 2.3026 - val_accuracy: 0.1001\n",
      "Size:  144490.0\n",
      "Accuracy:  0.10\n",
      "Random search, best accuracy:  0.45\n",
      "\n",
      "Current Iteration: 41 of 100\n",
      "Epoch 1/3\n"
     ]
    },
    {
     "name": "stderr",
     "output_type": "stream",
     "text": [
      "2021-10-21 18:39:55.001335: I tensorflow/core/grappler/optimizers/custom_graph_optimizer_registry.cc:112] Plugin optimizer for device_type GPU is enabled.\n",
      "2021-10-21 18:39:59.954195: I tensorflow/core/grappler/optimizers/custom_graph_optimizer_registry.cc:112] Plugin optimizer for device_type GPU is enabled.\n"
     ]
    },
    {
     "name": "stdout",
     "output_type": "stream",
     "text": [
      "782/782 - 6s - loss: 3.0456 - accuracy: 0.1108 - val_loss: 2.2029 - val_accuracy: 0.2203\n",
      "Epoch 2/3\n",
      "782/782 - 5s - loss: 2.2696 - accuracy: 0.1309 - val_loss: 2.1844 - val_accuracy: 0.1941\n",
      "Epoch 3/3\n",
      "782/782 - 5s - loss: 2.2402 - accuracy: 0.1403 - val_loss: 2.1538 - val_accuracy: 0.1950\n",
      "Size:  12474.0\n",
      "Accuracy:  0.20\n",
      "Random search, best accuracy:  0.45\n",
      "\n",
      "Current Iteration: 42 of 100\n",
      "Epoch 1/3\n"
     ]
    },
    {
     "name": "stderr",
     "output_type": "stream",
     "text": [
      "2021-10-21 18:40:12.298840: I tensorflow/core/grappler/optimizers/custom_graph_optimizer_registry.cc:112] Plugin optimizer for device_type GPU is enabled.\n",
      "2021-10-21 18:40:17.842986: I tensorflow/core/grappler/optimizers/custom_graph_optimizer_registry.cc:112] Plugin optimizer for device_type GPU is enabled.\n"
     ]
    },
    {
     "name": "stdout",
     "output_type": "stream",
     "text": [
      "782/782 - 7s - loss: 3.1970 - accuracy: 0.1634 - val_loss: 2.0544 - val_accuracy: 0.2695\n",
      "Epoch 2/3\n",
      "782/782 - 6s - loss: 2.1338 - accuracy: 0.2203 - val_loss: 2.0091 - val_accuracy: 0.2844\n",
      "Epoch 3/3\n",
      "782/782 - 6s - loss: 2.0972 - accuracy: 0.2380 - val_loss: 1.9807 - val_accuracy: 0.2974\n",
      "Size:  23946.0\n",
      "Accuracy:  0.30\n",
      "Random search, best accuracy:  0.45\n",
      "\n",
      "Current Iteration: 43 of 100\n",
      "Epoch 1/3\n"
     ]
    },
    {
     "name": "stderr",
     "output_type": "stream",
     "text": [
      "2021-10-21 18:40:33.606089: I tensorflow/core/grappler/optimizers/custom_graph_optimizer_registry.cc:112] Plugin optimizer for device_type GPU is enabled.\n",
      "2021-10-21 18:40:38.022891: I tensorflow/core/grappler/optimizers/custom_graph_optimizer_registry.cc:112] Plugin optimizer for device_type GPU is enabled.\n"
     ]
    },
    {
     "name": "stdout",
     "output_type": "stream",
     "text": [
      "782/782 - 7s - loss: 2.9070 - accuracy: 0.1674 - val_loss: 1.9972 - val_accuracy: 0.2966\n",
      "Epoch 2/3\n",
      "782/782 - 5s - loss: 2.1300 - accuracy: 0.2012 - val_loss: 1.9858 - val_accuracy: 0.2967\n",
      "Epoch 3/3\n",
      "782/782 - 5s - loss: 2.1041 - accuracy: 0.2156 - val_loss: 1.9655 - val_accuracy: 0.3021\n",
      "Size:  49866.0\n",
      "Accuracy:  0.30\n",
      "Random search, best accuracy:  0.45\n",
      "\n",
      "Current Iteration: 44 of 100\n",
      "Epoch 1/3\n"
     ]
    },
    {
     "name": "stderr",
     "output_type": "stream",
     "text": [
      "2021-10-21 18:40:49.094697: I tensorflow/core/grappler/optimizers/custom_graph_optimizer_registry.cc:112] Plugin optimizer for device_type GPU is enabled.\n",
      "2021-10-21 18:40:54.481988: I tensorflow/core/grappler/optimizers/custom_graph_optimizer_registry.cc:112] Plugin optimizer for device_type GPU is enabled.\n"
     ]
    },
    {
     "name": "stdout",
     "output_type": "stream",
     "text": [
      "782/782 - 6s - loss: 2.8279 - accuracy: 0.2097 - val_loss: 1.8987 - val_accuracy: 0.3423\n",
      "Epoch 2/3\n",
      "782/782 - 6s - loss: 2.0352 - accuracy: 0.2701 - val_loss: 1.8391 - val_accuracy: 0.3508\n",
      "Epoch 3/3\n",
      "782/782 - 6s - loss: 1.9951 - accuracy: 0.2848 - val_loss: 1.7957 - val_accuracy: 0.3715\n",
      "Size:  199434.0\n",
      "Accuracy:  0.37\n",
      "Random search, best accuracy:  0.45\n",
      "\n",
      "Current Iteration: 45 of 100\n",
      "Epoch 1/3\n"
     ]
    },
    {
     "name": "stderr",
     "output_type": "stream",
     "text": [
      "2021-10-21 18:41:09.056900: I tensorflow/core/grappler/optimizers/custom_graph_optimizer_registry.cc:112] Plugin optimizer for device_type GPU is enabled.\n",
      "2021-10-21 18:41:15.637347: I tensorflow/core/grappler/optimizers/custom_graph_optimizer_registry.cc:112] Plugin optimizer for device_type GPU is enabled.\n"
     ]
    },
    {
     "name": "stdout",
     "output_type": "stream",
     "text": [
      "782/782 - 8s - loss: 2.3409 - accuracy: 0.1003 - val_loss: 2.2977 - val_accuracy: 0.1027\n",
      "Epoch 2/3\n",
      "782/782 - 7s - loss: 2.3051 - accuracy: 0.0971 - val_loss: 2.3024 - val_accuracy: 0.1007\n",
      "Epoch 3/3\n",
      "782/782 - 8s - loss: 2.3037 - accuracy: 0.0989 - val_loss: 2.3013 - val_accuracy: 0.1057\n",
      "Size:  104218.0\n",
      "Accuracy:  0.11\n",
      "Random search, best accuracy:  0.45\n",
      "\n",
      "Current Iteration: 46 of 100\n",
      "Epoch 1/3\n"
     ]
    },
    {
     "name": "stderr",
     "output_type": "stream",
     "text": [
      "2021-10-21 18:41:33.776730: I tensorflow/core/grappler/optimizers/custom_graph_optimizer_registry.cc:112] Plugin optimizer for device_type GPU is enabled.\n",
      "2021-10-21 18:41:40.728914: I tensorflow/core/grappler/optimizers/custom_graph_optimizer_registry.cc:112] Plugin optimizer for device_type GPU is enabled.\n"
     ]
    },
    {
     "name": "stdout",
     "output_type": "stream",
     "text": [
      "782/782 - 8s - loss: 2.5194 - accuracy: 0.1150 - val_loss: 2.2189 - val_accuracy: 0.1633\n",
      "Epoch 2/3\n",
      "782/782 - 8s - loss: 2.2662 - accuracy: 0.1461 - val_loss: 2.4421 - val_accuracy: 0.1249\n",
      "Epoch 3/3\n",
      "782/782 - 8s - loss: 2.2040 - accuracy: 0.1680 - val_loss: 2.4316 - val_accuracy: 0.1361\n",
      "Size:  53690.0\n",
      "Accuracy:  0.14\n",
      "Random search, best accuracy:  0.45\n",
      "\n",
      "Current Iteration: 47 of 100\n",
      "Epoch 1/3\n"
     ]
    },
    {
     "name": "stderr",
     "output_type": "stream",
     "text": [
      "2021-10-21 18:41:58.637999: I tensorflow/core/grappler/optimizers/custom_graph_optimizer_registry.cc:112] Plugin optimizer for device_type GPU is enabled.\n",
      "2021-10-21 18:42:06.593382: I tensorflow/core/grappler/optimizers/custom_graph_optimizer_registry.cc:112] Plugin optimizer for device_type GPU is enabled.\n"
     ]
    },
    {
     "name": "stdout",
     "output_type": "stream",
     "text": [
      "782/782 - 9s - loss: 2.5072 - accuracy: 0.1038 - val_loss: 2.2887 - val_accuracy: 0.1390\n",
      "Epoch 2/3\n",
      "782/782 - 8s - loss: 2.3776 - accuracy: 0.1007 - val_loss: 2.2976 - val_accuracy: 0.1311\n",
      "Epoch 3/3\n",
      "782/782 - 8s - loss: 2.3422 - accuracy: 0.1048 - val_loss: 2.3009 - val_accuracy: 0.1155\n",
      "Size:  310602.0\n",
      "Accuracy:  0.12\n",
      "Random search, best accuracy:  0.45\n",
      "\n",
      "Current Iteration: 48 of 100\n",
      "Epoch 1/3\n"
     ]
    },
    {
     "name": "stderr",
     "output_type": "stream",
     "text": [
      "2021-10-21 18:42:24.077670: I tensorflow/core/grappler/optimizers/custom_graph_optimizer_registry.cc:112] Plugin optimizer for device_type GPU is enabled.\n",
      "2021-10-21 18:42:34.190380: I tensorflow/core/grappler/optimizers/custom_graph_optimizer_registry.cc:112] Plugin optimizer for device_type GPU is enabled.\n"
     ]
    },
    {
     "name": "stdout",
     "output_type": "stream",
     "text": [
      "782/782 - 11s - loss: 2.6733 - accuracy: 0.1382 - val_loss: 2.0977 - val_accuracy: 0.2295\n",
      "Epoch 2/3\n",
      "782/782 - 11s - loss: 2.2193 - accuracy: 0.1690 - val_loss: 2.0567 - val_accuracy: 0.2504\n",
      "Epoch 3/3\n",
      "782/782 - 11s - loss: 2.2099 - accuracy: 0.1775 - val_loss: 2.0481 - val_accuracy: 0.2604\n",
      "Size:  482122.0\n",
      "Accuracy:  0.26\n",
      "Random search, best accuracy:  0.45\n",
      "\n",
      "Current Iteration: 49 of 100\n",
      "Epoch 1/3\n"
     ]
    },
    {
     "name": "stderr",
     "output_type": "stream",
     "text": [
      "2021-10-21 18:42:57.843615: I tensorflow/core/grappler/optimizers/custom_graph_optimizer_registry.cc:112] Plugin optimizer for device_type GPU is enabled.\n",
      "2021-10-21 18:43:06.381738: I tensorflow/core/grappler/optimizers/custom_graph_optimizer_registry.cc:112] Plugin optimizer for device_type GPU is enabled.\n"
     ]
    },
    {
     "name": "stdout",
     "output_type": "stream",
     "text": [
      "782/782 - 10s - loss: 2.0012 - accuracy: 0.2718 - val_loss: 1.7065 - val_accuracy: 0.3761\n",
      "Epoch 2/3\n",
      "782/782 - 9s - loss: 1.8612 - accuracy: 0.3141 - val_loss: 1.6852 - val_accuracy: 0.3811\n",
      "Epoch 3/3\n",
      "782/782 - 9s - loss: 1.8364 - accuracy: 0.3262 - val_loss: 1.6644 - val_accuracy: 0.3890\n",
      "Size:  68810.0\n",
      "Accuracy:  0.39\n",
      "Random search, best accuracy:  0.45\n",
      "\n",
      "Current Iteration: 50 of 100\n",
      "Epoch 1/3\n"
     ]
    },
    {
     "name": "stderr",
     "output_type": "stream",
     "text": [
      "2021-10-21 18:43:26.557690: I tensorflow/core/grappler/optimizers/custom_graph_optimizer_registry.cc:112] Plugin optimizer for device_type GPU is enabled.\n",
      "2021-10-21 18:43:37.518439: I tensorflow/core/grappler/optimizers/custom_graph_optimizer_registry.cc:112] Plugin optimizer for device_type GPU is enabled.\n"
     ]
    },
    {
     "name": "stdout",
     "output_type": "stream",
     "text": [
      "782/782 - 12s - loss: 2.2581 - accuracy: 0.1556 - val_loss: 2.1565 - val_accuracy: 0.1919\n",
      "Epoch 2/3\n",
      "782/782 - 10s - loss: 2.2210 - accuracy: 0.1656 - val_loss: 2.1293 - val_accuracy: 0.1821\n",
      "Epoch 3/3\n",
      "782/782 - 10s - loss: 2.2113 - accuracy: 0.1676 - val_loss: 2.1123 - val_accuracy: 0.1856\n",
      "Size:  309002.0\n",
      "Accuracy:  0.19\n",
      "Random search, best accuracy:  0.45\n",
      "\n",
      "Current Iteration: 51 of 100\n",
      "Epoch 1/3\n"
     ]
    },
    {
     "name": "stderr",
     "output_type": "stream",
     "text": [
      "2021-10-21 18:43:58.679963: I tensorflow/core/grappler/optimizers/custom_graph_optimizer_registry.cc:112] Plugin optimizer for device_type GPU is enabled.\n",
      "2021-10-21 18:44:03.807059: I tensorflow/core/grappler/optimizers/custom_graph_optimizer_registry.cc:112] Plugin optimizer for device_type GPU is enabled.\n"
     ]
    },
    {
     "name": "stdout",
     "output_type": "stream",
     "text": [
      "782/782 - 6s - loss: 2.7433 - accuracy: 0.1419 - val_loss: 2.0824 - val_accuracy: 0.2693\n",
      "Epoch 2/3\n",
      "782/782 - 5s - loss: 2.3332 - accuracy: 0.1545 - val_loss: 2.0804 - val_accuracy: 0.2646\n",
      "Epoch 3/3\n",
      "782/782 - 5s - loss: 2.3247 - accuracy: 0.1582 - val_loss: 2.0777 - val_accuracy: 0.2692\n",
      "Size:  60426.0\n",
      "Accuracy:  0.27\n",
      "Random search, best accuracy:  0.45\n",
      "\n",
      "Current Iteration: 52 of 100\n",
      "Epoch 1/3\n"
     ]
    },
    {
     "name": "stderr",
     "output_type": "stream",
     "text": [
      "2021-10-21 18:44:17.641021: I tensorflow/core/grappler/optimizers/custom_graph_optimizer_registry.cc:112] Plugin optimizer for device_type GPU is enabled.\n",
      "2021-10-21 18:44:51.126216: I tensorflow/core/grappler/optimizers/custom_graph_optimizer_registry.cc:112] Plugin optimizer for device_type GPU is enabled.\n"
     ]
    },
    {
     "name": "stdout",
     "output_type": "stream",
     "text": [
      "782/782 - 35s - loss: 2.3545 - accuracy: 0.1015 - val_loss: 2.3031 - val_accuracy: 0.1000\n",
      "Epoch 2/3\n",
      "782/782 - 34s - loss: 2.3269 - accuracy: 0.0972 - val_loss: 2.3027 - val_accuracy: 0.1000\n",
      "Epoch 3/3\n",
      "782/782 - 34s - loss: 2.3128 - accuracy: 0.0995 - val_loss: 2.3027 - val_accuracy: 0.1000\n",
      "Size:  318490.0\n",
      "Accuracy:  0.10\n",
      "Random search, best accuracy:  0.45\n",
      "\n",
      "Current Iteration: 53 of 100\n",
      "Epoch 1/3\n"
     ]
    },
    {
     "name": "stderr",
     "output_type": "stream",
     "text": [
      "2021-10-21 18:46:01.581521: I tensorflow/core/grappler/optimizers/custom_graph_optimizer_registry.cc:112] Plugin optimizer for device_type GPU is enabled.\n",
      "2021-10-21 18:46:12.722971: I tensorflow/core/grappler/optimizers/custom_graph_optimizer_registry.cc:112] Plugin optimizer for device_type GPU is enabled.\n"
     ]
    },
    {
     "name": "stdout",
     "output_type": "stream",
     "text": [
      "782/782 - 13s - loss: 2.3295 - accuracy: 0.0984 - val_loss: 2.3050 - val_accuracy: 0.1000\n",
      "Epoch 2/3\n",
      "782/782 - 11s - loss: 2.3071 - accuracy: 0.1002 - val_loss: 2.3064 - val_accuracy: 0.1000\n",
      "Epoch 3/3\n",
      "782/782 - 12s - loss: 2.3089 - accuracy: 0.0994 - val_loss: 2.3079 - val_accuracy: 0.1000\n",
      "Size:  385786.0\n",
      "Accuracy:  0.10\n",
      "Random search, best accuracy:  0.45\n",
      "\n",
      "Current Iteration: 54 of 100\n",
      "Epoch 1/3\n"
     ]
    },
    {
     "name": "stderr",
     "output_type": "stream",
     "text": [
      "2021-10-21 18:46:38.515553: I tensorflow/core/grappler/optimizers/custom_graph_optimizer_registry.cc:112] Plugin optimizer for device_type GPU is enabled.\n",
      "2021-10-21 18:46:44.197272: I tensorflow/core/grappler/optimizers/custom_graph_optimizer_registry.cc:112] Plugin optimizer for device_type GPU is enabled.\n"
     ]
    },
    {
     "name": "stdout",
     "output_type": "stream",
     "text": [
      "782/782 - 7s - loss: 2.6140 - accuracy: 0.1427 - val_loss: 2.1399 - val_accuracy: 0.1934\n",
      "Epoch 2/3\n",
      "782/782 - 6s - loss: 2.1789 - accuracy: 0.1882 - val_loss: 2.0609 - val_accuracy: 0.2263\n",
      "Epoch 3/3\n",
      "782/782 - 6s - loss: 2.1197 - accuracy: 0.2159 - val_loss: 2.0097 - val_accuracy: 0.2799\n",
      "Size:  5994.0\n",
      "Accuracy:  0.28\n",
      "Random search, best accuracy:  0.45\n",
      "\n",
      "Current Iteration: 55 of 100\n",
      "Epoch 1/3\n"
     ]
    },
    {
     "name": "stderr",
     "output_type": "stream",
     "text": [
      "2021-10-21 18:46:59.044856: I tensorflow/core/grappler/optimizers/custom_graph_optimizer_registry.cc:112] Plugin optimizer for device_type GPU is enabled.\n",
      "2021-10-21 18:47:09.367092: I tensorflow/core/grappler/optimizers/custom_graph_optimizer_registry.cc:112] Plugin optimizer for device_type GPU is enabled.\n"
     ]
    },
    {
     "name": "stdout",
     "output_type": "stream",
     "text": [
      "782/782 - 12s - loss: 2.3623 - accuracy: 0.1103 - val_loss: 2.3047 - val_accuracy: 0.1000\n",
      "Epoch 2/3\n",
      "782/782 - 11s - loss: 2.3027 - accuracy: 0.1121 - val_loss: 2.3043 - val_accuracy: 0.1000\n",
      "Epoch 3/3\n",
      "782/782 - 11s - loss: 2.2991 - accuracy: 0.1126 - val_loss: 2.3043 - val_accuracy: 0.1000\n",
      "Size:  305050.0\n",
      "Accuracy:  0.10\n",
      "Random search, best accuracy:  0.45\n",
      "\n",
      "Current Iteration: 56 of 100\n",
      "Epoch 1/3\n"
     ]
    },
    {
     "name": "stderr",
     "output_type": "stream",
     "text": [
      "2021-10-21 18:47:33.652303: I tensorflow/core/grappler/optimizers/custom_graph_optimizer_registry.cc:112] Plugin optimizer for device_type GPU is enabled.\n",
      "2021-10-21 18:47:39.451628: I tensorflow/core/grappler/optimizers/custom_graph_optimizer_registry.cc:112] Plugin optimizer for device_type GPU is enabled.\n"
     ]
    },
    {
     "name": "stdout",
     "output_type": "stream",
     "text": [
      "782/782 - 7s - loss: 3.6295 - accuracy: 0.1100 - val_loss: 2.2046 - val_accuracy: 0.2001\n",
      "Epoch 2/3\n",
      "782/782 - 6s - loss: 2.2819 - accuracy: 0.1291 - val_loss: 2.1954 - val_accuracy: 0.1841\n",
      "Epoch 3/3\n",
      "782/782 - 6s - loss: 2.2418 - accuracy: 0.1429 - val_loss: 2.1570 - val_accuracy: 0.1964\n",
      "Size:  3258.0\n",
      "Accuracy:  0.20\n",
      "Random search, best accuracy:  0.45\n",
      "\n",
      "Current Iteration: 57 of 100\n",
      "Epoch 1/3\n"
     ]
    },
    {
     "name": "stderr",
     "output_type": "stream",
     "text": [
      "2021-10-21 18:47:55.731492: I tensorflow/core/grappler/optimizers/custom_graph_optimizer_registry.cc:112] Plugin optimizer for device_type GPU is enabled.\n",
      "2021-10-21 18:48:01.702177: I tensorflow/core/grappler/optimizers/custom_graph_optimizer_registry.cc:112] Plugin optimizer for device_type GPU is enabled.\n"
     ]
    },
    {
     "name": "stdout",
     "output_type": "stream",
     "text": [
      "782/782 - 9s - loss: 2.6167 - accuracy: 0.1017 - val_loss: 2.3019 - val_accuracy: 0.1011\n",
      "Epoch 2/3\n",
      "782/782 - 6s - loss: 2.3207 - accuracy: 0.1020 - val_loss: 2.3025 - val_accuracy: 0.1000\n",
      "Epoch 3/3\n",
      "782/782 - 6s - loss: 2.2935 - accuracy: 0.1160 - val_loss: 2.2857 - val_accuracy: 0.1254\n",
      "Size:  294682.0\n",
      "Accuracy:  0.13\n",
      "Random search, best accuracy:  0.45\n",
      "\n",
      "Current Iteration: 58 of 100\n",
      "Epoch 1/3\n"
     ]
    },
    {
     "name": "stderr",
     "output_type": "stream",
     "text": [
      "2021-10-21 18:48:16.291988: I tensorflow/core/grappler/optimizers/custom_graph_optimizer_registry.cc:112] Plugin optimizer for device_type GPU is enabled.\n",
      "2021-10-21 18:48:24.068213: I tensorflow/core/grappler/optimizers/custom_graph_optimizer_registry.cc:112] Plugin optimizer for device_type GPU is enabled.\n"
     ]
    },
    {
     "name": "stdout",
     "output_type": "stream",
     "text": [
      "782/782 - 9s - loss: 2.3416 - accuracy: 0.1012 - val_loss: 2.3019 - val_accuracy: 0.1088\n",
      "Epoch 2/3\n",
      "782/782 - 8s - loss: 2.3156 - accuracy: 0.1007 - val_loss: 2.3068 - val_accuracy: 0.1058\n",
      "Epoch 3/3\n",
      "782/782 - 8s - loss: 2.3100 - accuracy: 0.1011 - val_loss: 2.3141 - val_accuracy: 0.1098\n",
      "Size:  346314.0\n",
      "Accuracy:  0.11\n",
      "Random search, best accuracy:  0.45\n",
      "\n",
      "Current Iteration: 59 of 100\n",
      "Epoch 1/3\n"
     ]
    },
    {
     "name": "stderr",
     "output_type": "stream",
     "text": [
      "2021-10-21 18:48:43.803574: I tensorflow/core/grappler/optimizers/custom_graph_optimizer_registry.cc:112] Plugin optimizer for device_type GPU is enabled.\n",
      "2021-10-21 18:48:55.111083: I tensorflow/core/grappler/optimizers/custom_graph_optimizer_registry.cc:112] Plugin optimizer for device_type GPU is enabled.\n"
     ]
    },
    {
     "name": "stdout",
     "output_type": "stream",
     "text": [
      "782/782 - 13s - loss: 3.2491 - accuracy: 0.0999 - val_loss: 2.2946 - val_accuracy: 0.1126\n",
      "Epoch 2/3\n",
      "782/782 - 12s - loss: 2.3147 - accuracy: 0.1015 - val_loss: 2.2967 - val_accuracy: 0.1029\n",
      "Epoch 3/3\n",
      "782/782 - 12s - loss: 2.3033 - accuracy: 0.1057 - val_loss: 2.2680 - val_accuracy: 0.1827\n",
      "Size:  197818.0\n",
      "Accuracy:  0.18\n",
      "Random search, best accuracy:  0.45\n",
      "\n",
      "Current Iteration: 60 of 100\n",
      "Epoch 1/3\n"
     ]
    },
    {
     "name": "stderr",
     "output_type": "stream",
     "text": [
      "2021-10-21 18:49:22.966631: I tensorflow/core/grappler/optimizers/custom_graph_optimizer_registry.cc:112] Plugin optimizer for device_type GPU is enabled.\n",
      "2021-10-21 18:49:29.659289: I tensorflow/core/grappler/optimizers/custom_graph_optimizer_registry.cc:112] Plugin optimizer for device_type GPU is enabled.\n"
     ]
    },
    {
     "name": "stdout",
     "output_type": "stream",
     "text": [
      "782/782 - 8s - loss: 2.4789 - accuracy: 0.1260 - val_loss: 2.2861 - val_accuracy: 0.1317\n",
      "Epoch 2/3\n",
      "782/782 - 7s - loss: 2.2376 - accuracy: 0.1554 - val_loss: 2.2598 - val_accuracy: 0.1223\n",
      "Epoch 3/3\n",
      "782/782 - 7s - loss: 2.1800 - accuracy: 0.1748 - val_loss: 2.1723 - val_accuracy: 0.2178\n",
      "Size:  319562.0\n",
      "Accuracy:  0.22\n",
      "Random search, best accuracy:  0.45\n",
      "\n",
      "Current Iteration: 61 of 100\n",
      "Epoch 1/3\n"
     ]
    },
    {
     "name": "stderr",
     "output_type": "stream",
     "text": [
      "2021-10-21 18:49:46.123548: I tensorflow/core/grappler/optimizers/custom_graph_optimizer_registry.cc:112] Plugin optimizer for device_type GPU is enabled.\n",
      "2021-10-21 18:49:55.874087: I tensorflow/core/grappler/optimizers/custom_graph_optimizer_registry.cc:112] Plugin optimizer for device_type GPU is enabled.\n"
     ]
    },
    {
     "name": "stdout",
     "output_type": "stream",
     "text": [
      "782/782 - 11s - loss: 2.1835 - accuracy: 0.2026 - val_loss: 1.9838 - val_accuracy: 0.2770\n",
      "Epoch 2/3\n",
      "782/782 - 11s - loss: 2.0508 - accuracy: 0.2536 - val_loss: 1.9228 - val_accuracy: 0.3054\n",
      "Epoch 3/3\n",
      "782/782 - 10s - loss: 2.0049 - accuracy: 0.2701 - val_loss: 1.8822 - val_accuracy: 0.3230\n",
      "Size:  72890.0\n",
      "Accuracy:  0.32\n",
      "Random search, best accuracy:  0.45\n",
      "\n",
      "Current Iteration: 62 of 100\n",
      "Epoch 1/3\n"
     ]
    },
    {
     "name": "stderr",
     "output_type": "stream",
     "text": [
      "2021-10-21 18:50:19.533203: I tensorflow/core/grappler/optimizers/custom_graph_optimizer_registry.cc:112] Plugin optimizer for device_type GPU is enabled.\n",
      "2021-10-21 18:50:30.145123: I tensorflow/core/grappler/optimizers/custom_graph_optimizer_registry.cc:112] Plugin optimizer for device_type GPU is enabled.\n"
     ]
    },
    {
     "name": "stdout",
     "output_type": "stream",
     "text": [
      "782/782 - 12s - loss: 2.2286 - accuracy: 0.1840 - val_loss: 1.9697 - val_accuracy: 0.2798\n",
      "Epoch 2/3\n",
      "782/782 - 11s - loss: 2.1207 - accuracy: 0.2218 - val_loss: 1.8798 - val_accuracy: 0.3211\n",
      "Epoch 3/3\n",
      "782/782 - 11s - loss: 2.0533 - accuracy: 0.2543 - val_loss: 1.8329 - val_accuracy: 0.3504\n",
      "Size:  160858.0\n",
      "Accuracy:  0.35\n",
      "Random search, best accuracy:  0.45\n",
      "\n",
      "Current Iteration: 63 of 100\n",
      "Epoch 1/3\n"
     ]
    },
    {
     "name": "stderr",
     "output_type": "stream",
     "text": [
      "2021-10-21 18:50:56.157116: I tensorflow/core/grappler/optimizers/custom_graph_optimizer_registry.cc:112] Plugin optimizer for device_type GPU is enabled.\n",
      "2021-10-21 18:51:05.462035: I tensorflow/core/grappler/optimizers/custom_graph_optimizer_registry.cc:112] Plugin optimizer for device_type GPU is enabled.\n"
     ]
    },
    {
     "name": "stdout",
     "output_type": "stream",
     "text": [
      "782/782 - 11s - loss: 2.6574 - accuracy: 0.0987 - val_loss: 2.2913 - val_accuracy: 0.1322\n",
      "Epoch 2/3\n",
      "782/782 - 9s - loss: 2.3378 - accuracy: 0.0985 - val_loss: 2.2852 - val_accuracy: 0.1428\n",
      "Epoch 3/3\n",
      "782/782 - 9s - loss: 2.3095 - accuracy: 0.0963 - val_loss: 2.2815 - val_accuracy: 0.1439\n",
      "Size:  6602.0\n",
      "Accuracy:  0.14\n",
      "Random search, best accuracy:  0.45\n",
      "\n",
      "Current Iteration: 64 of 100\n",
      "Epoch 1/3\n"
     ]
    },
    {
     "name": "stderr",
     "output_type": "stream",
     "text": [
      "2021-10-21 18:51:27.185690: I tensorflow/core/grappler/optimizers/custom_graph_optimizer_registry.cc:112] Plugin optimizer for device_type GPU is enabled.\n",
      "2021-10-21 18:51:33.588149: I tensorflow/core/grappler/optimizers/custom_graph_optimizer_registry.cc:112] Plugin optimizer for device_type GPU is enabled.\n"
     ]
    },
    {
     "name": "stdout",
     "output_type": "stream",
     "text": [
      "782/782 - 8s - loss: 2.5562 - accuracy: 0.1746 - val_loss: 2.2628 - val_accuracy: 0.1622\n",
      "Epoch 2/3\n",
      "782/782 - 7s - loss: 2.2273 - accuracy: 0.1973 - val_loss: 2.2733 - val_accuracy: 0.1873\n",
      "Epoch 3/3\n",
      "782/782 - 7s - loss: 2.1982 - accuracy: 0.2048 - val_loss: 2.2344 - val_accuracy: 0.2063\n",
      "Size:  207882.0\n",
      "Accuracy:  0.21\n",
      "Random search, best accuracy:  0.45\n",
      "\n",
      "Current Iteration: 65 of 100\n",
      "Epoch 1/3\n"
     ]
    },
    {
     "name": "stderr",
     "output_type": "stream",
     "text": [
      "2021-10-21 18:51:49.693664: I tensorflow/core/grappler/optimizers/custom_graph_optimizer_registry.cc:112] Plugin optimizer for device_type GPU is enabled.\n",
      "2021-10-21 18:51:57.471812: I tensorflow/core/grappler/optimizers/custom_graph_optimizer_registry.cc:112] Plugin optimizer for device_type GPU is enabled.\n"
     ]
    },
    {
     "name": "stdout",
     "output_type": "stream",
     "text": [
      "782/782 - 9s - loss: 2.4009 - accuracy: 0.1060 - val_loss: 2.2741 - val_accuracy: 0.1457\n",
      "Epoch 2/3\n",
      "782/782 - 8s - loss: 2.3012 - accuracy: 0.1182 - val_loss: 2.1842 - val_accuracy: 0.1692\n",
      "Epoch 3/3\n",
      "782/782 - 8s - loss: 2.2647 - accuracy: 0.1372 - val_loss: 2.1359 - val_accuracy: 0.1752\n",
      "Size:  31258.0\n",
      "Accuracy:  0.18\n",
      "Random search, best accuracy:  0.45\n",
      "\n",
      "Current Iteration: 66 of 100\n",
      "Epoch 1/3\n"
     ]
    },
    {
     "name": "stderr",
     "output_type": "stream",
     "text": [
      "2021-10-21 18:52:17.373651: I tensorflow/core/grappler/optimizers/custom_graph_optimizer_registry.cc:112] Plugin optimizer for device_type GPU is enabled.\n",
      "2021-10-21 18:52:22.251770: I tensorflow/core/grappler/optimizers/custom_graph_optimizer_registry.cc:112] Plugin optimizer for device_type GPU is enabled.\n"
     ]
    },
    {
     "name": "stdout",
     "output_type": "stream",
     "text": [
      "782/782 - 6s - loss: 1.7184 - accuracy: 0.4046 - val_loss: 1.5605 - val_accuracy: 0.4544\n",
      "Epoch 2/3\n",
      "782/782 - 5s - loss: 1.5133 - accuracy: 0.4796 - val_loss: 1.5060 - val_accuracy: 0.4788\n",
      "Epoch 3/3\n",
      "782/782 - 5s - loss: 1.4235 - accuracy: 0.5123 - val_loss: 1.4725 - val_accuracy: 0.4937\n",
      "Size:  382986.0\n",
      "Accuracy:  0.49\n",
      "Random search, best accuracy:  0.49\n",
      "\n",
      "Current Iteration: 67 of 100\n",
      "Epoch 1/3\n"
     ]
    },
    {
     "name": "stderr",
     "output_type": "stream",
     "text": [
      "2021-10-21 18:52:36.074799: I tensorflow/core/grappler/optimizers/custom_graph_optimizer_registry.cc:112] Plugin optimizer for device_type GPU is enabled.\n",
      "2021-10-21 18:52:43.631105: I tensorflow/core/grappler/optimizers/custom_graph_optimizer_registry.cc:112] Plugin optimizer for device_type GPU is enabled.\n"
     ]
    },
    {
     "name": "stdout",
     "output_type": "stream",
     "text": [
      "782/782 - 9s - loss: 2.1878 - accuracy: 0.1913 - val_loss: 1.9817 - val_accuracy: 0.3105\n",
      "Epoch 2/3\n",
      "782/782 - 8s - loss: 2.0803 - accuracy: 0.2309 - val_loss: 1.9636 - val_accuracy: 0.3075\n",
      "Epoch 3/3\n",
      "782/782 - 8s - loss: 2.0600 - accuracy: 0.2400 - val_loss: 1.9493 - val_accuracy: 0.3127\n",
      "Size:  18890.0\n",
      "Accuracy:  0.31\n",
      "Random search, best accuracy:  0.49\n",
      "\n",
      "Current Iteration: 68 of 100\n",
      "Epoch 1/3\n"
     ]
    },
    {
     "name": "stderr",
     "output_type": "stream",
     "text": [
      "2021-10-21 18:53:01.865611: I tensorflow/core/grappler/optimizers/custom_graph_optimizer_registry.cc:112] Plugin optimizer for device_type GPU is enabled.\n",
      "2021-10-21 18:53:16.718832: I tensorflow/core/grappler/optimizers/custom_graph_optimizer_registry.cc:112] Plugin optimizer for device_type GPU is enabled.\n"
     ]
    },
    {
     "name": "stdout",
     "output_type": "stream",
     "text": [
      "782/782 - 16s - loss: 2.8987 - accuracy: 0.0997 - val_loss: 2.2974 - val_accuracy: 0.1156\n",
      "Epoch 2/3\n",
      "782/782 - 15s - loss: 2.5387 - accuracy: 0.0976 - val_loss: 2.3035 - val_accuracy: 0.1032\n",
      "Epoch 3/3\n",
      "782/782 - 15s - loss: 2.3740 - accuracy: 0.0972 - val_loss: 2.3033 - val_accuracy: 0.1083\n",
      "Size:  28106.0\n",
      "Accuracy:  0.11\n",
      "Random search, best accuracy:  0.49\n",
      "\n",
      "Current Iteration: 69 of 100\n",
      "Epoch 1/3\n"
     ]
    },
    {
     "name": "stderr",
     "output_type": "stream",
     "text": [
      "2021-10-21 18:53:49.405270: I tensorflow/core/grappler/optimizers/custom_graph_optimizer_registry.cc:112] Plugin optimizer for device_type GPU is enabled.\n",
      "2021-10-21 18:54:10.506493: I tensorflow/core/grappler/optimizers/custom_graph_optimizer_registry.cc:112] Plugin optimizer for device_type GPU is enabled.\n"
     ]
    },
    {
     "name": "stdout",
     "output_type": "stream",
     "text": [
      "782/782 - 23s - loss: 2.4436 - accuracy: 0.0985 - val_loss: 2.3027 - val_accuracy: 0.1000\n",
      "Epoch 2/3\n",
      "782/782 - 22s - loss: 2.3082 - accuracy: 0.0963 - val_loss: 2.3026 - val_accuracy: 0.1000\n",
      "Epoch 3/3\n",
      "782/782 - 22s - loss: 2.3046 - accuracy: 0.0981 - val_loss: 2.3026 - val_accuracy: 0.1000\n",
      "Size:  72794.0\n",
      "Accuracy:  0.10\n",
      "Random search, best accuracy:  0.49\n",
      "\n",
      "Current Iteration: 70 of 100\n",
      "Epoch 1/3\n"
     ]
    },
    {
     "name": "stderr",
     "output_type": "stream",
     "text": [
      "2021-10-21 18:54:57.270008: I tensorflow/core/grappler/optimizers/custom_graph_optimizer_registry.cc:112] Plugin optimizer for device_type GPU is enabled.\n",
      "2021-10-21 18:55:03.802759: I tensorflow/core/grappler/optimizers/custom_graph_optimizer_registry.cc:112] Plugin optimizer for device_type GPU is enabled.\n"
     ]
    },
    {
     "name": "stdout",
     "output_type": "stream",
     "text": [
      "782/782 - 8s - loss: 2.2451 - accuracy: 0.2452 - val_loss: 1.7318 - val_accuracy: 0.4064\n",
      "Epoch 2/3\n",
      "782/782 - 6s - loss: 1.8773 - accuracy: 0.3232 - val_loss: 1.6717 - val_accuracy: 0.4129\n",
      "Epoch 3/3\n",
      "782/782 - 7s - loss: 1.8393 - accuracy: 0.3372 - val_loss: 1.6383 - val_accuracy: 0.4214\n",
      "Size:  262922.0\n",
      "Accuracy:  0.42\n",
      "Random search, best accuracy:  0.49\n",
      "\n",
      "Current Iteration: 71 of 100\n",
      "Epoch 1/3\n"
     ]
    },
    {
     "name": "stderr",
     "output_type": "stream",
     "text": [
      "2021-10-21 18:55:19.194768: I tensorflow/core/grappler/optimizers/custom_graph_optimizer_registry.cc:112] Plugin optimizer for device_type GPU is enabled.\n",
      "2021-10-21 18:55:25.031738: I tensorflow/core/grappler/optimizers/custom_graph_optimizer_registry.cc:112] Plugin optimizer for device_type GPU is enabled.\n"
     ]
    },
    {
     "name": "stdout",
     "output_type": "stream",
     "text": [
      "782/782 - 7s - loss: 2.3624 - accuracy: 0.1528 - val_loss: 2.4732 - val_accuracy: 0.1003\n",
      "Epoch 2/3\n",
      "782/782 - 6s - loss: 2.2567 - accuracy: 0.1582 - val_loss: 2.4665 - val_accuracy: 0.1008\n",
      "Epoch 3/3\n",
      "782/782 - 6s - loss: 2.2260 - accuracy: 0.1652 - val_loss: 2.5632 - val_accuracy: 0.1002\n",
      "Size:  94218.0\n",
      "Accuracy:  0.10\n",
      "Random search, best accuracy:  0.49\n",
      "\n",
      "Current Iteration: 72 of 100\n",
      "Epoch 1/3\n"
     ]
    },
    {
     "name": "stderr",
     "output_type": "stream",
     "text": [
      "2021-10-21 18:55:38.969908: I tensorflow/core/grappler/optimizers/custom_graph_optimizer_registry.cc:112] Plugin optimizer for device_type GPU is enabled.\n",
      "2021-10-21 18:55:47.716851: I tensorflow/core/grappler/optimizers/custom_graph_optimizer_registry.cc:112] Plugin optimizer for device_type GPU is enabled.\n"
     ]
    },
    {
     "name": "stdout",
     "output_type": "stream",
     "text": [
      "782/782 - 10s - loss: 2.3796 - accuracy: 0.1014 - val_loss: 2.2972 - val_accuracy: 0.1146\n",
      "Epoch 2/3\n",
      "782/782 - 9s - loss: 2.3031 - accuracy: 0.1071 - val_loss: 2.2733 - val_accuracy: 0.1475\n",
      "Epoch 3/3\n",
      "782/782 - 9s - loss: 2.2930 - accuracy: 0.1110 - val_loss: 2.2561 - val_accuracy: 0.1608\n",
      "Size:  111706.0\n",
      "Accuracy:  0.16\n",
      "Random search, best accuracy:  0.49\n",
      "\n",
      "Current Iteration: 73 of 100\n",
      "Epoch 1/3\n"
     ]
    },
    {
     "name": "stderr",
     "output_type": "stream",
     "text": [
      "2021-10-21 18:56:07.622440: I tensorflow/core/grappler/optimizers/custom_graph_optimizer_registry.cc:112] Plugin optimizer for device_type GPU is enabled.\n",
      "2021-10-21 18:56:15.371343: I tensorflow/core/grappler/optimizers/custom_graph_optimizer_registry.cc:112] Plugin optimizer for device_type GPU is enabled.\n"
     ]
    },
    {
     "name": "stdout",
     "output_type": "stream",
     "text": [
      "782/782 - 9s - loss: 2.4960 - accuracy: 0.1041 - val_loss: 2.2622 - val_accuracy: 0.1379\n",
      "Epoch 2/3\n",
      "782/782 - 8s - loss: 2.2640 - accuracy: 0.1319 - val_loss: 2.1628 - val_accuracy: 0.1630\n",
      "Epoch 3/3\n",
      "782/782 - 8s - loss: 2.2021 - accuracy: 0.1548 - val_loss: 2.1492 - val_accuracy: 0.1694\n",
      "Size:  381178.0\n",
      "Accuracy:  0.17\n",
      "Random search, best accuracy:  0.49\n",
      "\n",
      "Current Iteration: 74 of 100\n",
      "Epoch 1/3\n"
     ]
    },
    {
     "name": "stderr",
     "output_type": "stream",
     "text": [
      "2021-10-21 18:56:35.196232: I tensorflow/core/grappler/optimizers/custom_graph_optimizer_registry.cc:112] Plugin optimizer for device_type GPU is enabled.\n",
      "2021-10-21 18:56:41.228796: I tensorflow/core/grappler/optimizers/custom_graph_optimizer_registry.cc:112] Plugin optimizer for device_type GPU is enabled.\n"
     ]
    },
    {
     "name": "stdout",
     "output_type": "stream",
     "text": [
      "782/782 - 7s - loss: 1.8543 - accuracy: 0.3328 - val_loss: 1.5366 - val_accuracy: 0.4648\n",
      "Epoch 2/3\n",
      "782/782 - 6s - loss: 1.6202 - accuracy: 0.4220 - val_loss: 1.4389 - val_accuracy: 0.5023\n",
      "Epoch 3/3\n",
      "782/782 - 6s - loss: 1.5467 - accuracy: 0.4462 - val_loss: 1.3740 - val_accuracy: 0.5177\n",
      "Size:  265418.0\n",
      "Accuracy:  0.52\n",
      "Random search, best accuracy:  0.52\n",
      "\n",
      "Current Iteration: 75 of 100\n",
      "Epoch 1/3\n"
     ]
    },
    {
     "name": "stderr",
     "output_type": "stream",
     "text": [
      "2021-10-21 18:56:57.158339: I tensorflow/core/grappler/optimizers/custom_graph_optimizer_registry.cc:112] Plugin optimizer for device_type GPU is enabled.\n",
      "2021-10-21 18:57:05.203752: I tensorflow/core/grappler/optimizers/custom_graph_optimizer_registry.cc:112] Plugin optimizer for device_type GPU is enabled.\n"
     ]
    },
    {
     "name": "stdout",
     "output_type": "stream",
     "text": [
      "782/782 - 9s - loss: 3.2334 - accuracy: 0.1058 - val_loss: 2.2777 - val_accuracy: 0.1840\n",
      "Epoch 2/3\n",
      "782/782 - 8s - loss: 2.3174 - accuracy: 0.1028 - val_loss: 2.2644 - val_accuracy: 0.1816\n",
      "Epoch 3/3\n",
      "782/782 - 8s - loss: 2.3119 - accuracy: 0.1076 - val_loss: 2.2156 - val_accuracy: 0.1625\n",
      "Size:  198666.0\n",
      "Accuracy:  0.16\n",
      "Random search, best accuracy:  0.52\n",
      "\n",
      "Current Iteration: 76 of 100\n",
      "Epoch 1/3\n"
     ]
    },
    {
     "name": "stderr",
     "output_type": "stream",
     "text": [
      "2021-10-21 18:57:24.767150: I tensorflow/core/grappler/optimizers/custom_graph_optimizer_registry.cc:112] Plugin optimizer for device_type GPU is enabled.\n",
      "2021-10-21 18:57:30.312597: I tensorflow/core/grappler/optimizers/custom_graph_optimizer_registry.cc:112] Plugin optimizer for device_type GPU is enabled.\n"
     ]
    },
    {
     "name": "stdout",
     "output_type": "stream",
     "text": [
      "782/782 - 7s - loss: 2.2972 - accuracy: 0.2073 - val_loss: 1.9537 - val_accuracy: 0.2983\n",
      "Epoch 2/3\n",
      "782/782 - 6s - loss: 2.0258 - accuracy: 0.2604 - val_loss: 1.8981 - val_accuracy: 0.3224\n",
      "Epoch 3/3\n",
      "782/782 - 6s - loss: 2.0000 - accuracy: 0.2755 - val_loss: 1.8844 - val_accuracy: 0.3304\n",
      "Size:  197322.0\n",
      "Accuracy:  0.33\n",
      "Random search, best accuracy:  0.52\n",
      "\n",
      "Current Iteration: 77 of 100\n",
      "Epoch 1/3\n"
     ]
    },
    {
     "name": "stderr",
     "output_type": "stream",
     "text": [
      "2021-10-21 18:57:44.470315: I tensorflow/core/grappler/optimizers/custom_graph_optimizer_registry.cc:112] Plugin optimizer for device_type GPU is enabled.\n",
      "2021-10-21 18:57:49.892886: I tensorflow/core/grappler/optimizers/custom_graph_optimizer_registry.cc:112] Plugin optimizer for device_type GPU is enabled.\n"
     ]
    },
    {
     "name": "stdout",
     "output_type": "stream",
     "text": [
      "782/782 - 7s - loss: 3.1188 - accuracy: 0.1069 - val_loss: 2.2412 - val_accuracy: 0.1948\n",
      "Epoch 2/3\n",
      "782/782 - 6s - loss: 2.2874 - accuracy: 0.1202 - val_loss: 2.2258 - val_accuracy: 0.1684\n",
      "Epoch 3/3\n",
      "782/782 - 6s - loss: 2.2702 - accuracy: 0.1301 - val_loss: 2.2013 - val_accuracy: 0.1905\n",
      "Size:  5994.0\n",
      "Accuracy:  0.19\n",
      "Random search, best accuracy:  0.52\n",
      "\n",
      "Current Iteration: 78 of 100\n",
      "Epoch 1/3\n"
     ]
    },
    {
     "name": "stderr",
     "output_type": "stream",
     "text": [
      "2021-10-21 18:58:03.899275: I tensorflow/core/grappler/optimizers/custom_graph_optimizer_registry.cc:112] Plugin optimizer for device_type GPU is enabled.\n",
      "2021-10-21 18:58:14.147177: I tensorflow/core/grappler/optimizers/custom_graph_optimizer_registry.cc:112] Plugin optimizer for device_type GPU is enabled.\n"
     ]
    },
    {
     "name": "stdout",
     "output_type": "stream",
     "text": [
      "782/782 - 12s - loss: 2.3780 - accuracy: 0.1020 - val_loss: 2.2983 - val_accuracy: 0.1183\n",
      "Epoch 2/3\n",
      "782/782 - 10s - loss: 2.2665 - accuracy: 0.1323 - val_loss: 2.1603 - val_accuracy: 0.1729\n",
      "Epoch 3/3\n",
      "782/782 - 10s - loss: 2.2088 - accuracy: 0.1548 - val_loss: 2.1050 - val_accuracy: 0.1856\n",
      "Size:  283162.0\n",
      "Accuracy:  0.19\n",
      "Random search, best accuracy:  0.52\n",
      "\n",
      "Current Iteration: 79 of 100\n",
      "Epoch 1/3\n"
     ]
    },
    {
     "name": "stderr",
     "output_type": "stream",
     "text": [
      "2021-10-21 18:58:37.521040: I tensorflow/core/grappler/optimizers/custom_graph_optimizer_registry.cc:112] Plugin optimizer for device_type GPU is enabled.\n",
      "2021-10-21 18:58:56.769546: I tensorflow/core/grappler/optimizers/custom_graph_optimizer_registry.cc:112] Plugin optimizer for device_type GPU is enabled.\n"
     ]
    },
    {
     "name": "stdout",
     "output_type": "stream",
     "text": [
      "782/782 - 21s - loss: 2.2203 - accuracy: 0.1503 - val_loss: 1.9946 - val_accuracy: 0.2336\n",
      "Epoch 2/3\n",
      "782/782 - 19s - loss: 2.1302 - accuracy: 0.1665 - val_loss: 1.9765 - val_accuracy: 0.2499\n",
      "Epoch 3/3\n",
      "782/782 - 19s - loss: 2.1213 - accuracy: 0.1699 - val_loss: 1.9618 - val_accuracy: 0.2361\n",
      "Size:  306714.0\n",
      "Accuracy:  0.24\n",
      "Random search, best accuracy:  0.52\n",
      "\n",
      "Current Iteration: 80 of 100\n",
      "Epoch 1/3\n"
     ]
    },
    {
     "name": "stderr",
     "output_type": "stream",
     "text": [
      "2021-10-21 18:59:38.789441: I tensorflow/core/grappler/optimizers/custom_graph_optimizer_registry.cc:112] Plugin optimizer for device_type GPU is enabled.\n",
      "2021-10-21 18:59:46.370358: I tensorflow/core/grappler/optimizers/custom_graph_optimizer_registry.cc:112] Plugin optimizer for device_type GPU is enabled.\n"
     ]
    },
    {
     "name": "stdout",
     "output_type": "stream",
     "text": [
      "782/782 - 9s - loss: 2.2337 - accuracy: 0.1890 - val_loss: 1.9190 - val_accuracy: 0.2909\n",
      "Epoch 2/3\n",
      "782/782 - 8s - loss: 2.0401 - accuracy: 0.2425 - val_loss: 1.8717 - val_accuracy: 0.2959\n",
      "Epoch 3/3\n",
      "782/782 - 8s - loss: 1.9836 - accuracy: 0.2633 - val_loss: 1.8363 - val_accuracy: 0.3112\n",
      "Size:  302410.0\n",
      "Accuracy:  0.31\n",
      "Random search, best accuracy:  0.52\n",
      "\n",
      "Current Iteration: 81 of 100\n",
      "Epoch 1/3\n"
     ]
    },
    {
     "name": "stderr",
     "output_type": "stream",
     "text": [
      "2021-10-21 19:00:05.923720: I tensorflow/core/grappler/optimizers/custom_graph_optimizer_registry.cc:112] Plugin optimizer for device_type GPU is enabled.\n",
      "2021-10-21 19:00:12.037126: I tensorflow/core/grappler/optimizers/custom_graph_optimizer_registry.cc:112] Plugin optimizer for device_type GPU is enabled.\n"
     ]
    },
    {
     "name": "stdout",
     "output_type": "stream",
     "text": [
      "782/782 - 7s - loss: 3.7505 - accuracy: 0.1557 - val_loss: 2.1121 - val_accuracy: 0.2360\n",
      "Epoch 2/3\n",
      "782/782 - 7s - loss: 2.2058 - accuracy: 0.1881 - val_loss: 2.0796 - val_accuracy: 0.2263\n",
      "Epoch 3/3\n",
      "782/782 - 7s - loss: 2.1917 - accuracy: 0.2011 - val_loss: 2.0570 - val_accuracy: 0.2490\n",
      "Size:  95754.0\n",
      "Accuracy:  0.25\n",
      "Random search, best accuracy:  0.52\n",
      "\n",
      "Current Iteration: 82 of 100\n",
      "Epoch 1/3\n"
     ]
    },
    {
     "name": "stderr",
     "output_type": "stream",
     "text": [
      "2021-10-21 19:00:28.836790: I tensorflow/core/grappler/optimizers/custom_graph_optimizer_registry.cc:112] Plugin optimizer for device_type GPU is enabled.\n",
      "2021-10-21 19:00:41.153814: I tensorflow/core/grappler/optimizers/custom_graph_optimizer_registry.cc:112] Plugin optimizer for device_type GPU is enabled.\n"
     ]
    },
    {
     "name": "stdout",
     "output_type": "stream",
     "text": [
      "782/782 - 14s - loss: 2.2444 - accuracy: 0.1435 - val_loss: 2.1206 - val_accuracy: 0.1802\n",
      "Epoch 2/3\n",
      "782/782 - 13s - loss: 2.1587 - accuracy: 0.1658 - val_loss: 2.1135 - val_accuracy: 0.1818\n",
      "Epoch 3/3\n",
      "782/782 - 13s - loss: 2.1502 - accuracy: 0.1681 - val_loss: 2.1074 - val_accuracy: 0.1845\n",
      "Size:  415738.0\n",
      "Accuracy:  0.18\n",
      "Random search, best accuracy:  0.52\n",
      "\n",
      "Current Iteration: 83 of 100\n",
      "Epoch 1/3\n"
     ]
    },
    {
     "name": "stderr",
     "output_type": "stream",
     "text": [
      "2021-10-21 19:01:10.420989: I tensorflow/core/grappler/optimizers/custom_graph_optimizer_registry.cc:112] Plugin optimizer for device_type GPU is enabled.\n",
      "2021-10-21 19:01:16.669147: I tensorflow/core/grappler/optimizers/custom_graph_optimizer_registry.cc:112] Plugin optimizer for device_type GPU is enabled.\n"
     ]
    },
    {
     "name": "stdout",
     "output_type": "stream",
     "text": [
      "782/782 - 7s - loss: 3.5597 - accuracy: 0.0994 - val_loss: 2.3020 - val_accuracy: 0.1127\n",
      "Epoch 2/3\n",
      "782/782 - 7s - loss: 2.4045 - accuracy: 0.1033 - val_loss: 2.2889 - val_accuracy: 0.1128\n",
      "Epoch 3/3\n",
      "782/782 - 7s - loss: 2.3349 - accuracy: 0.1013 - val_loss: 2.2826 - val_accuracy: 0.1181\n",
      "Size:  3258.0\n",
      "Accuracy:  0.12\n",
      "Random search, best accuracy:  0.52\n",
      "\n",
      "Current Iteration: 84 of 100\n",
      "Epoch 1/3\n"
     ]
    },
    {
     "name": "stderr",
     "output_type": "stream",
     "text": [
      "2021-10-21 19:01:32.975131: I tensorflow/core/grappler/optimizers/custom_graph_optimizer_registry.cc:112] Plugin optimizer for device_type GPU is enabled.\n",
      "2021-10-21 19:01:55.400367: I tensorflow/core/grappler/optimizers/custom_graph_optimizer_registry.cc:112] Plugin optimizer for device_type GPU is enabled.\n"
     ]
    },
    {
     "name": "stdout",
     "output_type": "stream",
     "text": [
      "782/782 - 25s - loss: 2.0886 - accuracy: 0.2306 - val_loss: 1.9493 - val_accuracy: 0.3028\n",
      "Epoch 2/3\n",
      "782/782 - 23s - loss: 1.9555 - accuracy: 0.2856 - val_loss: 2.0057 - val_accuracy: 0.2650\n",
      "Epoch 3/3\n",
      "782/782 - 23s - loss: 1.9361 - accuracy: 0.2921 - val_loss: 1.9842 - val_accuracy: 0.2624\n",
      "Size:  229466.0\n",
      "Accuracy:  0.26\n",
      "Random search, best accuracy:  0.52\n",
      "\n",
      "Current Iteration: 85 of 100\n",
      "Epoch 1/3\n"
     ]
    },
    {
     "name": "stderr",
     "output_type": "stream",
     "text": [
      "2021-10-21 19:02:45.888464: I tensorflow/core/grappler/optimizers/custom_graph_optimizer_registry.cc:112] Plugin optimizer for device_type GPU is enabled.\n",
      "2021-10-21 19:27:57.147093: I tensorflow/core/grappler/optimizers/custom_graph_optimizer_registry.cc:112] Plugin optimizer for device_type GPU is enabled.\n"
     ]
    },
    {
     "name": "stdout",
     "output_type": "stream",
     "text": [
      "782/782 - 1533s - loss: 2.9512 - accuracy: 0.0976 - val_loss: 2.3026 - val_accuracy: 0.1000\n",
      "Epoch 2/3\n"
     ]
    },
    {
     "ename": "KeyboardInterrupt",
     "evalue": "",
     "output_type": "error",
     "traceback": [
      "\u001b[0;31m---------------------------------------------------------------------------\u001b[0m",
      "\u001b[0;31mKeyboardInterrupt\u001b[0m                         Traceback (most recent call last)",
      "\u001b[0;32m/var/folders/5w/xv4p302s68s3wxm5rd5zn0l40000gn/T/ipykernel_1107/2821714203.py\u001b[0m in \u001b[0;36m<module>\u001b[0;34m\u001b[0m\n\u001b[1;32m      7\u001b[0m     \u001b[0;32mwhile\u001b[0m\u001b[0;34m(\u001b[0m\u001b[0mvalid_model\u001b[0m \u001b[0;34m==\u001b[0m \u001b[0;32mFalse\u001b[0m\u001b[0;34m)\u001b[0m\u001b[0;34m:\u001b[0m\u001b[0;34m\u001b[0m\u001b[0;34m\u001b[0m\u001b[0m\n\u001b[1;32m      8\u001b[0m         \u001b[0mmodel_definition\u001b[0m \u001b[0;34m=\u001b[0m \u001b[0mgenerate_model_definition\u001b[0m\u001b[0;34m(\u001b[0m\u001b[0;34m)\u001b[0m\u001b[0;34m\u001b[0m\u001b[0;34m\u001b[0m\u001b[0m\n\u001b[0;32m----> 9\u001b[0;31m         \u001b[0macc\u001b[0m \u001b[0;34m=\u001b[0m \u001b[0mcreate_and_evaluate_model\u001b[0m\u001b[0;34m(\u001b[0m\u001b[0mmodel_definition\u001b[0m\u001b[0;34m)\u001b[0m\u001b[0;34m\u001b[0m\u001b[0;34m\u001b[0m\u001b[0m\n\u001b[0m\u001b[1;32m     10\u001b[0m         \u001b[0;32mif\u001b[0m \u001b[0macc\u001b[0m \u001b[0;34m>\u001b[0m \u001b[0;36m0.0\u001b[0m\u001b[0;34m:\u001b[0m\u001b[0;34m\u001b[0m\u001b[0;34m\u001b[0m\u001b[0m\n\u001b[1;32m     11\u001b[0m             \u001b[0mvalid_model\u001b[0m \u001b[0;34m=\u001b[0m \u001b[0;32mTrue\u001b[0m\u001b[0;34m\u001b[0m\u001b[0;34m\u001b[0m\u001b[0m\n",
      "\u001b[0;32m/var/folders/5w/xv4p302s68s3wxm5rd5zn0l40000gn/T/ipykernel_1107/1895993128.py\u001b[0m in \u001b[0;36mcreate_and_evaluate_model\u001b[0;34m(model_definition)\u001b[0m\n\u001b[1;32m     42\u001b[0m         \u001b[0;32mreturn\u001b[0m \u001b[0;36m0.0\u001b[0m\u001b[0;34m\u001b[0m\u001b[0;34m\u001b[0m\u001b[0m\n\u001b[1;32m     43\u001b[0m     \u001b[0mmodel\u001b[0m \u001b[0;34m=\u001b[0m \u001b[0mcreate_model\u001b[0m\u001b[0;34m(\u001b[0m\u001b[0mmodel_definition\u001b[0m\u001b[0;34m)\u001b[0m\u001b[0;34m\u001b[0m\u001b[0;34m\u001b[0m\u001b[0m\n\u001b[0;32m---> 44\u001b[0;31m     history = model.fit(train_images, train_labels,\n\u001b[0m\u001b[1;32m     45\u001b[0m                         \u001b[0mvalidation_data\u001b[0m\u001b[0;34m=\u001b[0m\u001b[0;34m(\u001b[0m\u001b[0mtest_images\u001b[0m\u001b[0;34m,\u001b[0m \u001b[0mtest_labels\u001b[0m\u001b[0;34m)\u001b[0m\u001b[0;34m,\u001b[0m\u001b[0;34m\u001b[0m\u001b[0;34m\u001b[0m\u001b[0m\n\u001b[1;32m     46\u001b[0m                         \u001b[0mepochs\u001b[0m\u001b[0;34m=\u001b[0m\u001b[0mEVAL_EPOCHS\u001b[0m\u001b[0;34m,\u001b[0m \u001b[0mbatch_size\u001b[0m\u001b[0;34m=\u001b[0m\u001b[0;36m64\u001b[0m\u001b[0;34m,\u001b[0m\u001b[0;34m\u001b[0m\u001b[0;34m\u001b[0m\u001b[0m\n",
      "\u001b[0;32m~/miniforge3/envs/tf/lib/python3.9/site-packages/keras/engine/training.py\u001b[0m in \u001b[0;36mfit\u001b[0;34m(self, x, y, batch_size, epochs, verbose, callbacks, validation_split, validation_data, shuffle, class_weight, sample_weight, initial_epoch, steps_per_epoch, validation_steps, validation_batch_size, validation_freq, max_queue_size, workers, use_multiprocessing)\u001b[0m\n\u001b[1;32m   1182\u001b[0m                 _r=1):\n\u001b[1;32m   1183\u001b[0m               \u001b[0mcallbacks\u001b[0m\u001b[0;34m.\u001b[0m\u001b[0mon_train_batch_begin\u001b[0m\u001b[0;34m(\u001b[0m\u001b[0mstep\u001b[0m\u001b[0;34m)\u001b[0m\u001b[0;34m\u001b[0m\u001b[0;34m\u001b[0m\u001b[0m\n\u001b[0;32m-> 1184\u001b[0;31m               \u001b[0mtmp_logs\u001b[0m \u001b[0;34m=\u001b[0m \u001b[0mself\u001b[0m\u001b[0;34m.\u001b[0m\u001b[0mtrain_function\u001b[0m\u001b[0;34m(\u001b[0m\u001b[0miterator\u001b[0m\u001b[0;34m)\u001b[0m\u001b[0;34m\u001b[0m\u001b[0;34m\u001b[0m\u001b[0m\n\u001b[0m\u001b[1;32m   1185\u001b[0m               \u001b[0;32mif\u001b[0m \u001b[0mdata_handler\u001b[0m\u001b[0;34m.\u001b[0m\u001b[0mshould_sync\u001b[0m\u001b[0;34m:\u001b[0m\u001b[0;34m\u001b[0m\u001b[0;34m\u001b[0m\u001b[0m\n\u001b[1;32m   1186\u001b[0m                 \u001b[0mcontext\u001b[0m\u001b[0;34m.\u001b[0m\u001b[0masync_wait\u001b[0m\u001b[0;34m(\u001b[0m\u001b[0;34m)\u001b[0m\u001b[0;34m\u001b[0m\u001b[0;34m\u001b[0m\u001b[0m\n",
      "\u001b[0;32m~/miniforge3/envs/tf/lib/python3.9/site-packages/tensorflow/python/eager/def_function.py\u001b[0m in \u001b[0;36m__call__\u001b[0;34m(self, *args, **kwds)\u001b[0m\n\u001b[1;32m    883\u001b[0m \u001b[0;34m\u001b[0m\u001b[0m\n\u001b[1;32m    884\u001b[0m       \u001b[0;32mwith\u001b[0m \u001b[0mOptionalXlaContext\u001b[0m\u001b[0;34m(\u001b[0m\u001b[0mself\u001b[0m\u001b[0;34m.\u001b[0m\u001b[0m_jit_compile\u001b[0m\u001b[0;34m)\u001b[0m\u001b[0;34m:\u001b[0m\u001b[0;34m\u001b[0m\u001b[0;34m\u001b[0m\u001b[0m\n\u001b[0;32m--> 885\u001b[0;31m         \u001b[0mresult\u001b[0m \u001b[0;34m=\u001b[0m \u001b[0mself\u001b[0m\u001b[0;34m.\u001b[0m\u001b[0m_call\u001b[0m\u001b[0;34m(\u001b[0m\u001b[0;34m*\u001b[0m\u001b[0margs\u001b[0m\u001b[0;34m,\u001b[0m \u001b[0;34m**\u001b[0m\u001b[0mkwds\u001b[0m\u001b[0;34m)\u001b[0m\u001b[0;34m\u001b[0m\u001b[0;34m\u001b[0m\u001b[0m\n\u001b[0m\u001b[1;32m    886\u001b[0m \u001b[0;34m\u001b[0m\u001b[0m\n\u001b[1;32m    887\u001b[0m       \u001b[0mnew_tracing_count\u001b[0m \u001b[0;34m=\u001b[0m \u001b[0mself\u001b[0m\u001b[0;34m.\u001b[0m\u001b[0mexperimental_get_tracing_count\u001b[0m\u001b[0;34m(\u001b[0m\u001b[0;34m)\u001b[0m\u001b[0;34m\u001b[0m\u001b[0;34m\u001b[0m\u001b[0m\n",
      "\u001b[0;32m~/miniforge3/envs/tf/lib/python3.9/site-packages/tensorflow/python/eager/def_function.py\u001b[0m in \u001b[0;36m_call\u001b[0;34m(self, *args, **kwds)\u001b[0m\n\u001b[1;32m    915\u001b[0m       \u001b[0;31m# In this case we have created variables on the first call, so we run the\u001b[0m\u001b[0;34m\u001b[0m\u001b[0;34m\u001b[0m\u001b[0m\n\u001b[1;32m    916\u001b[0m       \u001b[0;31m# defunned version which is guaranteed to never create variables.\u001b[0m\u001b[0;34m\u001b[0m\u001b[0;34m\u001b[0m\u001b[0m\n\u001b[0;32m--> 917\u001b[0;31m       \u001b[0;32mreturn\u001b[0m \u001b[0mself\u001b[0m\u001b[0;34m.\u001b[0m\u001b[0m_stateless_fn\u001b[0m\u001b[0;34m(\u001b[0m\u001b[0;34m*\u001b[0m\u001b[0margs\u001b[0m\u001b[0;34m,\u001b[0m \u001b[0;34m**\u001b[0m\u001b[0mkwds\u001b[0m\u001b[0;34m)\u001b[0m  \u001b[0;31m# pylint: disable=not-callable\u001b[0m\u001b[0;34m\u001b[0m\u001b[0;34m\u001b[0m\u001b[0m\n\u001b[0m\u001b[1;32m    918\u001b[0m     \u001b[0;32melif\u001b[0m \u001b[0mself\u001b[0m\u001b[0;34m.\u001b[0m\u001b[0m_stateful_fn\u001b[0m \u001b[0;32mis\u001b[0m \u001b[0;32mnot\u001b[0m \u001b[0;32mNone\u001b[0m\u001b[0;34m:\u001b[0m\u001b[0;34m\u001b[0m\u001b[0;34m\u001b[0m\u001b[0m\n\u001b[1;32m    919\u001b[0m       \u001b[0;31m# Release the lock early so that multiple threads can perform the call\u001b[0m\u001b[0;34m\u001b[0m\u001b[0;34m\u001b[0m\u001b[0m\n",
      "\u001b[0;32m~/miniforge3/envs/tf/lib/python3.9/site-packages/tensorflow/python/eager/function.py\u001b[0m in \u001b[0;36m__call__\u001b[0;34m(self, *args, **kwargs)\u001b[0m\n\u001b[1;32m   3037\u001b[0m       (graph_function,\n\u001b[1;32m   3038\u001b[0m        filtered_flat_args) = self._maybe_define_function(args, kwargs)\n\u001b[0;32m-> 3039\u001b[0;31m     return graph_function._call_flat(\n\u001b[0m\u001b[1;32m   3040\u001b[0m         filtered_flat_args, captured_inputs=graph_function.captured_inputs)  # pylint: disable=protected-access\n\u001b[1;32m   3041\u001b[0m \u001b[0;34m\u001b[0m\u001b[0m\n",
      "\u001b[0;32m~/miniforge3/envs/tf/lib/python3.9/site-packages/tensorflow/python/eager/function.py\u001b[0m in \u001b[0;36m_call_flat\u001b[0;34m(self, args, captured_inputs, cancellation_manager)\u001b[0m\n\u001b[1;32m   1961\u001b[0m         and executing_eagerly):\n\u001b[1;32m   1962\u001b[0m       \u001b[0;31m# No tape is watching; skip to running the function.\u001b[0m\u001b[0;34m\u001b[0m\u001b[0;34m\u001b[0m\u001b[0m\n\u001b[0;32m-> 1963\u001b[0;31m       return self._build_call_outputs(self._inference_function.call(\n\u001b[0m\u001b[1;32m   1964\u001b[0m           ctx, args, cancellation_manager=cancellation_manager))\n\u001b[1;32m   1965\u001b[0m     forward_backward = self._select_forward_and_backward_functions(\n",
      "\u001b[0;32m~/miniforge3/envs/tf/lib/python3.9/site-packages/tensorflow/python/eager/function.py\u001b[0m in \u001b[0;36mcall\u001b[0;34m(self, ctx, args, cancellation_manager)\u001b[0m\n\u001b[1;32m    589\u001b[0m       \u001b[0;32mwith\u001b[0m \u001b[0m_InterpolateFunctionError\u001b[0m\u001b[0;34m(\u001b[0m\u001b[0mself\u001b[0m\u001b[0;34m)\u001b[0m\u001b[0;34m:\u001b[0m\u001b[0;34m\u001b[0m\u001b[0;34m\u001b[0m\u001b[0m\n\u001b[1;32m    590\u001b[0m         \u001b[0;32mif\u001b[0m \u001b[0mcancellation_manager\u001b[0m \u001b[0;32mis\u001b[0m \u001b[0;32mNone\u001b[0m\u001b[0;34m:\u001b[0m\u001b[0;34m\u001b[0m\u001b[0;34m\u001b[0m\u001b[0m\n\u001b[0;32m--> 591\u001b[0;31m           outputs = execute.execute(\n\u001b[0m\u001b[1;32m    592\u001b[0m               \u001b[0mstr\u001b[0m\u001b[0;34m(\u001b[0m\u001b[0mself\u001b[0m\u001b[0;34m.\u001b[0m\u001b[0msignature\u001b[0m\u001b[0;34m.\u001b[0m\u001b[0mname\u001b[0m\u001b[0;34m)\u001b[0m\u001b[0;34m,\u001b[0m\u001b[0;34m\u001b[0m\u001b[0;34m\u001b[0m\u001b[0m\n\u001b[1;32m    593\u001b[0m               \u001b[0mnum_outputs\u001b[0m\u001b[0;34m=\u001b[0m\u001b[0mself\u001b[0m\u001b[0;34m.\u001b[0m\u001b[0m_num_outputs\u001b[0m\u001b[0;34m,\u001b[0m\u001b[0;34m\u001b[0m\u001b[0;34m\u001b[0m\u001b[0m\n",
      "\u001b[0;32m~/miniforge3/envs/tf/lib/python3.9/site-packages/tensorflow/python/eager/execute.py\u001b[0m in \u001b[0;36mquick_execute\u001b[0;34m(op_name, num_outputs, inputs, attrs, ctx, name)\u001b[0m\n\u001b[1;32m     57\u001b[0m   \u001b[0;32mtry\u001b[0m\u001b[0;34m:\u001b[0m\u001b[0;34m\u001b[0m\u001b[0;34m\u001b[0m\u001b[0m\n\u001b[1;32m     58\u001b[0m     \u001b[0mctx\u001b[0m\u001b[0;34m.\u001b[0m\u001b[0mensure_initialized\u001b[0m\u001b[0;34m(\u001b[0m\u001b[0;34m)\u001b[0m\u001b[0;34m\u001b[0m\u001b[0;34m\u001b[0m\u001b[0m\n\u001b[0;32m---> 59\u001b[0;31m     tensors = pywrap_tfe.TFE_Py_Execute(ctx._handle, device_name, op_name,\n\u001b[0m\u001b[1;32m     60\u001b[0m                                         inputs, attrs, num_outputs)\n\u001b[1;32m     61\u001b[0m   \u001b[0;32mexcept\u001b[0m \u001b[0mcore\u001b[0m\u001b[0;34m.\u001b[0m\u001b[0m_NotOkStatusException\u001b[0m \u001b[0;32mas\u001b[0m \u001b[0me\u001b[0m\u001b[0;34m:\u001b[0m\u001b[0;34m\u001b[0m\u001b[0;34m\u001b[0m\u001b[0m\n",
      "\u001b[0;31mKeyboardInterrupt\u001b[0m: "
     ]
    }
   ],
   "source": [
    "# Pure random search.\n",
    "np.random.seed(7)\n",
    "val_accuracy = 0.0\n",
    "for i in range(CANDIDATE_EVALUATIONS):\n",
    "    print(f'\\nCurrent Iteration: {i + 1} of {CANDIDATE_EVALUATIONS}')\n",
    "    valid_model = False\n",
    "    while(valid_model == False):\n",
    "        model_definition = generate_model_definition()\n",
    "        acc = create_and_evaluate_model(model_definition)\n",
    "        if acc > 0.0:\n",
    "            valid_model = True\n",
    "    if acc > val_accuracy:\n",
    "        best_model = model_definition\n",
    "        val_accuracy = acc\n",
    "    print('Random search, best accuracy: %5.2f' %val_accuracy)\n"
   ]
  },
  {
   "cell_type": "markdown",
   "metadata": {},
   "source": [
    "The next step is to implement the hill climbing algorithm (see book for details). This is done in the next code snippet. We create a helper method that randomly adjusts one of the parameters slightly to move an existing model into a neighboring model in the allowed search space. The first for loop determines the index of the boundary between the bottom (non-dense) and top (dense) layers. The next step is to determine whether to increase or decrease the capacity of the model. This is followed by determining whether to add/remove a layer or tweak parameters of an existing layer. Much of the logic is there to ensure that the modified model still stays within the boundaries of what is a legal model.\n",
    "\n",
    "The actual hill climbing algorithm is implemented at the bottom of the code snippet. It assumes an initial model and gradually tweaks it in the direction that improves prediction accuracy. The implemented version of the algorithm is known as stochastic hill climbing. A parameter is modified at random, and if the resulting model is better than the previously best-known model, the change is kept. Otherwise, it is reverted, and another tweak is tried. The given implementation assumes that the hill climbing algorithm is run after doing random search, so there is a promising model to start from.\n"
   ]
  },
  {
   "cell_type": "code",
   "execution_count": null,
   "metadata": {},
   "outputs": [],
   "source": [
    "# Helper method for hill climbing and evolutionary algorithm.\n",
    "def tweak_model(model_definition):\n",
    "    layer_num = np.random.randint(0, len(model_definition))\n",
    "    last_layer = len(model_definition) - 1\n",
    "    for first_dense, layer in enumerate(model_definition):\n",
    "        if layer['layer_type'] == 'DENSE':\n",
    "            break\n",
    "    if np.random.randint(0, 2) == 1:\n",
    "        delta = 1\n",
    "    else:\n",
    "        delta = -1\n",
    "    if np.random.randint(0, 2) == 1:\n",
    "        # Add/remove layer.\n",
    "        if len(model_definition) < 3:\n",
    "            delta = 1 # Layer removal not allowed\n",
    "        if delta == -1:\n",
    "            # Remove layer.\n",
    "            if layer_num == 0 and first_dense == 1:\n",
    "                layer_num += 1 # Require >= 1 non-dense layer\n",
    "            if layer_num == first_dense and layer_num == last_layer:\n",
    "                layer_num -= 1 # Require >= 1 dense layer\n",
    "            del model_definition[layer_num]\n",
    "        else:\n",
    "            # Add layer.\n",
    "            if layer_num < first_dense:\n",
    "                layer_type = layer_types[np.random.randint(1, 3)]\n",
    "            else:\n",
    "                layer_type = 'DENSE'\n",
    "            layer = generate_random_layer(layer_type)\n",
    "            model_definition.insert(layer_num, layer)\n",
    "    else:\n",
    "        # Tweak parameter.\n",
    "        layer = model_definition[layer_num]\n",
    "        layer_type = layer['layer_type']\n",
    "        params = layer_params[layer_type]\n",
    "        param = params[np.random.randint(0, len(params))]\n",
    "        current_val = layer[param]\n",
    "        values = param_values[param]\n",
    "        index = values.index(current_val)\n",
    "        max_index = len(values)\n",
    "        new_val = values[(index + delta) % max_index]\n",
    "        layer[param] = new_val\n",
    "\n",
    "# Hill climbing, starting from best model from random search.\n",
    "model_definition = best_model\n",
    "\n",
    "for i in range(CANDIDATE_EVALUATIONS):\n",
    "    valid_model = False\n",
    "    while(valid_model == False):\n",
    "        old_model_definition = copy.deepcopy(model_definition)\n",
    "        tweak_model(model_definition)\n",
    "        acc = create_and_evaluate_model(model_definition)\n",
    "        if acc > 0.0:\n",
    "            valid_model = True\n",
    "        else:\n",
    "            model_definition = old_model_definition\n",
    "    if acc > val_accuracy:\n",
    "        best_model = copy.deepcopy(model_definition)\n",
    "        val_accuracy = acc\n",
    "    else:\n",
    "        model_definition = old_model_definition\n",
    "    print('Hill climbing, best accuracy: %5.2f' %val_accuracy)\n"
   ]
  },
  {
   "cell_type": "markdown",
   "metadata": {},
   "source": [
    "For both the random search algorithm and the hill climbing algorithm, our evaluation strategy was to evaluate each solution for only three epochs. We made the assumption that the resulting validation error would be a good indicator of how well the model would perform after more training. To get a more accurate evaluation of how well the best model actually performs, our final code snippet evaluates the best model for 20 epochs.\n"
   ]
  },
  {
   "cell_type": "code",
   "execution_count": null,
   "metadata": {},
   "outputs": [],
   "source": [
    "# Evaluate final model for larger number of epochs.\n",
    "model = create_model(best_model)\n",
    "model.summary()\n",
    "model.compile(loss='categorical_crossentropy',\n",
    "              optimizer='adam', metrics=['accuracy'])\n",
    "history = model.fit(\n",
    "    train_images, train_labels, validation_data =\n",
    "    (test_images, test_labels), epochs=FINAL_EPOCHS, batch_size=64,\n",
    "    verbose=2, shuffle=True)\n"
   ]
  }
 ],
 "metadata": {
  "interpreter": {
   "hash": "654cdb963cc6b3f9c9ad4d62d09c9ef98b5857a7ccb19d00cd012c39881c0f63"
  },
  "kernelspec": {
   "display_name": "Python 3.9.7 64-bit ('tf': conda)",
   "name": "python3"
  },
  "language_info": {
   "codemirror_mode": {
    "name": "ipython",
    "version": 3
   },
   "file_extension": ".py",
   "mimetype": "text/x-python",
   "name": "python",
   "nbconvert_exporter": "python",
   "pygments_lexer": "ipython3",
   "version": "3.9.7"
  }
 },
 "nbformat": 4,
 "nbformat_minor": 2
}
