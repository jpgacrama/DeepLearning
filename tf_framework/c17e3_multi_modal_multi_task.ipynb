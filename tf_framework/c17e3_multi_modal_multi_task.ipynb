{
 "cells": [
  {
   "cell_type": "code",
   "execution_count": 1,
   "metadata": {},
   "outputs": [
    {
     "data": {
      "text/plain": [
       "'\\nThe MIT License (MIT)\\nCopyright (c) 2021 NVIDIA\\nPermission is hereby granted, free of charge, to any person obtaining a copy of\\nthis software and associated documentation files (the \"Software\"), to deal in\\nthe Software without restriction, including without limitation the rights to\\nuse, copy, modify, merge, publish, distribute, sublicense, and/or sell copies of\\nthe Software, and to permit persons to whom the Software is furnished to do so,\\nsubject to the following conditions:\\nThe above copyright notice and this permission notice shall be included in all\\ncopies or substantial portions of the Software.\\nTHE SOFTWARE IS PROVIDED \"AS IS\", WITHOUT WARRANTY OF ANY KIND, EXPRESS OR\\nIMPLIED, INCLUDING BUT NOT LIMITED TO THE WARRANTIES OF MERCHANTABILITY, FITNESS\\nFOR A PARTICULAR PURPOSE AND NONINFRINGEMENT. IN NO EVENT SHALL THE AUTHORS OR\\nCOPYRIGHT HOLDERS BE LIABLE FOR ANY CLAIM, DAMAGES OR OTHER LIABILITY, WHETHER\\nIN AN ACTION OF CONTRACT, TORT OR OTHERWISE, ARISING FROM, OUT OF OR IN\\nCONNECTION WITH THE SOFTWARE OR THE USE OR OTHER DEALINGS IN THE SOFTWARE.\\n'"
      ]
     },
     "execution_count": 1,
     "metadata": {},
     "output_type": "execute_result"
    }
   ],
   "source": [
    "\"\"\"\n",
    "The MIT License (MIT)\n",
    "Copyright (c) 2021 NVIDIA\n",
    "Permission is hereby granted, free of charge, to any person obtaining a copy of\n",
    "this software and associated documentation files (the \"Software\"), to deal in\n",
    "the Software without restriction, including without limitation the rights to\n",
    "use, copy, modify, merge, publish, distribute, sublicense, and/or sell copies of\n",
    "the Software, and to permit persons to whom the Software is furnished to do so,\n",
    "subject to the following conditions:\n",
    "The above copyright notice and this permission notice shall be included in all\n",
    "copies or substantial portions of the Software.\n",
    "THE SOFTWARE IS PROVIDED \"AS IS\", WITHOUT WARRANTY OF ANY KIND, EXPRESS OR\n",
    "IMPLIED, INCLUDING BUT NOT LIMITED TO THE WARRANTIES OF MERCHANTABILITY, FITNESS\n",
    "FOR A PARTICULAR PURPOSE AND NONINFRINGEMENT. IN NO EVENT SHALL THE AUTHORS OR\n",
    "COPYRIGHT HOLDERS BE LIABLE FOR ANY CLAIM, DAMAGES OR OTHER LIABILITY, WHETHER\n",
    "IN AN ACTION OF CONTRACT, TORT OR OTHERWISE, ARISING FROM, OUT OF OR IN\n",
    "CONNECTION WITH THE SOFTWARE OR THE USE OR OTHER DEALINGS IN THE SOFTWARE.\n",
    "\"\"\"\n"
   ]
  },
  {
   "cell_type": "markdown",
   "metadata": {},
   "source": [
    "This code example extends the multimodal network from c17e2_multi_modal with an additional head to build a network that does multitask learning using multimodal inputs. We teach the network to simultaneously do multiclass classification (identify the handwritten digit) and perform a simple question-answering task. The question-answering task is to provide a yes/no answer to a question about the digit in the image. The textual input will look similar to the textual input in c17e2_multi_modal ('upper half', 'lower half', 'odd number', 'even number'). However, instead of correctly describing the digit, the text is chosen randomly and represents a question. The network is then tasked with classifying the image into one of ten classes as well as with determining whether the answer to the question is yes or no (is the statement true or false). More context for this code example can be found in the section \"Programming Example: Multiclass classification and question answering with a single network\" in Chapter 17 in the book Learning Deep Learning by Magnus Ekman (ISBN: 9780137470358).\n",
    "\n",
    "As always, we start with initialization code and loading the dataset.\n"
   ]
  },
  {
   "cell_type": "code",
   "execution_count": 2,
   "metadata": {},
   "outputs": [],
   "source": [
    "import tensorflow as tf\n",
    "from tensorflow import keras\n",
    "from tensorflow.keras.utils import to_categorical\n",
    "from tensorflow.keras.preprocessing.text import Tokenizer\n",
    "from tensorflow.keras.preprocessing.text \\\n",
    "    import text_to_word_sequence\n",
    "from tensorflow.keras.preprocessing.sequence \\\n",
    "    import pad_sequences\n",
    "from tensorflow.keras.layers import Input\n",
    "from tensorflow.keras.layers import Embedding\n",
    "from tensorflow.keras.layers import LSTM\n",
    "from tensorflow.keras.layers import Flatten\n",
    "from tensorflow.keras.layers import Concatenate\n",
    "from tensorflow.keras.layers import Dense\n",
    "from tensorflow.keras.models import Model\n",
    "import numpy as np\n",
    "import logging\n",
    "tf.get_logger().setLevel(logging.ERROR)\n",
    "\n",
    "EPOCHS = 20\n",
    "MAX_WORDS = 8\n",
    "EMBEDDING_WIDTH = 4\n",
    "\n",
    "# Load training and test datasets.\n",
    "mnist = keras.datasets.mnist\n",
    "(train_images, train_labels), (test_images,\n",
    "                               test_labels) = mnist.load_data()\n",
    "\n",
    "# Standardize the data.\n",
    "mean = np.mean(train_images)\n",
    "stddev = np.std(train_images)\n",
    "train_images = (train_images - mean) / stddev\n",
    "test_images = (test_images - mean) / stddev\n"
   ]
  },
  {
   "cell_type": "markdown",
   "metadata": {},
   "source": [
    "The next step is to extend the MNIST dataset with questions and answers. This is done in the next code snippet. The code alternates between the four questions/statements for each training and test example. It then determines whether the answer is yes or no based on the ground truth label.\n"
   ]
  },
  {
   "cell_type": "code",
   "execution_count": 3,
   "metadata": {},
   "outputs": [],
   "source": [
    "# Function to create question and answer text.\n",
    "def create_question_answer(tokenizer, labels):\n",
    "    text = []\n",
    "    answers = np.zeros(len(labels))\n",
    "    for i, label in enumerate(labels):\n",
    "        question_num = i % 4\n",
    "        if question_num == 0:\n",
    "            text.append('lower half')\n",
    "            if label < 5:\n",
    "                answers[i] = 1.0\n",
    "        elif question_num == 1:\n",
    "            text.append('upper half')\n",
    "            if label >= 5:\n",
    "                answers[i] = 1.0\n",
    "        elif question_num == 2:\n",
    "            text.append('even number')\n",
    "            if label % 2 == 0:\n",
    "                answers[i] = 1.0\n",
    "        elif question_num == 3:\n",
    "            text.append('odd number')\n",
    "            if label % 2 == 1:\n",
    "                answers[i] = 1.0\n",
    "    text = tokenizer.texts_to_sequences(text)\n",
    "    text = pad_sequences(text)\n",
    "    return text, answers\n",
    "\n",
    "# Create second modality for training and test set.\n",
    "vocabulary = ['lower', 'upper', 'half', 'even', 'odd', 'number']\n",
    "tokenizer = Tokenizer(num_words=MAX_WORDS)\n",
    "tokenizer.fit_on_texts(vocabulary)\n",
    "train_text, train_answers = create_question_answer(tokenizer,\n",
    "                                                   train_labels)\n",
    "test_text, test_answers = create_question_answer(tokenizer,\n",
    "                                                 test_labels)\n"
   ]
  },
  {
   "cell_type": "markdown",
   "metadata": {},
   "source": [
    "The next code snippet creates the network. Most of the network is identical to the programming example for the multimodal network. The key difference is that in parallel with the ten-unit output layer for multiclass classification, there is a one-unit output layer for binary classification. Given that there are two separate outputs, we also need to supply two separate loss functions. In addition, we supply weights for these two loss functions to indicate how to weigh the two into a single loss function for training the network. The weights should be treated like any other hyperparameter. A reasonable starting point is to have the same weight for both losses, so we use 50/50. Finally, when calling the fit method, we must provide ground truth for both heads of the model.\n"
   ]
  },
  {
   "cell_type": "code",
   "execution_count": 5,
   "metadata": {},
   "outputs": [
    {
     "name": "stdout",
     "output_type": "stream",
     "text": [
      "Model: \"model_1\"\n",
      "__________________________________________________________________________________________________\n",
      "Layer (type)                    Output Shape         Param #     Connected to                     \n",
      "==================================================================================================\n",
      "input_4 (InputLayer)            [(None, 2)]          0                                            \n",
      "__________________________________________________________________________________________________\n",
      "embedding_1 (Embedding)         (None, 2, 4)         32          input_4[0][0]                    \n",
      "__________________________________________________________________________________________________\n",
      "input_3 (InputLayer)            [(None, 28, 28)]     0                                            \n",
      "__________________________________________________________________________________________________\n",
      "lstm_1 (LSTM)                   (None, 8)            416         embedding_1[0][0]                \n",
      "__________________________________________________________________________________________________\n",
      "flatten_1 (Flatten)             (None, 784)          0           input_3[0][0]                    \n",
      "__________________________________________________________________________________________________\n",
      "concatenate_1 (Concatenate)     (None, 792)          0           lstm_1[0][0]                     \n",
      "                                                                 flatten_1[0][0]                  \n",
      "__________________________________________________________________________________________________\n",
      "dense_3 (Dense)                 (None, 25)           19825       concatenate_1[0][0]              \n",
      "__________________________________________________________________________________________________\n",
      "dense_4 (Dense)                 (None, 10)           260         dense_3[0][0]                    \n",
      "__________________________________________________________________________________________________\n",
      "dense_5 (Dense)                 (None, 1)            26          dense_3[0][0]                    \n",
      "==================================================================================================\n",
      "Total params: 20,559\n",
      "Trainable params: 20,559\n",
      "Non-trainable params: 0\n",
      "__________________________________________________________________________________________________\n",
      "Epoch 1/20\n"
     ]
    },
    {
     "name": "stderr",
     "output_type": "stream",
     "text": [
      "2021-10-20 17:45:06.541223: I tensorflow/core/grappler/optimizers/custom_graph_optimizer_registry.cc:112] Plugin optimizer for device_type GPU is enabled.\n",
      "2021-10-20 17:45:06.652808: I tensorflow/core/grappler/optimizers/custom_graph_optimizer_registry.cc:112] Plugin optimizer for device_type GPU is enabled.\n",
      "2021-10-20 17:45:06.748349: I tensorflow/core/grappler/optimizers/custom_graph_optimizer_registry.cc:112] Plugin optimizer for device_type GPU is enabled.\n",
      "2021-10-20 17:45:20.171383: I tensorflow/core/grappler/optimizers/custom_graph_optimizer_registry.cc:112] Plugin optimizer for device_type GPU is enabled.\n",
      "2021-10-20 17:45:20.224511: I tensorflow/core/grappler/optimizers/custom_graph_optimizer_registry.cc:112] Plugin optimizer for device_type GPU is enabled.\n"
     ]
    },
    {
     "name": "stdout",
     "output_type": "stream",
     "text": [
      "938/938 - 15s - loss: 0.6745 - dense_4_loss: 0.4226 - dense_5_loss: 0.6617 - dense_4_accuracy: 0.8736 - dense_5_accuracy: 0.5912 - val_loss: 0.6709 - val_dense_4_loss: 0.2629 - val_dense_5_loss: 0.7706 - val_dense_4_accuracy: 0.9245 - val_dense_5_accuracy: 0.4933\n",
      "Epoch 2/20\n",
      "938/938 - 14s - loss: 0.5583 - dense_4_loss: 0.2358 - dense_5_loss: 0.6290 - dense_4_accuracy: 0.9312 - dense_5_accuracy: 0.6272 - val_loss: 0.6574 - val_dense_4_loss: 0.2209 - val_dense_5_loss: 0.7813 - val_dense_4_accuracy: 0.9362 - val_dense_5_accuracy: 0.5111\n",
      "Epoch 3/20\n",
      "938/938 - 15s - loss: 0.5118 - dense_4_loss: 0.2016 - dense_5_loss: 0.5872 - dense_4_accuracy: 0.9404 - dense_5_accuracy: 0.6747 - val_loss: 0.5927 - val_dense_4_loss: 0.1995 - val_dense_5_loss: 0.7041 - val_dense_4_accuracy: 0.9417 - val_dense_5_accuracy: 0.5830\n",
      "Epoch 4/20\n",
      "938/938 - 14s - loss: 0.4513 - dense_4_loss: 0.1846 - dense_5_loss: 0.5128 - dense_4_accuracy: 0.9455 - dense_5_accuracy: 0.7365 - val_loss: 0.5662 - val_dense_4_loss: 0.2077 - val_dense_5_loss: 0.6604 - val_dense_4_accuracy: 0.9352 - val_dense_5_accuracy: 0.6386\n",
      "Epoch 5/20\n",
      "938/938 - 14s - loss: 0.4208 - dense_4_loss: 0.1696 - dense_5_loss: 0.4800 - dense_4_accuracy: 0.9492 - dense_5_accuracy: 0.7556 - val_loss: 0.5314 - val_dense_4_loss: 0.1899 - val_dense_5_loss: 0.6234 - val_dense_4_accuracy: 0.9417 - val_dense_5_accuracy: 0.6799\n",
      "Epoch 6/20\n",
      "938/938 - 14s - loss: 0.4036 - dense_4_loss: 0.1577 - dense_5_loss: 0.4639 - dense_4_accuracy: 0.9529 - dense_5_accuracy: 0.7665 - val_loss: 0.5692 - val_dense_4_loss: 0.2046 - val_dense_5_loss: 0.6670 - val_dense_4_accuracy: 0.9367 - val_dense_5_accuracy: 0.6285\n",
      "Epoch 7/20\n",
      "938/938 - 14s - loss: 0.3821 - dense_4_loss: 0.1488 - dense_5_loss: 0.4397 - dense_4_accuracy: 0.9551 - dense_5_accuracy: 0.7827 - val_loss: 0.4935 - val_dense_4_loss: 0.1721 - val_dense_5_loss: 0.5820 - val_dense_4_accuracy: 0.9463 - val_dense_5_accuracy: 0.6982\n",
      "Epoch 8/20\n",
      "938/938 - 14s - loss: 0.3541 - dense_4_loss: 0.1434 - dense_5_loss: 0.4035 - dense_4_accuracy: 0.9564 - dense_5_accuracy: 0.8044 - val_loss: 0.4775 - val_dense_4_loss: 0.1742 - val_dense_5_loss: 0.5577 - val_dense_4_accuracy: 0.9475 - val_dense_5_accuracy: 0.7238\n",
      "Epoch 9/20\n",
      "938/938 - 14s - loss: 0.3477 - dense_4_loss: 0.1390 - dense_5_loss: 0.3974 - dense_4_accuracy: 0.9578 - dense_5_accuracy: 0.8084 - val_loss: 0.4411 - val_dense_4_loss: 0.1707 - val_dense_5_loss: 0.5082 - val_dense_4_accuracy: 0.9492 - val_dense_5_accuracy: 0.7438\n",
      "Epoch 10/20\n",
      "938/938 - 14s - loss: 0.3193 - dense_4_loss: 0.1391 - dense_5_loss: 0.3568 - dense_4_accuracy: 0.9575 - dense_5_accuracy: 0.8383 - val_loss: 0.4302 - val_dense_4_loss: 0.1861 - val_dense_5_loss: 0.4817 - val_dense_4_accuracy: 0.9444 - val_dense_5_accuracy: 0.7790\n",
      "Epoch 11/20\n",
      "938/938 - 14s - loss: 0.2953 - dense_4_loss: 0.1399 - dense_5_loss: 0.3219 - dense_4_accuracy: 0.9573 - dense_5_accuracy: 0.8638 - val_loss: 0.3572 - val_dense_4_loss: 0.1847 - val_dense_5_loss: 0.3784 - val_dense_4_accuracy: 0.9463 - val_dense_5_accuracy: 0.8306\n",
      "Epoch 12/20\n",
      "938/938 - 14s - loss: 0.2618 - dense_4_loss: 0.1396 - dense_5_loss: 0.2743 - dense_4_accuracy: 0.9580 - dense_5_accuracy: 0.8899 - val_loss: 0.3351 - val_dense_4_loss: 0.1930 - val_dense_5_loss: 0.3408 - val_dense_4_accuracy: 0.9452 - val_dense_5_accuracy: 0.8611\n",
      "Epoch 13/20\n",
      "938/938 - 14s - loss: 0.2491 - dense_4_loss: 0.1379 - dense_5_loss: 0.2574 - dense_4_accuracy: 0.9572 - dense_5_accuracy: 0.8959 - val_loss: 0.3075 - val_dense_4_loss: 0.1891 - val_dense_5_loss: 0.3043 - val_dense_4_accuracy: 0.9447 - val_dense_5_accuracy: 0.8841\n",
      "Epoch 14/20\n",
      "938/938 - 14s - loss: 0.2299 - dense_4_loss: 0.1359 - dense_5_loss: 0.2314 - dense_4_accuracy: 0.9579 - dense_5_accuracy: 0.9094 - val_loss: 0.2971 - val_dense_4_loss: 0.1975 - val_dense_5_loss: 0.2834 - val_dense_4_accuracy: 0.9418 - val_dense_5_accuracy: 0.9002\n",
      "Epoch 15/20\n",
      "938/938 - 14s - loss: 0.2279 - dense_4_loss: 0.1338 - dense_5_loss: 0.2300 - dense_4_accuracy: 0.9587 - dense_5_accuracy: 0.9114 - val_loss: 0.3006 - val_dense_4_loss: 0.1852 - val_dense_5_loss: 0.2971 - val_dense_4_accuracy: 0.9471 - val_dense_5_accuracy: 0.8864\n",
      "Epoch 16/20\n",
      "938/938 - 14s - loss: 0.2234 - dense_4_loss: 0.1292 - dense_5_loss: 0.2269 - dense_4_accuracy: 0.9605 - dense_5_accuracy: 0.9097 - val_loss: 0.3367 - val_dense_4_loss: 0.1903 - val_dense_5_loss: 0.3451 - val_dense_4_accuracy: 0.9482 - val_dense_5_accuracy: 0.8526\n",
      "Epoch 17/20\n",
      "938/938 - 14s - loss: 0.2097 - dense_4_loss: 0.1284 - dense_5_loss: 0.2079 - dense_4_accuracy: 0.9601 - dense_5_accuracy: 0.9189 - val_loss: 0.2674 - val_dense_4_loss: 0.1868 - val_dense_5_loss: 0.2486 - val_dense_4_accuracy: 0.9453 - val_dense_5_accuracy: 0.9110\n",
      "Epoch 18/20\n",
      "938/938 - 14s - loss: 0.2010 - dense_4_loss: 0.1242 - dense_5_loss: 0.1984 - dense_4_accuracy: 0.9618 - dense_5_accuracy: 0.9242 - val_loss: 0.2694 - val_dense_4_loss: 0.1841 - val_dense_5_loss: 0.2533 - val_dense_4_accuracy: 0.9476 - val_dense_5_accuracy: 0.9078\n",
      "Epoch 19/20\n",
      "938/938 - 14s - loss: 0.2009 - dense_4_loss: 0.1229 - dense_5_loss: 0.1991 - dense_4_accuracy: 0.9624 - dense_5_accuracy: 0.9222 - val_loss: 0.2761 - val_dense_4_loss: 0.1851 - val_dense_5_loss: 0.2622 - val_dense_4_accuracy: 0.9463 - val_dense_5_accuracy: 0.9084\n",
      "Epoch 20/20\n",
      "938/938 - 14s - loss: 0.1903 - dense_4_loss: 0.1217 - dense_5_loss: 0.1849 - dense_4_accuracy: 0.9631 - dense_5_accuracy: 0.9298 - val_loss: 0.3097 - val_dense_4_loss: 0.1928 - val_dense_5_loss: 0.3048 - val_dense_4_accuracy: 0.9438 - val_dense_5_accuracy: 0.8857\n"
     ]
    }
   ],
   "source": [
    "# Create model with functional API.\n",
    "image_input = Input(shape=(28, 28))\n",
    "text_input = Input(shape=(2, ))\n",
    "\n",
    "# Declare layers.\n",
    "embedding_layer = Embedding(output_dim=EMBEDDING_WIDTH,\n",
    "                            input_dim = MAX_WORDS)\n",
    "lstm_layer = LSTM(8)\n",
    "flatten_layer = Flatten()\n",
    "concat_layer = Concatenate()\n",
    "dense_layer = Dense(25,activation='relu')\n",
    "class_output_layer = Dense(10, activation='softmax')\n",
    "answer_output_layer = Dense(1, activation='sigmoid')\n",
    "\n",
    "# Connect layers.\n",
    "embedding_output = embedding_layer(text_input)\n",
    "lstm_output = lstm_layer(embedding_output)\n",
    "flatten_output = flatten_layer(image_input)\n",
    "concat_output = concat_layer([lstm_output, flatten_output])\n",
    "dense_output = dense_layer(concat_output)\n",
    "class_outputs = class_output_layer(dense_output)\n",
    "answer_outputs = answer_output_layer(dense_output)\n",
    "\n",
    "# Build and train model.\n",
    "model = Model([image_input, text_input], [class_outputs,\n",
    "                                          answer_outputs])\n",
    "model.compile(loss=['sparse_categorical_crossentropy',\n",
    "                    'binary_crossentropy'], optimizer='adam',\n",
    "                    metrics=['accuracy'],\n",
    "                    loss_weights = [0.5, 0.6])\n",
    "model.summary()\n",
    "history = model.fit([train_images, train_text],\n",
    "                    [train_labels, train_answers],\n",
    "                    validation_data=([test_images, test_text],\n",
    "                    [test_labels, test_answers]), epochs=EPOCHS,\n",
    "                    batch_size=64, verbose=2, shuffle=True)\n"
   ]
  }
 ],
 "metadata": {
  "interpreter": {
   "hash": "654cdb963cc6b3f9c9ad4d62d09c9ef98b5857a7ccb19d00cd012c39881c0f63"
  },
  "kernelspec": {
   "display_name": "Python 3.9.7 64-bit ('tf': conda)",
   "name": "python3"
  },
  "language_info": {
   "codemirror_mode": {
    "name": "ipython",
    "version": 3
   },
   "file_extension": ".py",
   "mimetype": "text/x-python",
   "name": "python",
   "nbconvert_exporter": "python",
   "pygments_lexer": "ipython3",
   "version": "3.9.7"
  }
 },
 "nbformat": 4,
 "nbformat_minor": 2
}
